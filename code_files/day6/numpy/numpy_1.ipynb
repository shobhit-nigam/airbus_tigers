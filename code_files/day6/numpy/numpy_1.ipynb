{
 "cells": [
  {
   "cell_type": "code",
   "execution_count": 1,
   "id": "6df91e41",
   "metadata": {},
   "outputs": [],
   "source": [
    "listx = [[3, 4, 8], \n",
    "        [2, 6, 7]]"
   ]
  },
  {
   "cell_type": "code",
   "execution_count": 2,
   "id": "3a31f486",
   "metadata": {},
   "outputs": [],
   "source": [
    "import numpy as np"
   ]
  },
  {
   "cell_type": "code",
   "execution_count": 3,
   "id": "847cba3b",
   "metadata": {},
   "outputs": [],
   "source": [
    "na = np.array(listx)"
   ]
  },
  {
   "cell_type": "code",
   "execution_count": 5,
   "id": "5a08d895",
   "metadata": {},
   "outputs": [
    {
     "name": "stdout",
     "output_type": "stream",
     "text": [
      "<class 'numpy.ndarray'>\n"
     ]
    }
   ],
   "source": [
    "print(type(na))"
   ]
  },
  {
   "cell_type": "code",
   "execution_count": 6,
   "id": "c3431278",
   "metadata": {},
   "outputs": [
    {
     "name": "stdout",
     "output_type": "stream",
     "text": [
      "[[3 4 8]\n",
      " [2 6 7]]\n"
     ]
    }
   ],
   "source": [
    "print(na)"
   ]
  },
  {
   "cell_type": "code",
   "execution_count": 7,
   "id": "c39d1225",
   "metadata": {},
   "outputs": [
    {
     "data": {
      "text/plain": [
       "6"
      ]
     },
     "execution_count": 7,
     "metadata": {},
     "output_type": "execute_result"
    }
   ],
   "source": [
    "na[1][1]"
   ]
  },
  {
   "cell_type": "code",
   "execution_count": 9,
   "id": "bc273605",
   "metadata": {},
   "outputs": [
    {
     "data": {
      "text/plain": [
       "2"
      ]
     },
     "execution_count": 9,
     "metadata": {},
     "output_type": "execute_result"
    }
   ],
   "source": [
    "na.ndim"
   ]
  },
  {
   "cell_type": "code",
   "execution_count": 10,
   "id": "e126cba7",
   "metadata": {},
   "outputs": [
    {
     "data": {
      "text/plain": [
       "(2, 3)"
      ]
     },
     "execution_count": 10,
     "metadata": {},
     "output_type": "execute_result"
    }
   ],
   "source": [
    "na.shape"
   ]
  },
  {
   "cell_type": "code",
   "execution_count": 11,
   "id": "86302342",
   "metadata": {},
   "outputs": [
    {
     "data": {
      "text/plain": [
       "6"
      ]
     },
     "execution_count": 11,
     "metadata": {},
     "output_type": "execute_result"
    }
   ],
   "source": [
    "na.size"
   ]
  },
  {
   "cell_type": "code",
   "execution_count": 12,
   "id": "faca090b",
   "metadata": {},
   "outputs": [
    {
     "data": {
      "text/plain": [
       "dtype('int32')"
      ]
     },
     "execution_count": 12,
     "metadata": {},
     "output_type": "execute_result"
    }
   ],
   "source": [
    "na.dtype"
   ]
  },
  {
   "cell_type": "code",
   "execution_count": 14,
   "id": "e9bdac6b",
   "metadata": {},
   "outputs": [],
   "source": [
    "nb = np.array([[3, 4, \"hi\"], [10, 12, \"hello\"]])"
   ]
  },
  {
   "cell_type": "code",
   "execution_count": 15,
   "id": "335c513a",
   "metadata": {},
   "outputs": [
    {
     "name": "stdout",
     "output_type": "stream",
     "text": [
      "[['3' '4' 'hi']\n",
      " ['10' '12' 'hello']]\n"
     ]
    }
   ],
   "source": [
    "print(nb)"
   ]
  },
  {
   "cell_type": "code",
   "execution_count": 16,
   "id": "73a6517b",
   "metadata": {},
   "outputs": [
    {
     "data": {
      "text/plain": [
       "dtype('<U11')"
      ]
     },
     "execution_count": 16,
     "metadata": {},
     "output_type": "execute_result"
    }
   ],
   "source": [
    "nb.dtype"
   ]
  },
  {
   "cell_type": "code",
   "execution_count": 17,
   "id": "075641e8",
   "metadata": {},
   "outputs": [],
   "source": [
    "nc = np.array([10, 20, 30]) "
   ]
  },
  {
   "cell_type": "code",
   "execution_count": 18,
   "id": "eb57366a",
   "metadata": {},
   "outputs": [
    {
     "data": {
      "text/plain": [
       "1"
      ]
     },
     "execution_count": 18,
     "metadata": {},
     "output_type": "execute_result"
    }
   ],
   "source": [
    "nc.ndim"
   ]
  },
  {
   "cell_type": "code",
   "execution_count": 19,
   "id": "23993d54",
   "metadata": {},
   "outputs": [
    {
     "data": {
      "text/plain": [
       "(3,)"
      ]
     },
     "execution_count": 19,
     "metadata": {},
     "output_type": "execute_result"
    }
   ],
   "source": [
    "nc.shape"
   ]
  },
  {
   "cell_type": "code",
   "execution_count": 20,
   "id": "bac0e067",
   "metadata": {},
   "outputs": [],
   "source": [
    "nd = np.zeros((3, 4))"
   ]
  },
  {
   "cell_type": "code",
   "execution_count": 21,
   "id": "e188ef46",
   "metadata": {},
   "outputs": [
    {
     "name": "stdout",
     "output_type": "stream",
     "text": [
      "[[0. 0. 0. 0.]\n",
      " [0. 0. 0. 0.]\n",
      " [0. 0. 0. 0.]]\n"
     ]
    }
   ],
   "source": [
    "print(nd)"
   ]
  },
  {
   "cell_type": "code",
   "execution_count": 22,
   "id": "33c2b74b",
   "metadata": {},
   "outputs": [],
   "source": [
    "ne = np.array([[10, 20, 30], [80, 70, 60]])"
   ]
  },
  {
   "cell_type": "code",
   "execution_count": 23,
   "id": "d89eeaf8",
   "metadata": {},
   "outputs": [
    {
     "name": "stdout",
     "output_type": "stream",
     "text": [
      "[[3 4 8]\n",
      " [2 6 7]]\n"
     ]
    }
   ],
   "source": [
    "print(na)"
   ]
  },
  {
   "cell_type": "code",
   "execution_count": 24,
   "id": "1fd7fd52",
   "metadata": {},
   "outputs": [
    {
     "name": "stdout",
     "output_type": "stream",
     "text": [
      "[[10 20 30]\n",
      " [80 70 60]]\n"
     ]
    }
   ],
   "source": [
    "print(ne)"
   ]
  },
  {
   "cell_type": "code",
   "execution_count": 25,
   "id": "023930a3",
   "metadata": {},
   "outputs": [
    {
     "data": {
      "text/plain": [
       "array([[13, 24, 38],\n",
       "       [82, 76, 67]])"
      ]
     },
     "execution_count": 25,
     "metadata": {},
     "output_type": "execute_result"
    }
   ],
   "source": [
    "na + ne"
   ]
  },
  {
   "cell_type": "code",
   "execution_count": 26,
   "id": "78b6482a",
   "metadata": {},
   "outputs": [
    {
     "data": {
      "text/plain": [
       "array([[ 9, 16, 64],\n",
       "       [ 4, 36, 49]], dtype=int32)"
      ]
     },
     "execution_count": 26,
     "metadata": {},
     "output_type": "execute_result"
    }
   ],
   "source": [
    "na**2"
   ]
  },
  {
   "cell_type": "code",
   "execution_count": 27,
   "id": "e636744d",
   "metadata": {},
   "outputs": [
    {
     "data": {
      "text/plain": [
       "array([[ 0.14112001, -0.7568025 ,  0.98935825],\n",
       "       [ 0.90929743, -0.2794155 ,  0.6569866 ]])"
      ]
     },
     "execution_count": 27,
     "metadata": {},
     "output_type": "execute_result"
    }
   ],
   "source": [
    "np.sin(na) "
   ]
  },
  {
   "cell_type": "code",
   "execution_count": 28,
   "id": "a46204f7",
   "metadata": {},
   "outputs": [
    {
     "name": "stdout",
     "output_type": "stream",
     "text": [
      "[[ 9 16 64]\n",
      " [ 4 36 49]]\n"
     ]
    }
   ],
   "source": [
    "print(na**2)"
   ]
  },
  {
   "cell_type": "code",
   "execution_count": 29,
   "id": "cc3d38e5",
   "metadata": {},
   "outputs": [
    {
     "data": {
      "text/plain": [
       "array([[3, 4, 8],\n",
       "       [2, 6, 7]])"
      ]
     },
     "execution_count": 29,
     "metadata": {},
     "output_type": "execute_result"
    }
   ],
   "source": [
    "na"
   ]
  },
  {
   "cell_type": "code",
   "execution_count": 30,
   "id": "53af80ee",
   "metadata": {},
   "outputs": [],
   "source": [
    "nf = np.arange(9)"
   ]
  },
  {
   "cell_type": "code",
   "execution_count": 31,
   "id": "4885f024",
   "metadata": {},
   "outputs": [
    {
     "name": "stdout",
     "output_type": "stream",
     "text": [
      "[0 1 2 3 4 5 6 7 8]\n"
     ]
    }
   ],
   "source": [
    "print(nf)"
   ]
  },
  {
   "cell_type": "code",
   "execution_count": 33,
   "id": "6c304912",
   "metadata": {},
   "outputs": [],
   "source": [
    "nf = np.arange(9)"
   ]
  },
  {
   "cell_type": "code",
   "execution_count": 34,
   "id": "2d858b98",
   "metadata": {},
   "outputs": [
    {
     "data": {
      "text/plain": [
       "(2, 3)"
      ]
     },
     "execution_count": 34,
     "metadata": {},
     "output_type": "execute_result"
    }
   ],
   "source": [
    "na.shape"
   ]
  },
  {
   "cell_type": "code",
   "execution_count": 35,
   "id": "4ab50d63",
   "metadata": {},
   "outputs": [
    {
     "data": {
      "text/plain": [
       "array([[3],\n",
       "       [4],\n",
       "       [8],\n",
       "       [2],\n",
       "       [6],\n",
       "       [7]])"
      ]
     },
     "execution_count": 35,
     "metadata": {},
     "output_type": "execute_result"
    }
   ],
   "source": [
    "na.reshape(6, 1)"
   ]
  },
  {
   "cell_type": "code",
   "execution_count": 36,
   "id": "69e9e838",
   "metadata": {},
   "outputs": [
    {
     "data": {
      "text/plain": [
       "array([[3, 4, 8],\n",
       "       [2, 6, 7]])"
      ]
     },
     "execution_count": 36,
     "metadata": {},
     "output_type": "execute_result"
    }
   ],
   "source": [
    "na"
   ]
  },
  {
   "cell_type": "code",
   "execution_count": 37,
   "id": "b4d031ca",
   "metadata": {},
   "outputs": [],
   "source": [
    "ng = np.arange(9).reshape(3,3)"
   ]
  },
  {
   "cell_type": "code",
   "execution_count": 38,
   "id": "203b749b",
   "metadata": {},
   "outputs": [
    {
     "name": "stdout",
     "output_type": "stream",
     "text": [
      "[[0 1 2]\n",
      " [3 4 5]\n",
      " [6 7 8]]\n"
     ]
    }
   ],
   "source": [
    "print(ng)"
   ]
  },
  {
   "cell_type": "code",
   "execution_count": 41,
   "id": "932bd240",
   "metadata": {},
   "outputs": [],
   "source": [
    "nh = np.array([[11, 17, 19], [16, 20, 10], [12, 24, 38]])"
   ]
  },
  {
   "cell_type": "code",
   "execution_count": 42,
   "id": "5a6b9e42",
   "metadata": {},
   "outputs": [
    {
     "name": "stdout",
     "output_type": "stream",
     "text": [
      "[[11 17 19]\n",
      " [16 20 10]\n",
      " [12 24 38]]\n"
     ]
    }
   ],
   "source": [
    "print(nh)"
   ]
  },
  {
   "cell_type": "code",
   "execution_count": 44,
   "id": "f10c0afc",
   "metadata": {},
   "outputs": [
    {
     "name": "stdout",
     "output_type": "stream",
     "text": [
      "[[11 17 19]\n",
      " [16 20 10]\n",
      " [12 24 38]]\n",
      "-----\n",
      "10\n"
     ]
    }
   ],
   "source": [
    "print(nh)\n",
    "print(\"-----\")\n",
    "print(nh[1][2])"
   ]
  },
  {
   "cell_type": "code",
   "execution_count": 45,
   "id": "93f03c6b",
   "metadata": {},
   "outputs": [
    {
     "name": "stdout",
     "output_type": "stream",
     "text": [
      "[[11 17 19]\n",
      " [16 20 10]\n",
      " [12 24 38]]\n",
      "-----\n",
      "[11 17 19]\n"
     ]
    }
   ],
   "source": [
    "print(nh)\n",
    "print(\"-----\")\n",
    "print(nh[0]) "
   ]
  },
  {
   "cell_type": "code",
   "execution_count": 46,
   "id": "3ce212e8",
   "metadata": {},
   "outputs": [
    {
     "name": "stdout",
     "output_type": "stream",
     "text": [
      "[[11 17 19]\n",
      " [16 20 10]\n",
      " [12 24 38]]\n",
      "-----\n",
      "[11 17]\n"
     ]
    }
   ],
   "source": [
    "print(nh)\n",
    "print(\"-----\")\n",
    "print(nh[0][:2]) "
   ]
  },
  {
   "cell_type": "code",
   "execution_count": 49,
   "id": "df12e879",
   "metadata": {},
   "outputs": [
    {
     "name": "stdout",
     "output_type": "stream",
     "text": [
      "[[11 17 19]\n",
      " [16 20 10]\n",
      " [12 24 38]]\n",
      "-----\n",
      "[[16 20 10]]\n"
     ]
    }
   ],
   "source": [
    "print(nh)\n",
    "print(\"-----\")\n",
    "print(nh[1:2][:2]) "
   ]
  },
  {
   "cell_type": "code",
   "execution_count": 51,
   "id": "08b16c01",
   "metadata": {},
   "outputs": [
    {
     "name": "stdout",
     "output_type": "stream",
     "text": [
      "[[11 17 19]\n",
      " [16 20 10]\n",
      " [12 24 38]]\n",
      "-----\n",
      "[[16 20]\n",
      " [12 24]]\n"
     ]
    }
   ],
   "source": [
    "print(nh)\n",
    "print(\"-----\")\n",
    "print(nh[1:, :2]) "
   ]
  },
  {
   "cell_type": "code",
   "execution_count": 52,
   "id": "a1d23fc6",
   "metadata": {},
   "outputs": [
    {
     "data": {
      "text/plain": [
       "[24, 36]"
      ]
     },
     "execution_count": 52,
     "metadata": {},
     "output_type": "execute_result"
    }
   ],
   "source": [
    "lista = [12, 24, 36, 48]\n",
    "\n",
    "lista[1]\n",
    "lista[1:3]\n",
    "\n",
    "lista[1:-1]"
   ]
  },
  {
   "cell_type": "code",
   "execution_count": 53,
   "id": "3ab53b14",
   "metadata": {},
   "outputs": [
    {
     "name": "stdout",
     "output_type": "stream",
     "text": [
      "[[11 17 19]\n",
      " [16 20 10]\n",
      " [12 24 38]]\n",
      "-----\n",
      "[[16 20]\n",
      " [12 24]]\n"
     ]
    }
   ],
   "source": [
    "print(nh)\n",
    "print(\"-----\")\n",
    "print(nh[1:, :2]) "
   ]
  },
  {
   "cell_type": "code",
   "execution_count": 54,
   "id": "18ac8318",
   "metadata": {},
   "outputs": [
    {
     "name": "stdout",
     "output_type": "stream",
     "text": [
      "[[11 17 19]\n",
      " [16 20 10]\n",
      " [12 24 38]]\n",
      "-----\n",
      "[[20 10]]\n"
     ]
    }
   ],
   "source": [
    "print(nh)\n",
    "print(\"-----\")\n",
    "print(nh[1:-1, 1:]) "
   ]
  },
  {
   "cell_type": "code",
   "execution_count": 58,
   "id": "4575a6b5",
   "metadata": {},
   "outputs": [
    {
     "data": {
      "text/plain": [
       "array([2.        , 3.33333333, 4.66666667, 6.        ])"
      ]
     },
     "execution_count": 58,
     "metadata": {},
     "output_type": "execute_result"
    }
   ],
   "source": [
    "np.linspace(2, 6, 4)"
   ]
  },
  {
   "cell_type": "code",
   "execution_count": 60,
   "id": "272595cb",
   "metadata": {},
   "outputs": [
    {
     "data": {
      "text/plain": [
       "array([ 0.,  1.,  2.,  3.,  4.,  5.,  6.,  7.,  8.,  9., 10.])"
      ]
     },
     "execution_count": 60,
     "metadata": {},
     "output_type": "execute_result"
    }
   ],
   "source": [
    "np.linspace(0, 10, 11)"
   ]
  },
  {
   "cell_type": "code",
   "execution_count": 61,
   "id": "6fb273ee",
   "metadata": {},
   "outputs": [
    {
     "data": {
      "text/plain": [
       "1.8571428571428572"
      ]
     },
     "execution_count": 61,
     "metadata": {},
     "output_type": "execute_result"
    }
   ],
   "source": [
    "13/7\n",
    "#round(13/7)"
   ]
  },
  {
   "cell_type": "code",
   "execution_count": 62,
   "id": "16e32645",
   "metadata": {},
   "outputs": [
    {
     "data": {
      "text/plain": [
       "1.8571"
      ]
     },
     "execution_count": 62,
     "metadata": {},
     "output_type": "execute_result"
    }
   ],
   "source": [
    "round(13/7, 4)"
   ]
  },
  {
   "cell_type": "code",
   "execution_count": 63,
   "id": "b01990bc",
   "metadata": {},
   "outputs": [
    {
     "name": "stdout",
     "output_type": "stream",
     "text": [
      "[[3 4 8]\n",
      " [2 6 7]]\n"
     ]
    }
   ],
   "source": [
    "print(na)"
   ]
  },
  {
   "cell_type": "code",
   "execution_count": 64,
   "id": "d0e52404",
   "metadata": {},
   "outputs": [],
   "source": [
    "ni = na > 4"
   ]
  },
  {
   "cell_type": "code",
   "execution_count": 65,
   "id": "808cc394",
   "metadata": {},
   "outputs": [
    {
     "name": "stdout",
     "output_type": "stream",
     "text": [
      "<class 'numpy.ndarray'>\n"
     ]
    }
   ],
   "source": [
    "print(type(ni))"
   ]
  },
  {
   "cell_type": "code",
   "execution_count": 66,
   "id": "2cfae0ca",
   "metadata": {},
   "outputs": [
    {
     "name": "stdout",
     "output_type": "stream",
     "text": [
      "[[False False  True]\n",
      " [False  True  True]]\n"
     ]
    }
   ],
   "source": [
    "print(ni)"
   ]
  },
  {
   "cell_type": "code",
   "execution_count": 67,
   "id": "349d33bf",
   "metadata": {},
   "outputs": [
    {
     "data": {
      "text/plain": [
       "True"
      ]
     },
     "execution_count": 67,
     "metadata": {},
     "output_type": "execute_result"
    }
   ],
   "source": [
    "10 > 4"
   ]
  },
  {
   "cell_type": "code",
   "execution_count": 70,
   "id": "55ec4c54",
   "metadata": {},
   "outputs": [
    {
     "data": {
      "text/plain": [
       "array([[0, 2],\n",
       "       [1, 1],\n",
       "       [1, 2]], dtype=int64)"
      ]
     },
     "execution_count": 70,
     "metadata": {},
     "output_type": "execute_result"
    }
   ],
   "source": [
    "np.transpose((na > 4).nonzero())"
   ]
  },
  {
   "cell_type": "code",
   "execution_count": 71,
   "id": "e906679c",
   "metadata": {},
   "outputs": [
    {
     "data": {
      "text/plain": [
       "(array([0, 1, 1], dtype=int64), array([2, 1, 2], dtype=int64))"
      ]
     },
     "execution_count": 71,
     "metadata": {},
     "output_type": "execute_result"
    }
   ],
   "source": [
    "(na > 4).nonzero()"
   ]
  },
  {
   "cell_type": "code",
   "execution_count": 72,
   "id": "a638fe84",
   "metadata": {},
   "outputs": [
    {
     "data": {
      "text/plain": [
       "array([[0, 2],\n",
       "       [1, 1],\n",
       "       [1, 2]], dtype=int64)"
      ]
     },
     "execution_count": 72,
     "metadata": {},
     "output_type": "execute_result"
    }
   ],
   "source": [
    "np.argwhere(na>4)"
   ]
  },
  {
   "cell_type": "code",
   "execution_count": 73,
   "id": "e6c6ede5",
   "metadata": {},
   "outputs": [
    {
     "name": "stdout",
     "output_type": "stream",
     "text": [
      "[[0 2]\n",
      " [1 1]\n",
      " [1 2]]\n"
     ]
    }
   ],
   "source": [
    "print(np.argwhere(na>4))"
   ]
  },
  {
   "cell_type": "code",
   "execution_count": null,
   "id": "1b4bb744",
   "metadata": {},
   "outputs": [],
   "source": []
  }
 ],
 "metadata": {
  "kernelspec": {
   "display_name": "Python 3 (ipykernel)",
   "language": "python",
   "name": "python3"
  },
  "language_info": {
   "codemirror_mode": {
    "name": "ipython",
    "version": 3
   },
   "file_extension": ".py",
   "mimetype": "text/x-python",
   "name": "python",
   "nbconvert_exporter": "python",
   "pygments_lexer": "ipython3",
   "version": "3.9.7"
  }
 },
 "nbformat": 4,
 "nbformat_minor": 5
}
