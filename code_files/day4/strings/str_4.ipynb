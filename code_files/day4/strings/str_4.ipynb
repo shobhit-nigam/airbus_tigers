{
 "cells": [
  {
   "cell_type": "code",
   "execution_count": 1,
   "id": "a3e6ca9b",
   "metadata": {},
   "outputs": [],
   "source": [
    "stra = \"durai/nidhin\""
   ]
  },
  {
   "cell_type": "code",
   "execution_count": 2,
   "id": "943fce73",
   "metadata": {},
   "outputs": [
    {
     "name": "stdout",
     "output_type": "stream",
     "text": [
      "durai/nidhin\n"
     ]
    }
   ],
   "source": [
    "print(stra)"
   ]
  },
  {
   "cell_type": "code",
   "execution_count": 3,
   "id": "f7a00030",
   "metadata": {},
   "outputs": [],
   "source": [
    "# new line \\n\n",
    "stra = \"durai\\nidhin\""
   ]
  },
  {
   "cell_type": "code",
   "execution_count": 4,
   "id": "a65d9ba4",
   "metadata": {},
   "outputs": [
    {
     "name": "stdout",
     "output_type": "stream",
     "text": [
      "durai\n",
      "idhin\n"
     ]
    }
   ],
   "source": [
    "print(stra)"
   ]
  },
  {
   "cell_type": "code",
   "execution_count": 5,
   "id": "b640c5fb",
   "metadata": {},
   "outputs": [],
   "source": [
    "stra = \"durai\\\\nidhin\""
   ]
  },
  {
   "cell_type": "code",
   "execution_count": 6,
   "id": "6a460d95",
   "metadata": {},
   "outputs": [
    {
     "name": "stdout",
     "output_type": "stream",
     "text": [
      "durai\\nidhin\n"
     ]
    }
   ],
   "source": [
    "print(stra)"
   ]
  },
  {
   "cell_type": "code",
   "execution_count": 7,
   "id": "ffb23ced",
   "metadata": {},
   "outputs": [],
   "source": [
    "# raw string \n",
    "stra = r\"durai\\nidhin\" "
   ]
  },
  {
   "cell_type": "code",
   "execution_count": 8,
   "id": "3f8d074f",
   "metadata": {},
   "outputs": [
    {
     "name": "stdout",
     "output_type": "stream",
     "text": [
      "durai\\nidhin\n"
     ]
    }
   ],
   "source": [
    "print(stra)"
   ]
  },
  {
   "cell_type": "code",
   "execution_count": 9,
   "id": "134f8182",
   "metadata": {},
   "outputs": [
    {
     "ename": "SyntaxError",
     "evalue": "EOL while scanning string literal (Temp/ipykernel_6508/2619217799.py, line 1)",
     "output_type": "error",
     "traceback": [
      "\u001b[1;36m  File \u001b[1;32m\"C:\\Users\\Admin\\AppData\\Local\\Temp/ipykernel_6508/2619217799.py\"\u001b[1;36m, line \u001b[1;32m1\u001b[0m\n\u001b[1;33m    strb = \"durai\u001b[0m\n\u001b[1;37m                 ^\u001b[0m\n\u001b[1;31mSyntaxError\u001b[0m\u001b[1;31m:\u001b[0m EOL while scanning string literal\n"
     ]
    }
   ],
   "source": [
    "strb = \"durai\n",
    "nidhin\n",
    "arfath\""
   ]
  },
  {
   "cell_type": "code",
   "execution_count": 10,
   "id": "dfd1f06f",
   "metadata": {},
   "outputs": [],
   "source": [
    "strb = \"\"\"durai\n",
    "nidhin\n",
    "arfath\"\"\" "
   ]
  },
  {
   "cell_type": "code",
   "execution_count": 11,
   "id": "7fd1122e",
   "metadata": {},
   "outputs": [
    {
     "name": "stdout",
     "output_type": "stream",
     "text": [
      "durai\n",
      "nidhin\n",
      "arfath\n"
     ]
    }
   ],
   "source": [
    "print(strb)"
   ]
  },
  {
   "cell_type": "code",
   "execution_count": 12,
   "id": "882318a9",
   "metadata": {},
   "outputs": [],
   "source": [
    "# docstrings "
   ]
  },
  {
   "cell_type": "code",
   "execution_count": 13,
   "id": "b0d548bb",
   "metadata": {},
   "outputs": [],
   "source": [
    "def funcc(la, lb, *args):\n",
    "    print(f\"la = {la} , lb = {lb}, args = {args}\") "
   ]
  },
  {
   "cell_type": "code",
   "execution_count": 14,
   "id": "f3f05fdb",
   "metadata": {},
   "outputs": [
    {
     "name": "stdout",
     "output_type": "stream",
     "text": [
      "la = 100 , lb = 200, args = (300, 400, 500)\n"
     ]
    }
   ],
   "source": [
    "funcc(100, 200, 300, 400, 500)"
   ]
  },
  {
   "cell_type": "code",
   "execution_count": 17,
   "id": "3958a534",
   "metadata": {},
   "outputs": [],
   "source": [
    "age = 30\n",
    "gender = \"male\"\n",
    "earning = 567892.6\n",
    "name = \"john doe\""
   ]
  },
  {
   "cell_type": "code",
   "execution_count": 18,
   "id": "3feab483",
   "metadata": {},
   "outputs": [],
   "source": [
    "# formatted \n",
    "data = f\"{name} earns {earning} and is {age} years old\""
   ]
  },
  {
   "cell_type": "code",
   "execution_count": 19,
   "id": "07ec5c4f",
   "metadata": {},
   "outputs": [
    {
     "name": "stdout",
     "output_type": "stream",
     "text": [
      "john doe earns 567892.6 and is 30 years old\n"
     ]
    }
   ],
   "source": [
    "print(data)"
   ]
  },
  {
   "cell_type": "code",
   "execution_count": 20,
   "id": "660f231c",
   "metadata": {},
   "outputs": [],
   "source": [
    "def stats_seq(la):\n",
    "    return sum(la), len(la), sum(la)/len(la)"
   ]
  },
  {
   "cell_type": "code",
   "execution_count": 21,
   "id": "a60da5f4",
   "metadata": {},
   "outputs": [],
   "source": [
    "listx = [10, 40, 50]"
   ]
  },
  {
   "cell_type": "code",
   "execution_count": 22,
   "id": "54732f53",
   "metadata": {},
   "outputs": [
    {
     "name": "stdout",
     "output_type": "stream",
     "text": [
      "the sum, length and average of [10, 40, 50] are (100, 3, 33.333333333333336)\n"
     ]
    }
   ],
   "source": [
    "print(f\"the sum, length and average of {listx} are {stats_seq(listx)}\")"
   ]
  },
  {
   "cell_type": "code",
   "execution_count": null,
   "id": "be41d126",
   "metadata": {},
   "outputs": [],
   "source": []
  }
 ],
 "metadata": {
  "kernelspec": {
   "display_name": "Python 3 (ipykernel)",
   "language": "python",
   "name": "python3"
  },
  "language_info": {
   "codemirror_mode": {
    "name": "ipython",
    "version": 3
   },
   "file_extension": ".py",
   "mimetype": "text/x-python",
   "name": "python",
   "nbconvert_exporter": "python",
   "pygments_lexer": "ipython3",
   "version": "3.9.7"
  }
 },
 "nbformat": 4,
 "nbformat_minor": 5
}
