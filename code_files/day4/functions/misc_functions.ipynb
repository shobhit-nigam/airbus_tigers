{
 "cells": [
  {
   "cell_type": "code",
   "execution_count": 1,
   "id": "5f7dec8d",
   "metadata": {},
   "outputs": [
    {
     "name": "stdout",
     "output_type": "stream",
     "text": [
      "55\n",
      "you have entered x = 55\n"
     ]
    }
   ],
   "source": [
    "x = input()\n",
    "\n",
    "print(\"you have entered x =\", x)"
   ]
  },
  {
   "cell_type": "code",
   "execution_count": 2,
   "id": "1dd979f4",
   "metadata": {},
   "outputs": [
    {
     "name": "stdout",
     "output_type": "stream",
     "text": [
      "hello\n",
      "you have entered x = hello\n"
     ]
    }
   ],
   "source": [
    "x = input()\n",
    "\n",
    "print(\"you have entered x =\", x)"
   ]
  },
  {
   "cell_type": "code",
   "execution_count": 3,
   "id": "686ee0a1",
   "metadata": {},
   "outputs": [
    {
     "name": "stdout",
     "output_type": "stream",
     "text": [
      "33\n",
      "you have entered x = 33\n"
     ]
    }
   ],
   "source": [
    "x = input()\n",
    "\n",
    "print(\"you have entered x =\", x)"
   ]
  },
  {
   "cell_type": "code",
   "execution_count": 4,
   "id": "bb65c026",
   "metadata": {},
   "outputs": [
    {
     "name": "stdout",
     "output_type": "stream",
     "text": [
      "<class 'str'>\n"
     ]
    }
   ],
   "source": [
    "print(type(x))"
   ]
  },
  {
   "cell_type": "code",
   "execution_count": 5,
   "id": "e11898bd",
   "metadata": {},
   "outputs": [
    {
     "name": "stdout",
     "output_type": "stream",
     "text": [
      "33\n",
      "you have entered x = 33\n"
     ]
    }
   ],
   "source": [
    "x = int(input())\n",
    "\n",
    "print(\"you have entered x =\", x)"
   ]
  },
  {
   "cell_type": "code",
   "execution_count": 6,
   "id": "403f0f44",
   "metadata": {},
   "outputs": [
    {
     "name": "stdout",
     "output_type": "stream",
     "text": [
      "<class 'int'>\n"
     ]
    }
   ],
   "source": [
    "print(type(x))"
   ]
  },
  {
   "cell_type": "code",
   "execution_count": 8,
   "id": "cae0f905",
   "metadata": {},
   "outputs": [],
   "source": [
    "listx = [10, 20, 30, 40]\n",
    "tupa = (33, 5, 10, 67, 23)\n",
    "seta = {\"hi\", \"Hello\", \"howdy\", \"OLa\", \"ola\", \"all is good\"}\n",
    "listy = [0, 33, 5, 9, 11]\n",
    "listz = [0, \"\", [], False, None]"
   ]
  },
  {
   "cell_type": "code",
   "execution_count": 9,
   "id": "11ece8d0",
   "metadata": {},
   "outputs": [
    {
     "data": {
      "text/plain": [
       "10"
      ]
     },
     "execution_count": 9,
     "metadata": {},
     "output_type": "execute_result"
    }
   ],
   "source": [
    "min(listx)"
   ]
  },
  {
   "cell_type": "code",
   "execution_count": 10,
   "id": "49453fbf",
   "metadata": {},
   "outputs": [
    {
     "data": {
      "text/plain": [
       "67"
      ]
     },
     "execution_count": 10,
     "metadata": {},
     "output_type": "execute_result"
    }
   ],
   "source": [
    "max(tupa)"
   ]
  },
  {
   "cell_type": "code",
   "execution_count": 11,
   "id": "42dec7b9",
   "metadata": {},
   "outputs": [
    {
     "data": {
      "text/plain": [
       "[5, 10, 23, 33, 67]"
      ]
     },
     "execution_count": 11,
     "metadata": {},
     "output_type": "execute_result"
    }
   ],
   "source": [
    "sorted(tupa)"
   ]
  },
  {
   "cell_type": "code",
   "execution_count": 12,
   "id": "d936c798",
   "metadata": {},
   "outputs": [
    {
     "data": {
      "text/plain": [
       "(33, 5, 10, 67, 23)"
      ]
     },
     "execution_count": 12,
     "metadata": {},
     "output_type": "execute_result"
    }
   ],
   "source": [
    "tupa "
   ]
  },
  {
   "cell_type": "code",
   "execution_count": 13,
   "id": "82c0b219",
   "metadata": {},
   "outputs": [],
   "source": [
    "tupb = tuple(sorted(tupa)) "
   ]
  },
  {
   "cell_type": "code",
   "execution_count": 14,
   "id": "83956c81",
   "metadata": {},
   "outputs": [
    {
     "data": {
      "text/plain": [
       "(5, 10, 23, 33, 67)"
      ]
     },
     "execution_count": 14,
     "metadata": {},
     "output_type": "execute_result"
    }
   ],
   "source": [
    "tupb"
   ]
  },
  {
   "cell_type": "code",
   "execution_count": 15,
   "id": "2d0247ff",
   "metadata": {},
   "outputs": [
    {
     "data": {
      "text/plain": [
       "'Hello'"
      ]
     },
     "execution_count": 15,
     "metadata": {},
     "output_type": "execute_result"
    }
   ],
   "source": [
    "min(seta)"
   ]
  },
  {
   "cell_type": "code",
   "execution_count": 16,
   "id": "269b8574",
   "metadata": {},
   "outputs": [
    {
     "data": {
      "text/plain": [
       "['Hello', 'OLa', 'all is good', 'hi', 'howdy', 'ola']"
      ]
     },
     "execution_count": 16,
     "metadata": {},
     "output_type": "execute_result"
    }
   ],
   "source": [
    "sorted(seta)"
   ]
  },
  {
   "cell_type": "code",
   "execution_count": 17,
   "id": "ad6f037f",
   "metadata": {},
   "outputs": [],
   "source": [
    "listx = [10, 20, 30, 40]\n",
    "tupa = (33, 5, 10, 67, 23)\n",
    "seta = {\"hi\", \"Hello\", \"howdy\", \"OLa\", \"ola\", \"all is good\"}\n",
    "listy = [0, 33, 5, 9, 11]\n",
    "listz = [0, \"\", [], False, None]"
   ]
  },
  {
   "cell_type": "code",
   "execution_count": 18,
   "id": "44bfaa7d",
   "metadata": {},
   "outputs": [
    {
     "data": {
      "text/plain": [
       "True"
      ]
     },
     "execution_count": 18,
     "metadata": {},
     "output_type": "execute_result"
    }
   ],
   "source": [
    "all(listx)"
   ]
  },
  {
   "cell_type": "code",
   "execution_count": 19,
   "id": "ae12ea82",
   "metadata": {},
   "outputs": [
    {
     "data": {
      "text/plain": [
       "False"
      ]
     },
     "execution_count": 19,
     "metadata": {},
     "output_type": "execute_result"
    }
   ],
   "source": [
    "all(listy)"
   ]
  },
  {
   "cell_type": "code",
   "execution_count": 20,
   "id": "918bd098",
   "metadata": {},
   "outputs": [
    {
     "data": {
      "text/plain": [
       "True"
      ]
     },
     "execution_count": 20,
     "metadata": {},
     "output_type": "execute_result"
    }
   ],
   "source": [
    "any(listy)"
   ]
  },
  {
   "cell_type": "code",
   "execution_count": 21,
   "id": "10cad13f",
   "metadata": {},
   "outputs": [
    {
     "data": {
      "text/plain": [
       "False"
      ]
     },
     "execution_count": 21,
     "metadata": {},
     "output_type": "execute_result"
    }
   ],
   "source": [
    "any(listz)"
   ]
  },
  {
   "cell_type": "code",
   "execution_count": 22,
   "id": "1fd988ab",
   "metadata": {},
   "outputs": [],
   "source": [
    "dicta = {2:45, 6:77, 4:100}"
   ]
  },
  {
   "cell_type": "code",
   "execution_count": 23,
   "id": "a4272bb0",
   "metadata": {},
   "outputs": [
    {
     "data": {
      "text/plain": [
       "12"
      ]
     },
     "execution_count": 23,
     "metadata": {},
     "output_type": "execute_result"
    }
   ],
   "source": [
    "sum(dicta)"
   ]
  },
  {
   "cell_type": "code",
   "execution_count": 24,
   "id": "2fd4a7fe",
   "metadata": {},
   "outputs": [
    {
     "data": {
      "text/plain": [
       "222"
      ]
     },
     "execution_count": 24,
     "metadata": {},
     "output_type": "execute_result"
    }
   ],
   "source": [
    "sum(dicta.values())"
   ]
  },
  {
   "cell_type": "code",
   "execution_count": 25,
   "id": "61a4d727",
   "metadata": {},
   "outputs": [
    {
     "name": "stdout",
     "output_type": "stream",
     "text": [
      "Help on built-in function all in module builtins:\n",
      "\n",
      "all(iterable, /)\n",
      "    Return True if bool(x) is True for all values x in the iterable.\n",
      "    \n",
      "    If the iterable is empty, return True.\n",
      "\n"
     ]
    }
   ],
   "source": [
    "help(all)"
   ]
  },
  {
   "cell_type": "code",
   "execution_count": null,
   "id": "a80b3c19",
   "metadata": {},
   "outputs": [],
   "source": []
  }
 ],
 "metadata": {
  "kernelspec": {
   "display_name": "Python 3 (ipykernel)",
   "language": "python",
   "name": "python3"
  },
  "language_info": {
   "codemirror_mode": {
    "name": "ipython",
    "version": 3
   },
   "file_extension": ".py",
   "mimetype": "text/x-python",
   "name": "python",
   "nbconvert_exporter": "python",
   "pygments_lexer": "ipython3",
   "version": "3.9.7"
  }
 },
 "nbformat": 4,
 "nbformat_minor": 5
}
