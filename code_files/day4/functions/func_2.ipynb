{
 "cells": [
  {
   "cell_type": "code",
   "execution_count": 1,
   "id": "05c43805",
   "metadata": {},
   "outputs": [],
   "source": [
    "def buy(la, lb):\n",
    "    print(\"buy a\", la, lb)"
   ]
  },
  {
   "cell_type": "code",
   "execution_count": 2,
   "id": "75255117",
   "metadata": {},
   "outputs": [
    {
     "name": "stdout",
     "output_type": "stream",
     "text": [
      "buy a red shirt\n"
     ]
    }
   ],
   "source": [
    "buy(\"red\", \"shirt\")"
   ]
  },
  {
   "cell_type": "code",
   "execution_count": 3,
   "id": "087f2488",
   "metadata": {},
   "outputs": [
    {
     "name": "stdout",
     "output_type": "stream",
     "text": [
      "buy a white skirt\n"
     ]
    }
   ],
   "source": [
    "buy(\"white\", \"skirt\")"
   ]
  },
  {
   "cell_type": "code",
   "execution_count": 4,
   "id": "976f56bb",
   "metadata": {},
   "outputs": [],
   "source": [
    "def buy(la, lb=\"shirt\"):\n",
    "    lb = lb.upper()\n",
    "    print(\"buy a\", la, lb)"
   ]
  },
  {
   "cell_type": "code",
   "execution_count": 5,
   "id": "4238dd7e",
   "metadata": {},
   "outputs": [
    {
     "name": "stdout",
     "output_type": "stream",
     "text": [
      "buy a blue SHIRT\n"
     ]
    }
   ],
   "source": [
    "buy(\"blue\")"
   ]
  },
  {
   "cell_type": "code",
   "execution_count": 6,
   "id": "69867e3b",
   "metadata": {},
   "outputs": [
    {
     "name": "stdout",
     "output_type": "stream",
     "text": [
      "buy a blue TEE\n"
     ]
    }
   ],
   "source": [
    "buy(\"blue\", \"tee\")"
   ]
  },
  {
   "cell_type": "code",
   "execution_count": 9,
   "id": "c29d1c7d",
   "metadata": {},
   "outputs": [],
   "source": [
    "def funca(la, lb=88, lc=99):\n",
    "    print(\"la =\", la)\n",
    "    print(\"lb =\", lb)\n",
    "    print(\"lc =\", lc)"
   ]
  },
  {
   "cell_type": "code",
   "execution_count": 10,
   "id": "5b1599ed",
   "metadata": {},
   "outputs": [
    {
     "name": "stdout",
     "output_type": "stream",
     "text": [
      "la = 100\n",
      "lb = 88\n",
      "lc = 99\n"
     ]
    }
   ],
   "source": [
    "funca(100)"
   ]
  },
  {
   "cell_type": "code",
   "execution_count": 11,
   "id": "e0655f6f",
   "metadata": {},
   "outputs": [
    {
     "name": "stdout",
     "output_type": "stream",
     "text": [
      "la = 100\n",
      "lb = 200\n",
      "lc = 99\n"
     ]
    }
   ],
   "source": [
    "funca(100, 200)"
   ]
  },
  {
   "cell_type": "code",
   "execution_count": 12,
   "id": "ca21606b",
   "metadata": {},
   "outputs": [
    {
     "ename": "SyntaxError",
     "evalue": "non-default argument follows default argument (Temp/ipykernel_11220/3118503754.py, line 1)",
     "output_type": "error",
     "traceback": [
      "\u001b[1;36m  File \u001b[1;32m\"C:\\Users\\Admin\\AppData\\Local\\Temp/ipykernel_11220/3118503754.py\"\u001b[1;36m, line \u001b[1;32m1\u001b[0m\n\u001b[1;33m    def funca(la=88, lb, lc=99):\u001b[0m\n\u001b[1;37m                         ^\u001b[0m\n\u001b[1;31mSyntaxError\u001b[0m\u001b[1;31m:\u001b[0m non-default argument follows default argument\n"
     ]
    }
   ],
   "source": [
    "def funca(la=88, lb, lc=99):\n",
    "    print(\"la =\", la)\n",
    "    print(\"lb =\", lb)\n",
    "    print(\"lc =\", lc)"
   ]
  },
  {
   "cell_type": "code",
   "execution_count": 13,
   "id": "4bf9e27a",
   "metadata": {},
   "outputs": [],
   "source": [
    "def funca(la=77, lb=88, lc=99):\n",
    "    print(\"la =\", la)\n",
    "    print(\"lb =\", lb)\n",
    "    print(\"lc =\", lc)"
   ]
  },
  {
   "cell_type": "code",
   "execution_count": 14,
   "id": "20a1c470",
   "metadata": {},
   "outputs": [
    {
     "name": "stdout",
     "output_type": "stream",
     "text": [
      "la = 77\n",
      "lb = 100\n",
      "lc = 99\n"
     ]
    }
   ],
   "source": [
    "funca(lb=100)"
   ]
  },
  {
   "cell_type": "code",
   "execution_count": 15,
   "id": "895d6926",
   "metadata": {},
   "outputs": [
    {
     "name": "stdout",
     "output_type": "stream",
     "text": [
      "hello hi\n"
     ]
    }
   ],
   "source": [
    "print(\"hello\", \"hi\")"
   ]
  },
  {
   "cell_type": "code",
   "execution_count": 16,
   "id": "bb403a45",
   "metadata": {},
   "outputs": [
    {
     "name": "stdout",
     "output_type": "stream",
     "text": [
      "hello 24\n"
     ]
    }
   ],
   "source": [
    "print(\"hello\", 24)"
   ]
  },
  {
   "cell_type": "code",
   "execution_count": 17,
   "id": "e322a291",
   "metadata": {},
   "outputs": [
    {
     "name": "stdout",
     "output_type": "stream",
     "text": [
      "hello-----24\n"
     ]
    }
   ],
   "source": [
    "print(\"hello\", 24, sep=\"-----\")"
   ]
  },
  {
   "cell_type": "code",
   "execution_count": 18,
   "id": "cef7eedd",
   "metadata": {},
   "outputs": [
    {
     "name": "stdout",
     "output_type": "stream",
     "text": [
      "good morning\n",
      "hope you are doing good\n",
      "have a great day\n"
     ]
    }
   ],
   "source": [
    "print(\"good morning\")\n",
    "print(\"hope you are doing good\")\n",
    "print(\"have a great day\")"
   ]
  },
  {
   "cell_type": "code",
   "execution_count": 19,
   "id": "2697e67a",
   "metadata": {},
   "outputs": [
    {
     "name": "stdout",
     "output_type": "stream",
     "text": [
      "good morning, hope you are doing good, have a great day\n"
     ]
    }
   ],
   "source": [
    "print(\"good morning\", end=', ')\n",
    "print(\"hope you are doing good\", end=', ')\n",
    "print(\"have a great day\")"
   ]
  },
  {
   "cell_type": "code",
   "execution_count": 20,
   "id": "ebfdb85d",
   "metadata": {},
   "outputs": [
    {
     "name": "stdout",
     "output_type": "stream",
     "text": [
      "good morning,\n",
      "hope you are doing good, have a great day\n"
     ]
    }
   ],
   "source": [
    "print(\"good morning\", end=',\\n')\n",
    "print(\"hope you are doing good\", end=', ')\n",
    "print(\"have a great day\")"
   ]
  },
  {
   "cell_type": "code",
   "execution_count": 21,
   "id": "41cdb838",
   "metadata": {},
   "outputs": [],
   "source": [
    "def funca(la=77, lb=88, lc=99):\n",
    "    \"launches rockets\"\n",
    "    print(\"la =\", la)\n",
    "    print(\"lb =\", lb)\n",
    "    print(\"lc =\", lc)"
   ]
  },
  {
   "cell_type": "code",
   "execution_count": 22,
   "id": "a8868650",
   "metadata": {},
   "outputs": [
    {
     "name": "stdout",
     "output_type": "stream",
     "text": [
      "Help on function funca in module __main__:\n",
      "\n",
      "funca(la=77, lb=88, lc=99)\n",
      "    launches rockets\n",
      "\n"
     ]
    }
   ],
   "source": [
    "help(funca)"
   ]
  },
  {
   "cell_type": "code",
   "execution_count": 23,
   "id": "7fde2aea",
   "metadata": {},
   "outputs": [],
   "source": [
    "def funca(la=77, lb=88, lc=99):\n",
    "    \"\"\"launches rockets\n",
    "    please pass 3 parameters\n",
    "    If you do not gve the value, then defaults will be assumed\n",
    "    please note that this functon does not return anything\"\"\"\n",
    "    print(\"la =\", la)\n",
    "    print(\"lb =\", lb)\n",
    "    print(\"lc =\", lc)"
   ]
  },
  {
   "cell_type": "code",
   "execution_count": 24,
   "id": "7024ccd7",
   "metadata": {},
   "outputs": [
    {
     "name": "stdout",
     "output_type": "stream",
     "text": [
      "Help on function funca in module __main__:\n",
      "\n",
      "funca(la=77, lb=88, lc=99)\n",
      "    launches rockets\n",
      "    please pass 3 parameters\n",
      "    If you do not gve the value, then defaults will be assumed\n",
      "    please note that this functon does not return anything\n",
      "\n"
     ]
    }
   ],
   "source": [
    "help(funca)"
   ]
  },
  {
   "cell_type": "code",
   "execution_count": 25,
   "id": "226daaaf",
   "metadata": {},
   "outputs": [
    {
     "name": "stdout",
     "output_type": "stream",
     "text": [
      "launches rockets\n",
      "    please pass 3 parameters\n",
      "    If you do not gve the value, then defaults will be assumed\n",
      "    please note that this functon does not return anything\n"
     ]
    }
   ],
   "source": [
    "print(funca.__doc__)"
   ]
  },
  {
   "cell_type": "code",
   "execution_count": 26,
   "id": "3b03fb25",
   "metadata": {},
   "outputs": [],
   "source": [
    "stra = \"hello\""
   ]
  },
  {
   "cell_type": "code",
   "execution_count": 27,
   "id": "0b8de4d5",
   "metadata": {},
   "outputs": [
    {
     "name": "stdout",
     "output_type": "stream",
     "text": [
      "Help on built-in function upper:\n",
      "\n",
      "upper() method of builtins.str instance\n",
      "    Return a copy of the string converted to uppercase.\n",
      "\n"
     ]
    }
   ],
   "source": [
    "help(stra.upper)"
   ]
  },
  {
   "cell_type": "code",
   "execution_count": 29,
   "id": "4b6ca1c3",
   "metadata": {},
   "outputs": [
    {
     "name": "stdout",
     "output_type": "stream",
     "text": [
      "Return a copy of the string converted to uppercase.\n"
     ]
    }
   ],
   "source": [
    "print(stra.upper.__doc__)"
   ]
  },
  {
   "cell_type": "code",
   "execution_count": 30,
   "id": "5090dd39",
   "metadata": {},
   "outputs": [],
   "source": [
    "def funcb(la=77, lb=88, lc=99):\n",
    "    print(\"la =\", la)\n",
    "    print(\"lb =\", lb)\n",
    "    print(\"lc =\", lc)"
   ]
  },
  {
   "cell_type": "code",
   "execution_count": 31,
   "id": "9d74536a",
   "metadata": {},
   "outputs": [
    {
     "name": "stdout",
     "output_type": "stream",
     "text": [
      "Help on function funcb in module __main__:\n",
      "\n",
      "funcb(la=77, lb=88, lc=99)\n",
      "\n"
     ]
    }
   ],
   "source": [
    "help(funcb)"
   ]
  },
  {
   "cell_type": "code",
   "execution_count": 32,
   "id": "6c99b83e",
   "metadata": {},
   "outputs": [],
   "source": [
    "funcb.__doc__ =     \"\"\"life changing function\n",
    "    launches rockets\n",
    "    please pass 3 parameters\n",
    "    If you do not gve the value, then defaults will be assumed\n",
    "    please note that this functon does not return anything\"\"\""
   ]
  },
  {
   "cell_type": "code",
   "execution_count": 33,
   "id": "9a6d8827",
   "metadata": {},
   "outputs": [
    {
     "name": "stdout",
     "output_type": "stream",
     "text": [
      "Help on function funcb in module __main__:\n",
      "\n",
      "funcb(la=77, lb=88, lc=99)\n",
      "    life changing function\n",
      "    launches rockets\n",
      "    please pass 3 parameters\n",
      "    If you do not gve the value, then defaults will be assumed\n",
      "    please note that this functon does not return anything\n",
      "\n"
     ]
    }
   ],
   "source": [
    "help(funcb)"
   ]
  },
  {
   "cell_type": "code",
   "execution_count": 34,
   "id": "2370cb26",
   "metadata": {},
   "outputs": [],
   "source": [
    "def funcc(la, lb, *lc):\n",
    "    print(\"la =\", la)\n",
    "    print(\"lb =\", lb)\n",
    "    print(\"lc =\", lc)    "
   ]
  },
  {
   "cell_type": "code",
   "execution_count": 35,
   "id": "3721f86d",
   "metadata": {},
   "outputs": [
    {
     "name": "stdout",
     "output_type": "stream",
     "text": [
      "la = 100\n",
      "lb = 200\n",
      "lc = ()\n"
     ]
    }
   ],
   "source": [
    "funcc(100, 200)"
   ]
  },
  {
   "cell_type": "code",
   "execution_count": 36,
   "id": "820898c5",
   "metadata": {},
   "outputs": [
    {
     "name": "stdout",
     "output_type": "stream",
     "text": [
      "la = 100\n",
      "lb = 200\n",
      "lc = (300, 400, 500)\n"
     ]
    }
   ],
   "source": [
    "funcc(100, 200, 300, 400, 500)"
   ]
  },
  {
   "cell_type": "code",
   "execution_count": 40,
   "id": "1fe992bf",
   "metadata": {},
   "outputs": [],
   "source": [
    "def funcc(la, lb, *args):\n",
    "    print(\"la =\", la, \", lb =\", lb, \", args =\", args)"
   ]
  },
  {
   "cell_type": "code",
   "execution_count": 41,
   "id": "d32ce882",
   "metadata": {},
   "outputs": [
    {
     "name": "stdout",
     "output_type": "stream",
     "text": [
      "la = 100 , lb = 200 , args = (300, 400, 500)\n"
     ]
    }
   ],
   "source": [
    "funcc(100, 200, 300, 400, 500)"
   ]
  },
  {
   "cell_type": "code",
   "execution_count": null,
   "id": "0c28a456",
   "metadata": {},
   "outputs": [],
   "source": []
  }
 ],
 "metadata": {
  "kernelspec": {
   "display_name": "Python 3 (ipykernel)",
   "language": "python",
   "name": "python3"
  },
  "language_info": {
   "codemirror_mode": {
    "name": "ipython",
    "version": 3
   },
   "file_extension": ".py",
   "mimetype": "text/x-python",
   "name": "python",
   "nbconvert_exporter": "python",
   "pygments_lexer": "ipython3",
   "version": "3.9.7"
  }
 },
 "nbformat": 4,
 "nbformat_minor": 5
}
