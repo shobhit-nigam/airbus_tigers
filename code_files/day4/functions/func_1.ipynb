{
 "cells": [
  {
   "cell_type": "code",
   "execution_count": 1,
   "id": "0e8b84b2",
   "metadata": {},
   "outputs": [],
   "source": [
    "def greet():\n",
    "    print(\"good morning\")\n",
    "    print(\"hope you are doing good\")\n",
    "    print(\"have a great day\")"
   ]
  },
  {
   "cell_type": "code",
   "execution_count": 2,
   "id": "1754398a",
   "metadata": {},
   "outputs": [
    {
     "name": "stdout",
     "output_type": "stream",
     "text": [
      "good morning\n",
      "hope you are doing good\n",
      "have a great day\n"
     ]
    }
   ],
   "source": [
    "greet()"
   ]
  },
  {
   "cell_type": "code",
   "execution_count": 3,
   "id": "652f173c",
   "metadata": {},
   "outputs": [],
   "source": [
    "listx = [23, 5, 7, 10, 11, 45, 67]"
   ]
  },
  {
   "cell_type": "code",
   "execution_count": 7,
   "id": "e2d8a338",
   "metadata": {},
   "outputs": [],
   "source": [
    "def stats_seq(la):\n",
    "    print(\"sum of all elements =\", sum(la))\n",
    "    print(\"length of all elements =\", len(la))\n",
    "    print(\"average of all elements =\", sum(la)/len(la))"
   ]
  },
  {
   "cell_type": "code",
   "execution_count": 5,
   "id": "d08c2c61",
   "metadata": {},
   "outputs": [
    {
     "name": "stdout",
     "output_type": "stream",
     "text": [
      "sum of all elements = 168\n",
      "length of all elements = 7\n",
      "average of all elements = 24.0\n"
     ]
    }
   ],
   "source": [
    "stats_seq(listx)"
   ]
  },
  {
   "cell_type": "code",
   "execution_count": 8,
   "id": "799bd163",
   "metadata": {},
   "outputs": [
    {
     "name": "stdout",
     "output_type": "stream",
     "text": [
      "sum of all elements = 18\n",
      "length of all elements = 3\n",
      "average of all elements = 6.0\n"
     ]
    }
   ],
   "source": [
    "stats_seq({3, 6, 9, 9, 3})"
   ]
  },
  {
   "cell_type": "code",
   "execution_count": 9,
   "id": "a0483eeb",
   "metadata": {},
   "outputs": [
    {
     "name": "stdout",
     "output_type": "stream",
     "text": [
      "sum of all elements = 30\n",
      "length of all elements = 5\n",
      "average of all elements = 6.0\n"
     ]
    }
   ],
   "source": [
    "stats_seq((3, 6, 9, 9, 3))"
   ]
  },
  {
   "cell_type": "code",
   "execution_count": 10,
   "id": "7593cddb",
   "metadata": {},
   "outputs": [
    {
     "ename": "TypeError",
     "evalue": "stats_seq() missing 1 required positional argument: 'la'",
     "output_type": "error",
     "traceback": [
      "\u001b[1;31m---------------------------------------------------------------------------\u001b[0m",
      "\u001b[1;31mTypeError\u001b[0m                                 Traceback (most recent call last)",
      "\u001b[1;32m~\\AppData\\Local\\Temp/ipykernel_10148/3769979631.py\u001b[0m in \u001b[0;36m<module>\u001b[1;34m\u001b[0m\n\u001b[1;32m----> 1\u001b[1;33m \u001b[0mstats_seq\u001b[0m\u001b[1;33m(\u001b[0m\u001b[1;33m)\u001b[0m\u001b[1;33m\u001b[0m\u001b[1;33m\u001b[0m\u001b[0m\n\u001b[0m",
      "\u001b[1;31mTypeError\u001b[0m: stats_seq() missing 1 required positional argument: 'la'"
     ]
    }
   ],
   "source": [
    "stats_seq()"
   ]
  },
  {
   "cell_type": "code",
   "execution_count": 11,
   "id": "4b237ac3",
   "metadata": {},
   "outputs": [
    {
     "name": "stdout",
     "output_type": "stream",
     "text": [
      "Help on method_descriptor:\n",
      "\n",
      "endswith(...)\n",
      "    S.endswith(suffix[, start[, end]]) -> bool\n",
      "    \n",
      "    Return True if S ends with the specified suffix, False otherwise.\n",
      "    With optional start, test S beginning at that position.\n",
      "    With optional end, stop comparing S at that position.\n",
      "    suffix can also be a tuple of strings to try.\n",
      "\n"
     ]
    }
   ],
   "source": [
    "help(str.endswith)"
   ]
  },
  {
   "cell_type": "code",
   "execution_count": 12,
   "id": "0b380090",
   "metadata": {},
   "outputs": [],
   "source": [
    "def buy(la, lb):\n",
    "    print(\"buy a\", la, lb)"
   ]
  },
  {
   "cell_type": "code",
   "execution_count": 13,
   "id": "fff0871b",
   "metadata": {},
   "outputs": [
    {
     "name": "stdout",
     "output_type": "stream",
     "text": [
      "buy a red shirt\n"
     ]
    }
   ],
   "source": [
    "buy(\"red\", \"shirt\")"
   ]
  },
  {
   "cell_type": "code",
   "execution_count": 14,
   "id": "69fdea37",
   "metadata": {},
   "outputs": [
    {
     "name": "stdout",
     "output_type": "stream",
     "text": [
      "buy a green [5, 8, 3]\n"
     ]
    }
   ],
   "source": [
    "buy(\"green\", [5, 8, 3])"
   ]
  },
  {
   "cell_type": "code",
   "execution_count": 15,
   "id": "e09e122f",
   "metadata": {},
   "outputs": [],
   "source": [
    "def cal_avg(la):\n",
    "    if (type(la) is list) or (type(la) is tuple) or (type(la) is set):\n",
    "        return sum(la)/len(la)\n",
    "    else:\n",
    "        print(\"please pass a sequence to the function\")\n",
    "        return None"
   ]
  },
  {
   "cell_type": "code",
   "execution_count": 16,
   "id": "bbfac073",
   "metadata": {},
   "outputs": [
    {
     "data": {
      "text/plain": [
       "24.0"
      ]
     },
     "execution_count": 16,
     "metadata": {},
     "output_type": "execute_result"
    }
   ],
   "source": [
    "cal_avg(listx)"
   ]
  },
  {
   "cell_type": "code",
   "execution_count": 17,
   "id": "805bebc2",
   "metadata": {},
   "outputs": [],
   "source": [
    "x = cal_avg(listx)"
   ]
  },
  {
   "cell_type": "code",
   "execution_count": 18,
   "id": "a983963e",
   "metadata": {},
   "outputs": [
    {
     "name": "stdout",
     "output_type": "stream",
     "text": [
      "please pass a sequence to the function\n"
     ]
    }
   ],
   "source": [
    "cal_avg(100)"
   ]
  },
  {
   "cell_type": "code",
   "execution_count": 19,
   "id": "cce39169",
   "metadata": {},
   "outputs": [],
   "source": [
    "def cal_avg(la):\n",
    "    if (type(la) is list) or (type(la) is tuple) or (type(la) is set):\n",
    "        return sum(la)/len(la)\n",
    "    else:\n",
    "        print(\"please pass a sequence to the function\")"
   ]
  },
  {
   "cell_type": "code",
   "execution_count": 20,
   "id": "c2915a38",
   "metadata": {},
   "outputs": [
    {
     "name": "stdout",
     "output_type": "stream",
     "text": [
      "good morning\n",
      "hope you are doing good\n",
      "have a great day\n"
     ]
    }
   ],
   "source": [
    "x = greet()"
   ]
  },
  {
   "cell_type": "code",
   "execution_count": 21,
   "id": "4583d9c1",
   "metadata": {},
   "outputs": [
    {
     "name": "stdout",
     "output_type": "stream",
     "text": [
      "None\n"
     ]
    }
   ],
   "source": [
    "print(x)"
   ]
  },
  {
   "cell_type": "code",
   "execution_count": 22,
   "id": "1d23d90e",
   "metadata": {},
   "outputs": [],
   "source": [
    "y = cal_avg(listx)"
   ]
  },
  {
   "cell_type": "code",
   "execution_count": 23,
   "id": "51253a17",
   "metadata": {},
   "outputs": [
    {
     "name": "stdout",
     "output_type": "stream",
     "text": [
      "24.0\n"
     ]
    }
   ],
   "source": [
    "print(y)"
   ]
  },
  {
   "cell_type": "code",
   "execution_count": 24,
   "id": "1e087fa4",
   "metadata": {},
   "outputs": [],
   "source": [
    "import sys"
   ]
  },
  {
   "cell_type": "code",
   "execution_count": 25,
   "id": "7409f87d",
   "metadata": {},
   "outputs": [
    {
     "data": {
      "text/plain": [
       "'3.9.7 (default, Sep 16 2021, 16:59:28) [MSC v.1916 64 bit (AMD64)]'"
      ]
     },
     "execution_count": 25,
     "metadata": {},
     "output_type": "execute_result"
    }
   ],
   "source": [
    "sys.version"
   ]
  },
  {
   "cell_type": "code",
   "execution_count": 26,
   "id": "85f1e7e9",
   "metadata": {},
   "outputs": [
    {
     "data": {
      "text/plain": [
       "builtin_function_or_method"
      ]
     },
     "execution_count": 26,
     "metadata": {},
     "output_type": "execute_result"
    }
   ],
   "source": [
    "type(print)"
   ]
  },
  {
   "cell_type": "code",
   "execution_count": 27,
   "id": "25c1e517",
   "metadata": {},
   "outputs": [
    {
     "name": "stdout",
     "output_type": "stream",
     "text": [
      "hi\n"
     ]
    }
   ],
   "source": [
    "__builtins__.print(\"hi\")"
   ]
  },
  {
   "cell_type": "code",
   "execution_count": 32,
   "id": "dc42bdf2",
   "metadata": {},
   "outputs": [
    {
     "data": {
      "text/plain": [
       "'get lost'"
      ]
     },
     "execution_count": 32,
     "metadata": {},
     "output_type": "execute_result"
    }
   ],
   "source": [
    "print(\"new day, new start\")"
   ]
  },
  {
   "cell_type": "code",
   "execution_count": 33,
   "id": "2c266d9b",
   "metadata": {},
   "outputs": [],
   "source": [
    "print = 10"
   ]
  },
  {
   "cell_type": "code",
   "execution_count": 34,
   "id": "d7c5bae9",
   "metadata": {},
   "outputs": [
    {
     "ename": "TypeError",
     "evalue": "'int' object is not callable",
     "output_type": "error",
     "traceback": [
      "\u001b[1;31m---------------------------------------------------------------------------\u001b[0m",
      "\u001b[1;31mTypeError\u001b[0m                                 Traceback (most recent call last)",
      "\u001b[1;32m~\\AppData\\Local\\Temp/ipykernel_10148/776975998.py\u001b[0m in \u001b[0;36m<module>\u001b[1;34m\u001b[0m\n\u001b[1;32m----> 1\u001b[1;33m \u001b[0mprint\u001b[0m\u001b[1;33m(\u001b[0m\u001b[1;34m\"hello\"\u001b[0m\u001b[1;33m)\u001b[0m\u001b[1;33m\u001b[0m\u001b[1;33m\u001b[0m\u001b[0m\n\u001b[0m",
      "\u001b[1;31mTypeError\u001b[0m: 'int' object is not callable"
     ]
    }
   ],
   "source": [
    "print(\"hello\")"
   ]
  },
  {
   "cell_type": "code",
   "execution_count": 35,
   "id": "99a37622",
   "metadata": {},
   "outputs": [
    {
     "data": {
      "text/plain": [
       "30"
      ]
     },
     "execution_count": 35,
     "metadata": {},
     "output_type": "execute_result"
    }
   ],
   "source": [
    "print + 20"
   ]
  },
  {
   "cell_type": "code",
   "execution_count": 36,
   "id": "270a1347",
   "metadata": {},
   "outputs": [],
   "source": [
    "del print\n",
    "\n",
    "#print = __builtins__.print"
   ]
  },
  {
   "cell_type": "code",
   "execution_count": 37,
   "id": "49c1d905",
   "metadata": {},
   "outputs": [
    {
     "name": "stdout",
     "output_type": "stream",
     "text": [
      "hello\n"
     ]
    }
   ],
   "source": [
    "print(\"hello\")"
   ]
  },
  {
   "cell_type": "code",
   "execution_count": 38,
   "id": "bb739f26",
   "metadata": {},
   "outputs": [],
   "source": [
    "len = 23\n",
    "count = 0"
   ]
  },
  {
   "cell_type": "code",
   "execution_count": 39,
   "id": "aa344f5d",
   "metadata": {},
   "outputs": [],
   "source": [
    "x = set()"
   ]
  },
  {
   "cell_type": "code",
   "execution_count": 40,
   "id": "7190e148",
   "metadata": {},
   "outputs": [
    {
     "data": {
      "text/plain": [
       "set()"
      ]
     },
     "execution_count": 40,
     "metadata": {},
     "output_type": "execute_result"
    }
   ],
   "source": [
    "x"
   ]
  },
  {
   "cell_type": "code",
   "execution_count": 41,
   "id": "b8c54762",
   "metadata": {},
   "outputs": [
    {
     "data": {
      "text/plain": [
       "set"
      ]
     },
     "execution_count": 41,
     "metadata": {},
     "output_type": "execute_result"
    }
   ],
   "source": [
    "type(x)"
   ]
  },
  {
   "cell_type": "code",
   "execution_count": 42,
   "id": "27ecd8b9",
   "metadata": {},
   "outputs": [],
   "source": [
    "x = {}"
   ]
  },
  {
   "cell_type": "code",
   "execution_count": 43,
   "id": "edb39b6b",
   "metadata": {},
   "outputs": [
    {
     "data": {
      "text/plain": [
       "dict"
      ]
     },
     "execution_count": 43,
     "metadata": {},
     "output_type": "execute_result"
    }
   ],
   "source": [
    "type(x)"
   ]
  },
  {
   "cell_type": "code",
   "execution_count": 44,
   "id": "9c70291a",
   "metadata": {},
   "outputs": [],
   "source": [
    "list_x = [] "
   ]
  },
  {
   "cell_type": "code",
   "execution_count": 45,
   "id": "252f56eb",
   "metadata": {},
   "outputs": [
    {
     "data": {
      "text/plain": [
       "<function print>"
      ]
     },
     "execution_count": 45,
     "metadata": {},
     "output_type": "execute_result"
    }
   ],
   "source": [
    "print"
   ]
  },
  {
   "cell_type": "code",
   "execution_count": 50,
   "id": "7a56bd5f",
   "metadata": {},
   "outputs": [],
   "source": [
    "def stats_seq(la):\n",
    "    return sum(la), len(la), sum(la)/len(la)"
   ]
  },
  {
   "cell_type": "code",
   "execution_count": 51,
   "id": "b6cafc64",
   "metadata": {},
   "outputs": [],
   "source": [
    "s, l, a = stats_seq([10, 20, 30, 40])\n",
    "\n",
    "# s, l, a = 100, 4, 25"
   ]
  },
  {
   "cell_type": "code",
   "execution_count": 52,
   "id": "00df150a",
   "metadata": {},
   "outputs": [
    {
     "name": "stdout",
     "output_type": "stream",
     "text": [
      "100 4 25.0\n"
     ]
    }
   ],
   "source": [
    "print(s, l, a)"
   ]
  },
  {
   "cell_type": "code",
   "execution_count": 49,
   "id": "207f6d0e",
   "metadata": {},
   "outputs": [],
   "source": [
    "del len"
   ]
  },
  {
   "cell_type": "code",
   "execution_count": 53,
   "id": "82cdcb0f",
   "metadata": {},
   "outputs": [],
   "source": [
    "z = stats_seq([10, 20, 30, 40])\n",
    "\n",
    "#z = 100, 4, 25"
   ]
  },
  {
   "cell_type": "code",
   "execution_count": 54,
   "id": "f3ef06d2",
   "metadata": {},
   "outputs": [
    {
     "data": {
      "text/plain": [
       "tuple"
      ]
     },
     "execution_count": 54,
     "metadata": {},
     "output_type": "execute_result"
    }
   ],
   "source": [
    "type(z)"
   ]
  },
  {
   "cell_type": "code",
   "execution_count": 55,
   "id": "aa1b2f03",
   "metadata": {},
   "outputs": [
    {
     "data": {
      "text/plain": [
       "(100, 4, 25.0)"
      ]
     },
     "execution_count": 55,
     "metadata": {},
     "output_type": "execute_result"
    }
   ],
   "source": [
    "z"
   ]
  },
  {
   "cell_type": "code",
   "execution_count": 56,
   "id": "213f9b96",
   "metadata": {},
   "outputs": [],
   "source": [
    "# y, z = stats_seq([10, 20, 30, 40]) "
   ]
  },
  {
   "cell_type": "code",
   "execution_count": 57,
   "id": "21106bcd",
   "metadata": {},
   "outputs": [],
   "source": [
    "display()"
   ]
  },
  {
   "cell_type": "code",
   "execution_count": 60,
   "id": "2b5053be",
   "metadata": {},
   "outputs": [],
   "source": [
    "display = print"
   ]
  },
  {
   "cell_type": "code",
   "execution_count": 61,
   "id": "40531e68",
   "metadata": {},
   "outputs": [
    {
     "name": "stdout",
     "output_type": "stream",
     "text": [
      "hi\n"
     ]
    }
   ],
   "source": [
    "display(\"hi\")"
   ]
  },
  {
   "cell_type": "code",
   "execution_count": 62,
   "id": "9ad322a8",
   "metadata": {},
   "outputs": [],
   "source": [
    "hello = greet"
   ]
  },
  {
   "cell_type": "code",
   "execution_count": 63,
   "id": "f8d98c4b",
   "metadata": {},
   "outputs": [
    {
     "name": "stdout",
     "output_type": "stream",
     "text": [
      "good morning\n",
      "hope you are doing good\n",
      "have a great day\n"
     ]
    }
   ],
   "source": [
    "hello()"
   ]
  },
  {
   "cell_type": "code",
   "execution_count": 65,
   "id": "e59d40fb",
   "metadata": {},
   "outputs": [],
   "source": [
    "x = 30\n",
    "\n",
    "y = x"
   ]
  },
  {
   "cell_type": "code",
   "execution_count": 66,
   "id": "8e768b6c",
   "metadata": {},
   "outputs": [
    {
     "name": "stdout",
     "output_type": "stream",
     "text": [
      "good morning\n",
      "hope you are doing good\n",
      "have a great day\n"
     ]
    }
   ],
   "source": [
    "hello = greet\n",
    "\n",
    "hi = greet() "
   ]
  },
  {
   "cell_type": "code",
   "execution_count": 67,
   "id": "dda19c41",
   "metadata": {},
   "outputs": [
    {
     "name": "stdout",
     "output_type": "stream",
     "text": [
      "good morning\n",
      "hope you are doing good\n",
      "have a great day\n"
     ]
    }
   ],
   "source": [
    "hello()"
   ]
  },
  {
   "cell_type": "code",
   "execution_count": 68,
   "id": "ab810911",
   "metadata": {},
   "outputs": [],
   "source": [
    "hi"
   ]
  },
  {
   "cell_type": "code",
   "execution_count": 69,
   "id": "29798ff1",
   "metadata": {},
   "outputs": [
    {
     "name": "stdout",
     "output_type": "stream",
     "text": [
      "None\n"
     ]
    }
   ],
   "source": [
    "print(hi)"
   ]
  },
  {
   "cell_type": "code",
   "execution_count": 70,
   "id": "40bf6db7",
   "metadata": {},
   "outputs": [
    {
     "name": "stdout",
     "output_type": "stream",
     "text": [
      "None\n"
     ]
    }
   ],
   "source": [
    "print(greet.__doc__)"
   ]
  },
  {
   "cell_type": "code",
   "execution_count": null,
   "id": "94128c3a",
   "metadata": {},
   "outputs": [],
   "source": []
  }
 ],
 "metadata": {
  "kernelspec": {
   "display_name": "Python 3 (ipykernel)",
   "language": "python",
   "name": "python3"
  },
  "language_info": {
   "codemirror_mode": {
    "name": "ipython",
    "version": 3
   },
   "file_extension": ".py",
   "mimetype": "text/x-python",
   "name": "python",
   "nbconvert_exporter": "python",
   "pygments_lexer": "ipython3",
   "version": "3.9.7"
  }
 },
 "nbformat": 4,
 "nbformat_minor": 5
}
