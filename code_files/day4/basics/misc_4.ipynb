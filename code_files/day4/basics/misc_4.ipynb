{
 "cells": [
  {
   "cell_type": "code",
   "execution_count": 1,
   "id": "2dae3c28",
   "metadata": {},
   "outputs": [],
   "source": [
    "listx = []"
   ]
  },
  {
   "cell_type": "code",
   "execution_count": 2,
   "id": "679dff0f",
   "metadata": {},
   "outputs": [],
   "source": [
    "listx = {} # dict"
   ]
  },
  {
   "cell_type": "code",
   "execution_count": 3,
   "id": "e3b5f0f5",
   "metadata": {},
   "outputs": [],
   "source": [
    "listx = (5*3) # number "
   ]
  },
  {
   "cell_type": "code",
   "execution_count": null,
   "id": "65c398d9",
   "metadata": {},
   "outputs": [],
   "source": [
    "(7 + 4*2) * (5-3) \n",
    "\n",
    "7 + 4*2 * 5 -3 "
   ]
  },
  {
   "cell_type": "code",
   "execution_count": 4,
   "id": "e7002c67",
   "metadata": {},
   "outputs": [
    {
     "data": {
      "text/plain": [
       "int"
      ]
     },
     "execution_count": 4,
     "metadata": {},
     "output_type": "execute_result"
    }
   ],
   "source": [
    "type(listx)"
   ]
  },
  {
   "cell_type": "code",
   "execution_count": 14,
   "id": "91971dc7",
   "metadata": {},
   "outputs": [],
   "source": [
    "ia = (44)"
   ]
  },
  {
   "cell_type": "code",
   "execution_count": 5,
   "id": "5ab140b5",
   "metadata": {},
   "outputs": [],
   "source": [
    "tupa = (9,) \n",
    "tupb = 9,\n",
    "tupc = 4, 6, 7\n",
    "tupd = 5, 10, 15, "
   ]
  },
  {
   "cell_type": "code",
   "execution_count": 6,
   "id": "ba3eccc5",
   "metadata": {},
   "outputs": [
    {
     "ename": "SyntaxError",
     "evalue": "invalid syntax (Temp/ipykernel_5304/245480861.py, line 1)",
     "output_type": "error",
     "traceback": [
      "\u001b[1;36m  File \u001b[1;32m\"C:\\Users\\Admin\\AppData\\Local\\Temp/ipykernel_5304/245480861.py\"\u001b[1;36m, line \u001b[1;32m1\u001b[0m\n\u001b[1;33m    tupe = (,)\u001b[0m\n\u001b[1;37m            ^\u001b[0m\n\u001b[1;31mSyntaxError\u001b[0m\u001b[1;31m:\u001b[0m invalid syntax\n"
     ]
    }
   ],
   "source": [
    "tupe = (,)"
   ]
  },
  {
   "cell_type": "code",
   "execution_count": 7,
   "id": "835fbc15",
   "metadata": {},
   "outputs": [],
   "source": [
    "tupf = [3, 5, 6] , 78"
   ]
  },
  {
   "cell_type": "code",
   "execution_count": 8,
   "id": "1e6fceae",
   "metadata": {},
   "outputs": [],
   "source": [
    "x = y = z = 30"
   ]
  },
  {
   "cell_type": "code",
   "execution_count": 9,
   "id": "5e1d852a",
   "metadata": {},
   "outputs": [],
   "source": [
    "x, y, z = 30, 40, 50"
   ]
  },
  {
   "cell_type": "code",
   "execution_count": 15,
   "id": "6f9626bb",
   "metadata": {},
   "outputs": [],
   "source": [
    "x, y, z = 30, \"hello\", [5, 6,7]"
   ]
  },
  {
   "cell_type": "code",
   "execution_count": 10,
   "id": "ff362988",
   "metadata": {},
   "outputs": [
    {
     "ename": "ValueError",
     "evalue": "not enough values to unpack (expected 3, got 2)",
     "output_type": "error",
     "traceback": [
      "\u001b[1;31m---------------------------------------------------------------------------\u001b[0m",
      "\u001b[1;31mValueError\u001b[0m                                Traceback (most recent call last)",
      "\u001b[1;32m~\\AppData\\Local\\Temp/ipykernel_5304/181910435.py\u001b[0m in \u001b[0;36m<module>\u001b[1;34m\u001b[0m\n\u001b[1;32m----> 1\u001b[1;33m \u001b[0mx\u001b[0m\u001b[1;33m,\u001b[0m \u001b[0my\u001b[0m\u001b[1;33m,\u001b[0m \u001b[0mz\u001b[0m \u001b[1;33m=\u001b[0m \u001b[1;36m100\u001b[0m\u001b[1;33m,\u001b[0m \u001b[1;36m200\u001b[0m\u001b[1;33m\u001b[0m\u001b[1;33m\u001b[0m\u001b[0m\n\u001b[0m",
      "\u001b[1;31mValueError\u001b[0m: not enough values to unpack (expected 3, got 2)"
     ]
    }
   ],
   "source": [
    "x, y, z = 100, 200 "
   ]
  },
  {
   "cell_type": "code",
   "execution_count": 11,
   "id": "5ac2ce72",
   "metadata": {},
   "outputs": [
    {
     "ename": "ValueError",
     "evalue": "too many values to unpack (expected 2)",
     "output_type": "error",
     "traceback": [
      "\u001b[1;31m---------------------------------------------------------------------------\u001b[0m",
      "\u001b[1;31mValueError\u001b[0m                                Traceback (most recent call last)",
      "\u001b[1;32m~\\AppData\\Local\\Temp/ipykernel_5304/1968073529.py\u001b[0m in \u001b[0;36m<module>\u001b[1;34m\u001b[0m\n\u001b[1;32m----> 1\u001b[1;33m \u001b[0mx\u001b[0m\u001b[1;33m,\u001b[0m \u001b[0my\u001b[0m \u001b[1;33m=\u001b[0m \u001b[1;36m100\u001b[0m\u001b[1;33m,\u001b[0m \u001b[1;36m200\u001b[0m\u001b[1;33m,\u001b[0m \u001b[1;36m300\u001b[0m\u001b[1;33m\u001b[0m\u001b[1;33m\u001b[0m\u001b[0m\n\u001b[0m",
      "\u001b[1;31mValueError\u001b[0m: too many values to unpack (expected 2)"
     ]
    }
   ],
   "source": [
    "x, y = 100, 200, 300"
   ]
  },
  {
   "cell_type": "code",
   "execution_count": 12,
   "id": "38b2fbcd",
   "metadata": {},
   "outputs": [],
   "source": [
    "x = 100, 200, 300 "
   ]
  },
  {
   "cell_type": "code",
   "execution_count": 13,
   "id": "278678eb",
   "metadata": {},
   "outputs": [
    {
     "ename": "TypeError",
     "evalue": "cannot unpack non-iterable int object",
     "output_type": "error",
     "traceback": [
      "\u001b[1;31m---------------------------------------------------------------------------\u001b[0m",
      "\u001b[1;31mTypeError\u001b[0m                                 Traceback (most recent call last)",
      "\u001b[1;32m~\\AppData\\Local\\Temp/ipykernel_5304/3291667573.py\u001b[0m in \u001b[0;36m<module>\u001b[1;34m\u001b[0m\n\u001b[1;32m----> 1\u001b[1;33m \u001b[0mx\u001b[0m\u001b[1;33m,\u001b[0m \u001b[0my\u001b[0m\u001b[1;33m,\u001b[0m \u001b[0mz\u001b[0m \u001b[1;33m=\u001b[0m \u001b[1;36m30\u001b[0m\u001b[1;33m\u001b[0m\u001b[1;33m\u001b[0m\u001b[0m\n\u001b[0m",
      "\u001b[1;31mTypeError\u001b[0m: cannot unpack non-iterable int object"
     ]
    }
   ],
   "source": [
    "x, y, z = 30"
   ]
  },
  {
   "cell_type": "code",
   "execution_count": null,
   "id": "991ca9ff",
   "metadata": {},
   "outputs": [],
   "source": []
  }
 ],
 "metadata": {
  "kernelspec": {
   "display_name": "Python 3 (ipykernel)",
   "language": "python",
   "name": "python3"
  },
  "language_info": {
   "codemirror_mode": {
    "name": "ipython",
    "version": 3
   },
   "file_extension": ".py",
   "mimetype": "text/x-python",
   "name": "python",
   "nbconvert_exporter": "python",
   "pygments_lexer": "ipython3",
   "version": "3.9.7"
  }
 },
 "nbformat": 4,
 "nbformat_minor": 5
}
