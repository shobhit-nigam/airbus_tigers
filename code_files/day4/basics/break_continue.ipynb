{
 "cells": [
  {
   "cell_type": "code",
   "execution_count": 5,
   "id": "89edea07",
   "metadata": {},
   "outputs": [],
   "source": [
    "list_a = [\"mango\", \"orange\", \"grapes\", \"apple\",\"jackfruit\", \"mango\", \"apple\", \"kiwi\", \"apple\"] "
   ]
  },
  {
   "cell_type": "code",
   "execution_count": 6,
   "id": "6f52e7d1",
   "metadata": {},
   "outputs": [
    {
     "name": "stdout",
     "output_type": "stream",
     "text": [
      "mango\n",
      "orange\n",
      "grapes\n",
      "apple\n",
      "jackfruit\n",
      "mango\n",
      "apple\n",
      "kiwi\n",
      "apple\n"
     ]
    }
   ],
   "source": [
    "for fruit in list_a:\n",
    "    print(fruit)"
   ]
  },
  {
   "cell_type": "code",
   "execution_count": 7,
   "id": "dc2e04e6",
   "metadata": {},
   "outputs": [
    {
     "name": "stdout",
     "output_type": "stream",
     "text": [
      "3\n",
      "6\n",
      "8\n"
     ]
    }
   ],
   "source": [
    "index_apple = []\n",
    "\n",
    "for i in range(len(list_a)):\n",
    "    if list_a[i] == \"apple\":\n",
    "        print(i)"
   ]
  },
  {
   "cell_type": "code",
   "execution_count": 10,
   "id": "145f93af",
   "metadata": {},
   "outputs": [],
   "source": [
    "index_apple = []\n",
    "count = 0\n",
    "\n",
    "for i in range(len(list_a)):\n",
    "    if list_a[i] == \"apple\":\n",
    "        index_apple.append(i)\n",
    "    if len(index_apple) == 2:\n",
    "        break"
   ]
  },
  {
   "cell_type": "code",
   "execution_count": 11,
   "id": "16e9c2d1",
   "metadata": {},
   "outputs": [
    {
     "data": {
      "text/plain": [
       "[3, 6]"
      ]
     },
     "execution_count": 11,
     "metadata": {},
     "output_type": "execute_result"
    }
   ],
   "source": [
    "index_apple"
   ]
  },
  {
   "cell_type": "code",
   "execution_count": 12,
   "id": "852a636e",
   "metadata": {},
   "outputs": [],
   "source": [
    "index_apple = []\n",
    "count = 0\n",
    "\n",
    "for i in range(len(list_a)):\n",
    "    if list_a[i] == \"apple\":\n",
    "        index_apple.append(i)\n",
    "        count = count+1\n",
    "    if count == 2:\n",
    "        break"
   ]
  },
  {
   "cell_type": "code",
   "execution_count": 13,
   "id": "d97f2afd",
   "metadata": {},
   "outputs": [
    {
     "data": {
      "text/plain": [
       "[3, 6]"
      ]
     },
     "execution_count": 13,
     "metadata": {},
     "output_type": "execute_result"
    }
   ],
   "source": [
    "index_apple"
   ]
  },
  {
   "cell_type": "code",
   "execution_count": 25,
   "id": "36f96a58",
   "metadata": {},
   "outputs": [],
   "source": [
    "def find_index(la, search, how_many=2):\n",
    "    index_search = []\n",
    "    \n",
    "    if how_many > len(la):\n",
    "        print(f\"size of the sequence you passed is {len(la)}, so will restrict searching to that\")\n",
    "    for i in range(len(la)):\n",
    "        if la[i] == search:\n",
    "            index_search.append(i)\n",
    "    \n",
    "    \n",
    "    return index_search[0:how_many]"
   ]
  },
  {
   "cell_type": "code",
   "execution_count": 15,
   "id": "f4d81641",
   "metadata": {},
   "outputs": [],
   "source": [
    "listz = [\"aa\", \"hh\", \"tt\", \"aa\", \"tt\", \"aa\", \"rr\", \"tt\", \"aa\", \"aa\", \"tt\", \"ww\", \"tt\"]"
   ]
  },
  {
   "cell_type": "code",
   "execution_count": 22,
   "id": "d23c27cb",
   "metadata": {},
   "outputs": [
    {
     "data": {
      "text/plain": [
       "[2, 4, 7]"
      ]
     },
     "execution_count": 22,
     "metadata": {},
     "output_type": "execute_result"
    }
   ],
   "source": [
    "find_index(listz, \"tt\", 3)"
   ]
  },
  {
   "cell_type": "code",
   "execution_count": 23,
   "id": "1a78d5ca",
   "metadata": {},
   "outputs": [
    {
     "data": {
      "text/plain": [
       "[0, 3, 5, 8, 9]"
      ]
     },
     "execution_count": 23,
     "metadata": {},
     "output_type": "execute_result"
    }
   ],
   "source": [
    "find_index(listz, \"aa\", len(listz))"
   ]
  },
  {
   "cell_type": "code",
   "execution_count": 26,
   "id": "7ed84779",
   "metadata": {},
   "outputs": [
    {
     "name": "stdout",
     "output_type": "stream",
     "text": [
      "size of the sequence you passed is 13, so will restrict searching to that\n"
     ]
    },
    {
     "data": {
      "text/plain": [
       "[0, 3, 5, 8, 9]"
      ]
     },
     "execution_count": 26,
     "metadata": {},
     "output_type": "execute_result"
    }
   ],
   "source": [
    "find_index(listz, \"aa\", 1034)"
   ]
  },
  {
   "cell_type": "code",
   "execution_count": null,
   "id": "5d62187b",
   "metadata": {},
   "outputs": [],
   "source": []
  }
 ],
 "metadata": {
  "kernelspec": {
   "display_name": "Python 3 (ipykernel)",
   "language": "python",
   "name": "python3"
  },
  "language_info": {
   "codemirror_mode": {
    "name": "ipython",
    "version": 3
   },
   "file_extension": ".py",
   "mimetype": "text/x-python",
   "name": "python",
   "nbconvert_exporter": "python",
   "pygments_lexer": "ipython3",
   "version": "3.9.7"
  }
 },
 "nbformat": 4,
 "nbformat_minor": 5
}
