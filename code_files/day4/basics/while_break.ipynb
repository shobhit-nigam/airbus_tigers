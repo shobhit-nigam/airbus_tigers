{
 "cells": [
  {
   "cell_type": "code",
   "execution_count": 1,
   "id": "a3a359b3",
   "metadata": {},
   "outputs": [],
   "source": [
    "num = 25"
   ]
  },
  {
   "cell_type": "code",
   "execution_count": 2,
   "id": "2be4cf20",
   "metadata": {},
   "outputs": [
    {
     "name": "stdout",
     "output_type": "stream",
     "text": [
      "please enter a number\n",
      "10\n",
      "please try again\n",
      "please enter a number\n",
      "22\n",
      "please try again\n",
      "please enter a number\n",
      "25\n",
      "got it right\n"
     ]
    }
   ],
   "source": [
    "while True:\n",
    "    inta = int(input(\"please enter a number\\n\"))\n",
    "    if inta == num:\n",
    "        print(\"got it right\")\n",
    "        break\n",
    "    else:\n",
    "        print(\"please try again\")"
   ]
  },
  {
   "cell_type": "code",
   "execution_count": 3,
   "id": "2c3919fb",
   "metadata": {},
   "outputs": [
    {
     "name": "stdout",
     "output_type": "stream",
     "text": [
      "please enter a number\n",
      "100\n",
      "its lower than 100\n",
      "please enter a number\n",
      "50\n",
      "its lower than 50\n",
      "please enter a number\n",
      "10\n",
      "its higher than 10\n",
      "please enter a number\n",
      "30\n",
      "its lower than 30\n",
      "please enter a number\n",
      "25\n",
      "got it right\n"
     ]
    }
   ],
   "source": [
    "while True:\n",
    "    inta = int(input(\"please enter a number\\n\"))\n",
    "    if inta == num:\n",
    "        print(\"got it right\")\n",
    "        break\n",
    "    elif inta < num:\n",
    "        print(f\"its higher than {inta}\")\n",
    "    elif inta > num:\n",
    "        print(f\"its lower than {inta}\")        "
   ]
  },
  {
   "cell_type": "code",
   "execution_count": 4,
   "id": "d7c4e520",
   "metadata": {},
   "outputs": [
    {
     "name": "stdout",
     "output_type": "stream",
     "text": [
      "33\n",
      "33\n",
      "<class 'int'>\n"
     ]
    }
   ],
   "source": [
    "x = eval(input())\n",
    "\n",
    "print(x)\n",
    "print(type(x))"
   ]
  },
  {
   "cell_type": "code",
   "execution_count": 6,
   "id": "cec6c8c3",
   "metadata": {},
   "outputs": [
    {
     "name": "stdout",
     "output_type": "stream",
     "text": [
      "44.56\n",
      "44.56\n",
      "<class 'float'>\n"
     ]
    }
   ],
   "source": [
    "x = eval(input())\n",
    "\n",
    "print(x)\n",
    "print(type(x))"
   ]
  },
  {
   "cell_type": "code",
   "execution_count": 8,
   "id": "5203a998",
   "metadata": {},
   "outputs": [],
   "source": [
    "y = 23, \"hi\""
   ]
  },
  {
   "cell_type": "code",
   "execution_count": 9,
   "id": "31b2c099",
   "metadata": {},
   "outputs": [
    {
     "name": "stdout",
     "output_type": "stream",
     "text": [
      "num\n",
      "25\n",
      "<class 'int'>\n"
     ]
    }
   ],
   "source": [
    "x = eval(input())\n",
    "\n",
    "print(x)\n",
    "print(type(x))"
   ]
  },
  {
   "cell_type": "code",
   "execution_count": 10,
   "id": "fed8e9ef",
   "metadata": {},
   "outputs": [
    {
     "name": "stdout",
     "output_type": "stream",
     "text": [
      "num_a\n"
     ]
    },
    {
     "ename": "NameError",
     "evalue": "name 'num_a' is not defined",
     "output_type": "error",
     "traceback": [
      "\u001b[1;31m---------------------------------------------------------------------------\u001b[0m",
      "\u001b[1;31mNameError\u001b[0m                                 Traceback (most recent call last)",
      "\u001b[1;32m~\\AppData\\Local\\Temp/ipykernel_10372/836948504.py\u001b[0m in \u001b[0;36m<module>\u001b[1;34m\u001b[0m\n\u001b[1;32m----> 1\u001b[1;33m \u001b[0mx\u001b[0m \u001b[1;33m=\u001b[0m \u001b[0meval\u001b[0m\u001b[1;33m(\u001b[0m\u001b[0minput\u001b[0m\u001b[1;33m(\u001b[0m\u001b[1;33m)\u001b[0m\u001b[1;33m)\u001b[0m\u001b[1;33m\u001b[0m\u001b[1;33m\u001b[0m\u001b[0m\n\u001b[0m\u001b[0;32m      2\u001b[0m \u001b[1;33m\u001b[0m\u001b[0m\n\u001b[0;32m      3\u001b[0m \u001b[0mprint\u001b[0m\u001b[1;33m(\u001b[0m\u001b[0mx\u001b[0m\u001b[1;33m)\u001b[0m\u001b[1;33m\u001b[0m\u001b[1;33m\u001b[0m\u001b[0m\n\u001b[0;32m      4\u001b[0m \u001b[0mprint\u001b[0m\u001b[1;33m(\u001b[0m\u001b[0mtype\u001b[0m\u001b[1;33m(\u001b[0m\u001b[0mx\u001b[0m\u001b[1;33m)\u001b[0m\u001b[1;33m)\u001b[0m\u001b[1;33m\u001b[0m\u001b[1;33m\u001b[0m\u001b[0m\n",
      "\u001b[1;32m<string>\u001b[0m in \u001b[0;36m<module>\u001b[1;34m\u001b[0m\n",
      "\u001b[1;31mNameError\u001b[0m: name 'num_a' is not defined"
     ]
    }
   ],
   "source": [
    "x = eval(input())\n",
    "\n",
    "print(x)\n",
    "print(type(x))"
   ]
  },
  {
   "cell_type": "code",
   "execution_count": 11,
   "id": "6f5c32ac",
   "metadata": {},
   "outputs": [
    {
     "name": "stdout",
     "output_type": "stream",
     "text": [
      "\"num_a\"\n",
      "num_a\n",
      "<class 'str'>\n"
     ]
    }
   ],
   "source": [
    "x = eval(input())\n",
    "\n",
    "print(x)\n",
    "print(type(x))"
   ]
  },
  {
   "cell_type": "code",
   "execution_count": 12,
   "id": "8f7d3b0d",
   "metadata": {},
   "outputs": [
    {
     "data": {
      "text/plain": [
       "23"
      ]
     },
     "execution_count": 12,
     "metadata": {},
     "output_type": "execute_result"
    }
   ],
   "source": [
    "eval(\"2*10+3\")"
   ]
  },
  {
   "cell_type": "code",
   "execution_count": 13,
   "id": "33fbcad1",
   "metadata": {},
   "outputs": [],
   "source": [
    "def guessing_game():\n",
    "    while True:\n",
    "        inta = int(input(\"please enter a number\\n\"))\n",
    "        if inta == num:\n",
    "            print(\"got it right\")\n",
    "            break\n",
    "        elif inta < num:\n",
    "            print(f\"its higher than {inta}\")\n",
    "        elif inta > num:\n",
    "            print(f\"its lower than {inta}\") "
   ]
  },
  {
   "cell_type": "code",
   "execution_count": 14,
   "id": "513b41d9",
   "metadata": {},
   "outputs": [
    {
     "name": "stdout",
     "output_type": "stream",
     "text": [
      "please enter a number\n",
      "3\n",
      "its higher than 3\n",
      "please enter a number\n",
      "25\n",
      "got it right\n"
     ]
    }
   ],
   "source": [
    "guessing_game()"
   ]
  },
  {
   "cell_type": "code",
   "execution_count": 19,
   "id": "9f481743",
   "metadata": {},
   "outputs": [
    {
     "name": "stdout",
     "output_type": "stream",
     "text": [
      "i = 0, j= 0\n",
      "i = 0, j= 1\n",
      "i = 0, j= 2\n",
      "i = 1, j= 0\n",
      "i = 1, j= 1\n",
      "i = 1, j= 2\n",
      "i = 2, j= 0\n",
      "i = 2, j= 1\n",
      "i = 2, j= 2\n"
     ]
    }
   ],
   "source": [
    "for i in range(3):\n",
    "    for j in range(3):\n",
    "        print(f\"i = {i}, j= {j}\")"
   ]
  },
  {
   "cell_type": "code",
   "execution_count": 20,
   "id": "87807949",
   "metadata": {},
   "outputs": [
    {
     "name": "stdout",
     "output_type": "stream",
     "text": [
      "i = 0, j= 0\n",
      "i = 0, j= 1\n",
      "i = 0, j= 2\n",
      "***************\n",
      "i = 1, j= 0\n",
      "i = 1, j= 1\n",
      "i = 1, j= 2\n",
      "***************\n",
      "i = 2, j= 0\n",
      "i = 2, j= 1\n",
      "i = 2, j= 2\n",
      "***************\n"
     ]
    }
   ],
   "source": [
    "for i in range(3):\n",
    "    for j in range(3):\n",
    "        print(f\"i = {i}, j= {j}\")\n",
    "    print(\"***************\")"
   ]
  },
  {
   "cell_type": "code",
   "execution_count": 21,
   "id": "76a806ca",
   "metadata": {},
   "outputs": [
    {
     "name": "stdout",
     "output_type": "stream",
     "text": [
      "i = 1, j= 0\n",
      "i = 2, j= 0\n",
      "i = 2, j= 1\n"
     ]
    }
   ],
   "source": [
    "for i in range(3):\n",
    "    for j in range(3):\n",
    "        if i==j:\n",
    "            break\n",
    "        print(f\"i = {i}, j= {j}\")"
   ]
  },
  {
   "cell_type": "code",
   "execution_count": 23,
   "id": "0f821d23",
   "metadata": {},
   "outputs": [
    {
     "name": "stdout",
     "output_type": "stream",
     "text": [
      "i = 0, j= 0\n",
      "----\n",
      "i = 1, j= 0\n",
      "i = 1, j= 1\n",
      "----\n",
      "i = 2, j= 0\n",
      "i = 2, j= 1\n",
      "i = 2, j= 2\n",
      "----\n"
     ]
    }
   ],
   "source": [
    "for i in range(3):\n",
    "    for j in range(3):\n",
    "        if i==j:\n",
    "            print(f\"i = {i}, j= {j}\")\n",
    "            print(\"----\")\n",
    "            break\n",
    "        print(f\"i = {i}, j= {j}\")"
   ]
  },
  {
   "cell_type": "code",
   "execution_count": 27,
   "id": "bab06cc0",
   "metadata": {},
   "outputs": [
    {
     "name": "stdout",
     "output_type": "stream",
     "text": [
      "i = 0, j= 1\n",
      "i = 0, j= 2\n",
      "i = 1, j= 0\n",
      "i = 1, j= 2\n",
      "i = 2, j= 0\n",
      "i = 2, j= 1\n"
     ]
    }
   ],
   "source": [
    "for i in range(3):\n",
    "    for j in range(3):\n",
    "        if i==j:\n",
    "            continue\n",
    "        print(f\"i = {i}, j= {j}\")"
   ]
  },
  {
   "cell_type": "code",
   "execution_count": null,
   "id": "7719105d",
   "metadata": {},
   "outputs": [],
   "source": []
  }
 ],
 "metadata": {
  "kernelspec": {
   "display_name": "Python 3 (ipykernel)",
   "language": "python",
   "name": "python3"
  },
  "language_info": {
   "codemirror_mode": {
    "name": "ipython",
    "version": 3
   },
   "file_extension": ".py",
   "mimetype": "text/x-python",
   "name": "python",
   "nbconvert_exporter": "python",
   "pygments_lexer": "ipython3",
   "version": "3.9.7"
  }
 },
 "nbformat": 4,
 "nbformat_minor": 5
}
