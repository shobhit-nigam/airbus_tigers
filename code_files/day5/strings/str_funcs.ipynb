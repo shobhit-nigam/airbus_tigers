{
 "cells": [
  {
   "cell_type": "code",
   "execution_count": 2,
   "id": "5b34ec47",
   "metadata": {},
   "outputs": [],
   "source": [
    "dataa = \"XDE2478HH\"\n",
    "datab = \"34598\"\n",
    "datac = \"xylem\""
   ]
  },
  {
   "cell_type": "code",
   "execution_count": 3,
   "id": "c83a2955",
   "metadata": {},
   "outputs": [
    {
     "data": {
      "text/plain": [
       "True"
      ]
     },
     "execution_count": 3,
     "metadata": {},
     "output_type": "execute_result"
    }
   ],
   "source": [
    "datac.isalnum()"
   ]
  },
  {
   "cell_type": "code",
   "execution_count": 4,
   "id": "33be5559",
   "metadata": {},
   "outputs": [
    {
     "data": {
      "text/plain": [
       "False"
      ]
     },
     "execution_count": 4,
     "metadata": {},
     "output_type": "execute_result"
    }
   ],
   "source": [
    "datac.isdigit()"
   ]
  },
  {
   "cell_type": "code",
   "execution_count": 5,
   "id": "bfda90f3",
   "metadata": {},
   "outputs": [
    {
     "data": {
      "text/plain": [
       "True"
      ]
     },
     "execution_count": 5,
     "metadata": {},
     "output_type": "execute_result"
    }
   ],
   "source": [
    "datac.isalpha()"
   ]
  },
  {
   "cell_type": "code",
   "execution_count": 6,
   "id": "98f750b6",
   "metadata": {},
   "outputs": [
    {
     "data": {
      "text/plain": [
       "False"
      ]
     },
     "execution_count": 6,
     "metadata": {},
     "output_type": "execute_result"
    }
   ],
   "source": [
    "dataa.isalpha()"
   ]
  },
  {
   "cell_type": "code",
   "execution_count": 7,
   "id": "361df26f",
   "metadata": {},
   "outputs": [
    {
     "data": {
      "text/plain": [
       "True"
      ]
     },
     "execution_count": 7,
     "metadata": {},
     "output_type": "execute_result"
    }
   ],
   "source": [
    "datab.isdigit()"
   ]
  },
  {
   "cell_type": "code",
   "execution_count": 8,
   "id": "646b1f30",
   "metadata": {},
   "outputs": [
    {
     "data": {
      "text/plain": [
       "False"
      ]
     },
     "execution_count": 8,
     "metadata": {},
     "output_type": "execute_result"
    }
   ],
   "source": [
    "dataa.isalpha()"
   ]
  },
  {
   "cell_type": "code",
   "execution_count": 9,
   "id": "173e6d56",
   "metadata": {},
   "outputs": [
    {
     "data": {
      "text/plain": [
       "True"
      ]
     },
     "execution_count": 9,
     "metadata": {},
     "output_type": "execute_result"
    }
   ],
   "source": [
    "dataa[0].isalpha()"
   ]
  },
  {
   "cell_type": "code",
   "execution_count": 11,
   "id": "bbad3c95",
   "metadata": {},
   "outputs": [
    {
     "data": {
      "text/plain": [
       "True"
      ]
     },
     "execution_count": 11,
     "metadata": {},
     "output_type": "execute_result"
    }
   ],
   "source": [
    "dataa[0:3].isalpha()"
   ]
  },
  {
   "cell_type": "code",
   "execution_count": 12,
   "id": "beffcaa1",
   "metadata": {},
   "outputs": [
    {
     "name": "stdout",
     "output_type": "stream",
     "text": [
      "yayyy all alphabets\n"
     ]
    }
   ],
   "source": [
    "if dataa[0:3].isalpha() :\n",
    "    print(\"yayyy all alphabets\")\n",
    "else:\n",
    "    print(\"please recheck the data\")"
   ]
  },
  {
   "cell_type": "code",
   "execution_count": 18,
   "id": "9cd03f72",
   "metadata": {},
   "outputs": [],
   "source": [
    "dataa = \"XDE2478HH\"\n",
    "datab = \"34598\"\n",
    "datac = \"xylem\"\n",
    "datax = \"heal the hell with hello\""
   ]
  },
  {
   "cell_type": "code",
   "execution_count": 14,
   "id": "3c0c95ea",
   "metadata": {},
   "outputs": [],
   "source": [
    "datad = datac.replace(\"y\", \"i\")"
   ]
  },
  {
   "cell_type": "code",
   "execution_count": 15,
   "id": "b0313fd9",
   "metadata": {},
   "outputs": [
    {
     "data": {
      "text/plain": [
       "'xylem'"
      ]
     },
     "execution_count": 15,
     "metadata": {},
     "output_type": "execute_result"
    }
   ],
   "source": [
    "datac"
   ]
  },
  {
   "cell_type": "code",
   "execution_count": 16,
   "id": "232cb263",
   "metadata": {},
   "outputs": [
    {
     "data": {
      "text/plain": [
       "'xilem'"
      ]
     },
     "execution_count": 16,
     "metadata": {},
     "output_type": "execute_result"
    }
   ],
   "source": [
    "datad"
   ]
  },
  {
   "cell_type": "code",
   "execution_count": 20,
   "id": "3b47c88f",
   "metadata": {},
   "outputs": [
    {
     "data": {
      "text/plain": [
       "'heal the shel with shelo'"
      ]
     },
     "execution_count": 20,
     "metadata": {},
     "output_type": "execute_result"
    }
   ],
   "source": [
    "datax.replace(\"hel\", \"she\")"
   ]
  },
  {
   "cell_type": "code",
   "execution_count": 21,
   "id": "cd90d8f3",
   "metadata": {},
   "outputs": [
    {
     "name": "stdout",
     "output_type": "stream",
     "text": [
      "Help on built-in function replace:\n",
      "\n",
      "replace(old, new, count=-1, /) method of builtins.str instance\n",
      "    Return a copy with all occurrences of substring old replaced by new.\n",
      "    \n",
      "      count\n",
      "        Maximum number of occurrences to replace.\n",
      "        -1 (the default value) means replace all occurrences.\n",
      "    \n",
      "    If the optional argument count is given, only the first count occurrences are\n",
      "    replaced.\n",
      "\n"
     ]
    }
   ],
   "source": [
    "help(dataa.replace)"
   ]
  },
  {
   "cell_type": "code",
   "execution_count": 22,
   "id": "3b6ffed5",
   "metadata": {},
   "outputs": [
    {
     "data": {
      "text/plain": [
       "'HEal tHE HEll with HEllo'"
      ]
     },
     "execution_count": 22,
     "metadata": {},
     "output_type": "execute_result"
    }
   ],
   "source": [
    "datax.replace(\"he\", \"HE\")"
   ]
  },
  {
   "cell_type": "code",
   "execution_count": 23,
   "id": "6ea44cc4",
   "metadata": {},
   "outputs": [
    {
     "data": {
      "text/plain": [
       "'HEal tHE hell with hello'"
      ]
     },
     "execution_count": 23,
     "metadata": {},
     "output_type": "execute_result"
    }
   ],
   "source": [
    "datax.replace(\"he\", \"HE\", 2)"
   ]
  },
  {
   "cell_type": "code",
   "execution_count": 24,
   "id": "998aede1",
   "metadata": {},
   "outputs": [],
   "source": [
    "datay = \"\"\"it's a beautiful day\n",
    "cause it's raining\n",
    "also it is a Friday\n",
    "and long weekend\"\"\""
   ]
  },
  {
   "cell_type": "code",
   "execution_count": 25,
   "id": "e7ccfc08",
   "metadata": {},
   "outputs": [
    {
     "data": {
      "text/plain": [
       "[\"it's\",\n",
       " 'a',\n",
       " 'beautiful',\n",
       " 'day',\n",
       " 'cause',\n",
       " \"it's\",\n",
       " 'raining',\n",
       " 'also',\n",
       " 'it',\n",
       " 'is',\n",
       " 'a',\n",
       " 'Friday',\n",
       " 'and',\n",
       " 'long',\n",
       " 'weekend']"
      ]
     },
     "execution_count": 25,
     "metadata": {},
     "output_type": "execute_result"
    }
   ],
   "source": [
    "datay.split()    # space, newline, tab"
   ]
  },
  {
   "cell_type": "code",
   "execution_count": 26,
   "id": "530787cf",
   "metadata": {},
   "outputs": [
    {
     "data": {
      "text/plain": [
       "[\"it's a beautiful day\",\n",
       " \"cause it's raining\",\n",
       " 'also it is a Friday',\n",
       " 'and long weekend']"
      ]
     },
     "execution_count": 26,
     "metadata": {},
     "output_type": "execute_result"
    }
   ],
   "source": [
    "datay.splitlines()"
   ]
  },
  {
   "cell_type": "code",
   "execution_count": 27,
   "id": "587a1830",
   "metadata": {},
   "outputs": [],
   "source": [
    "dataz = \"        GHY876-erTT      \""
   ]
  },
  {
   "cell_type": "code",
   "execution_count": 28,
   "id": "db1d5d4a",
   "metadata": {},
   "outputs": [
    {
     "data": {
      "text/plain": [
       "'GHY876-erTT'"
      ]
     },
     "execution_count": 28,
     "metadata": {},
     "output_type": "execute_result"
    }
   ],
   "source": [
    "dataz.strip()"
   ]
  },
  {
   "cell_type": "code",
   "execution_count": null,
   "id": "7cfd3715",
   "metadata": {},
   "outputs": [],
   "source": [
    "datay.split(\"day\")"
   ]
  },
  {
   "cell_type": "code",
   "execution_count": 29,
   "id": "ac4c8be3",
   "metadata": {},
   "outputs": [],
   "source": [
    "datau = \"tt-rr-ghtysi-56-vbt\""
   ]
  },
  {
   "cell_type": "code",
   "execution_count": 30,
   "id": "605b2dc4",
   "metadata": {},
   "outputs": [
    {
     "data": {
      "text/plain": [
       "['tt', 'rr', 'ghtysi', '56', 'vbt']"
      ]
     },
     "execution_count": 30,
     "metadata": {},
     "output_type": "execute_result"
    }
   ],
   "source": [
    "datau.split(\"-\")"
   ]
  },
  {
   "cell_type": "code",
   "execution_count": 1,
   "id": "398099b6",
   "metadata": {},
   "outputs": [
    {
     "data": {
      "text/plain": [
       "65"
      ]
     },
     "execution_count": 1,
     "metadata": {},
     "output_type": "execute_result"
    }
   ],
   "source": [
    "ord(\"A\")"
   ]
  },
  {
   "cell_type": "code",
   "execution_count": null,
   "id": "15b21809",
   "metadata": {},
   "outputs": [],
   "source": []
  }
 ],
 "metadata": {
  "kernelspec": {
   "display_name": "Python 3 (ipykernel)",
   "language": "python",
   "name": "python3"
  },
  "language_info": {
   "codemirror_mode": {
    "name": "ipython",
    "version": 3
   },
   "file_extension": ".py",
   "mimetype": "text/x-python",
   "name": "python",
   "nbconvert_exporter": "python",
   "pygments_lexer": "ipython3",
   "version": "3.9.7"
  }
 },
 "nbformat": 4,
 "nbformat_minor": 5
}
