{
 "cells": [
  {
   "cell_type": "code",
   "execution_count": 1,
   "id": "84fa1084",
   "metadata": {},
   "outputs": [],
   "source": [
    "import colours"
   ]
  },
  {
   "cell_type": "code",
   "execution_count": 2,
   "id": "19c7d50b",
   "metadata": {},
   "outputs": [
    {
     "name": "stdout",
     "output_type": "stream",
     "text": [
      "cool blue\n"
     ]
    }
   ],
   "source": [
    "colours.blue()"
   ]
  },
  {
   "cell_type": "code",
   "execution_count": 3,
   "id": "f7870d9c",
   "metadata": {},
   "outputs": [
    {
     "name": "stdout",
     "output_type": "stream",
     "text": [
      "cool blue\n",
      "bright yellow\n"
     ]
    }
   ],
   "source": [
    "colours.green()"
   ]
  },
  {
   "cell_type": "code",
   "execution_count": 4,
   "id": "98e4eb1e",
   "metadata": {},
   "outputs": [
    {
     "name": "stdout",
     "output_type": "stream",
     "text": [
      "Help on module colours:\n",
      "\n",
      "NAME\n",
      "    colours\n",
      "\n",
      "FUNCTIONS\n",
      "    blue()\n",
      "    \n",
      "    green()\n",
      "    \n",
      "    yellow()\n",
      "\n",
      "FILE\n",
      "    c:\\users\\admin\\desktop\\tech_data\\day5\\modules\\colours.py\n",
      "\n",
      "\n"
     ]
    }
   ],
   "source": [
    "help(colours)"
   ]
  },
  {
   "cell_type": "code",
   "execution_count": 5,
   "id": "3c161500",
   "metadata": {},
   "outputs": [
    {
     "ename": "AttributeError",
     "evalue": "module 'colours' has no attribute 'red'",
     "output_type": "error",
     "traceback": [
      "\u001b[1;31m---------------------------------------------------------------------------\u001b[0m",
      "\u001b[1;31mAttributeError\u001b[0m                            Traceback (most recent call last)",
      "\u001b[1;32m~\\AppData\\Local\\Temp/ipykernel_8012/4081095403.py\u001b[0m in \u001b[0;36m<module>\u001b[1;34m\u001b[0m\n\u001b[1;32m----> 1\u001b[1;33m \u001b[0mcolours\u001b[0m\u001b[1;33m.\u001b[0m\u001b[0mred\u001b[0m\u001b[1;33m(\u001b[0m\u001b[1;33m)\u001b[0m\u001b[1;33m\u001b[0m\u001b[1;33m\u001b[0m\u001b[0m\n\u001b[0m",
      "\u001b[1;31mAttributeError\u001b[0m: module 'colours' has no attribute 'red'"
     ]
    }
   ],
   "source": [
    "colours.red()"
   ]
  },
  {
   "cell_type": "code",
   "execution_count": 6,
   "id": "9e631743",
   "metadata": {},
   "outputs": [],
   "source": [
    "import colours"
   ]
  },
  {
   "cell_type": "code",
   "execution_count": 7,
   "id": "50fb9684",
   "metadata": {},
   "outputs": [
    {
     "ename": "AttributeError",
     "evalue": "module 'colours' has no attribute 'red'",
     "output_type": "error",
     "traceback": [
      "\u001b[1;31m---------------------------------------------------------------------------\u001b[0m",
      "\u001b[1;31mAttributeError\u001b[0m                            Traceback (most recent call last)",
      "\u001b[1;32m~\\AppData\\Local\\Temp/ipykernel_8012/4081095403.py\u001b[0m in \u001b[0;36m<module>\u001b[1;34m\u001b[0m\n\u001b[1;32m----> 1\u001b[1;33m \u001b[0mcolours\u001b[0m\u001b[1;33m.\u001b[0m\u001b[0mred\u001b[0m\u001b[1;33m(\u001b[0m\u001b[1;33m)\u001b[0m\u001b[1;33m\u001b[0m\u001b[1;33m\u001b[0m\u001b[0m\n\u001b[0m",
      "\u001b[1;31mAttributeError\u001b[0m: module 'colours' has no attribute 'red'"
     ]
    }
   ],
   "source": [
    "colours.red()"
   ]
  },
  {
   "cell_type": "code",
   "execution_count": 8,
   "id": "75f1fc39",
   "metadata": {},
   "outputs": [],
   "source": [
    "import importlib"
   ]
  },
  {
   "cell_type": "code",
   "execution_count": 9,
   "id": "2e7704f7",
   "metadata": {},
   "outputs": [
    {
     "data": {
      "text/plain": [
       "<module 'colours' from 'C:\\\\Users\\\\Admin\\\\Desktop\\\\tech_data\\\\day5\\\\modules\\\\colours.py'>"
      ]
     },
     "execution_count": 9,
     "metadata": {},
     "output_type": "execute_result"
    }
   ],
   "source": [
    "importlib.reload(colours)"
   ]
  },
  {
   "cell_type": "code",
   "execution_count": 10,
   "id": "ae2ddbaa",
   "metadata": {},
   "outputs": [
    {
     "name": "stdout",
     "output_type": "stream",
     "text": [
      "scarlet red\n"
     ]
    }
   ],
   "source": [
    "colours.red()"
   ]
  },
  {
   "cell_type": "code",
   "execution_count": 11,
   "id": "49022d0b",
   "metadata": {},
   "outputs": [
    {
     "name": "stdout",
     "output_type": "stream",
     "text": [
      "Help on module colours:\n",
      "\n",
      "NAME\n",
      "    colours - amazing module, please use\n",
      "\n",
      "FUNCTIONS\n",
      "    blue()\n",
      "        use this function for blue\n",
      "    \n",
      "    green()\n",
      "    \n",
      "    red()\n",
      "    \n",
      "    yellow()\n",
      "\n",
      "FILE\n",
      "    c:\\users\\admin\\desktop\\tech_data\\day5\\modules\\colours.py\n",
      "\n",
      "\n"
     ]
    }
   ],
   "source": [
    "help(colours)"
   ]
  },
  {
   "cell_type": "code",
   "execution_count": null,
   "id": "b28b1cba",
   "metadata": {},
   "outputs": [],
   "source": []
  }
 ],
 "metadata": {
  "kernelspec": {
   "display_name": "Python 3 (ipykernel)",
   "language": "python",
   "name": "python3"
  },
  "language_info": {
   "codemirror_mode": {
    "name": "ipython",
    "version": 3
   },
   "file_extension": ".py",
   "mimetype": "text/x-python",
   "name": "python",
   "nbconvert_exporter": "python",
   "pygments_lexer": "ipython3",
   "version": "3.9.7"
  }
 },
 "nbformat": 4,
 "nbformat_minor": 5
}
