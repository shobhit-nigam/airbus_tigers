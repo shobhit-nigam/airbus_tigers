{
 "cells": [
  {
   "cell_type": "code",
   "execution_count": 1,
   "id": "4448881a",
   "metadata": {},
   "outputs": [],
   "source": [
    "def funcx(la):\n",
    "    lb = 100\n",
    "    print(\"la =\", la)\n",
    "    print(\"lb =\", lb)"
   ]
  },
  {
   "cell_type": "code",
   "execution_count": 2,
   "id": "9fb58c08",
   "metadata": {},
   "outputs": [
    {
     "name": "stdout",
     "output_type": "stream",
     "text": [
      "la = 11\n",
      "lb = 100\n"
     ]
    }
   ],
   "source": [
    "funcx(11)"
   ]
  },
  {
   "cell_type": "code",
   "execution_count": 3,
   "id": "41c06ebf",
   "metadata": {},
   "outputs": [
    {
     "ename": "NameError",
     "evalue": "name 'la' is not defined",
     "output_type": "error",
     "traceback": [
      "\u001b[1;31m---------------------------------------------------------------------------\u001b[0m",
      "\u001b[1;31mNameError\u001b[0m                                 Traceback (most recent call last)",
      "\u001b[1;32m~\\AppData\\Local\\Temp/ipykernel_6476/3612876959.py\u001b[0m in \u001b[0;36m<module>\u001b[1;34m\u001b[0m\n\u001b[1;32m----> 1\u001b[1;33m \u001b[0mprint\u001b[0m\u001b[1;33m(\u001b[0m\u001b[0mla\u001b[0m\u001b[1;33m)\u001b[0m\u001b[1;33m\u001b[0m\u001b[1;33m\u001b[0m\u001b[0m\n\u001b[0m",
      "\u001b[1;31mNameError\u001b[0m: name 'la' is not defined"
     ]
    }
   ],
   "source": [
    "print(la)"
   ]
  },
  {
   "cell_type": "code",
   "execution_count": 4,
   "id": "4925a7f2",
   "metadata": {},
   "outputs": [],
   "source": [
    "la = 99 #global"
   ]
  },
  {
   "cell_type": "code",
   "execution_count": 5,
   "id": "1a9b8d3d",
   "metadata": {},
   "outputs": [],
   "source": [
    "ga = 77"
   ]
  },
  {
   "cell_type": "code",
   "execution_count": 6,
   "id": "400dfe97",
   "metadata": {},
   "outputs": [],
   "source": [
    "def funcx(la):\n",
    "    lb = 100\n",
    "    print(\"ga =\", ga)\n",
    "    print(\"la =\", la)\n",
    "    print(\"lb =\", lb)"
   ]
  },
  {
   "cell_type": "code",
   "execution_count": 7,
   "id": "41426d7c",
   "metadata": {},
   "outputs": [
    {
     "name": "stdout",
     "output_type": "stream",
     "text": [
      "ga = 77\n",
      "la = 89\n",
      "lb = 100\n"
     ]
    }
   ],
   "source": [
    "funcx(89)"
   ]
  },
  {
   "cell_type": "code",
   "execution_count": 8,
   "id": "68f02fa3",
   "metadata": {},
   "outputs": [],
   "source": [
    "def funcy(la):\n",
    "    lb = 100\n",
    "    ga = 12\n",
    "    print(\"ga =\", ga)\n",
    "    print(\"la =\", la)\n",
    "    print(\"lb =\", lb)"
   ]
  },
  {
   "cell_type": "code",
   "execution_count": 9,
   "id": "5dc077c8",
   "metadata": {},
   "outputs": [
    {
     "name": "stdout",
     "output_type": "stream",
     "text": [
      "77\n"
     ]
    }
   ],
   "source": [
    "print(ga)"
   ]
  },
  {
   "cell_type": "code",
   "execution_count": 10,
   "id": "ece5fbc9",
   "metadata": {},
   "outputs": [
    {
     "name": "stdout",
     "output_type": "stream",
     "text": [
      "ga = 12\n",
      "la = 99\n",
      "lb = 100\n"
     ]
    }
   ],
   "source": [
    "funcy(99)"
   ]
  },
  {
   "cell_type": "code",
   "execution_count": 11,
   "id": "e0810381",
   "metadata": {},
   "outputs": [
    {
     "name": "stdout",
     "output_type": "stream",
     "text": [
      "77\n"
     ]
    }
   ],
   "source": [
    "print(ga)"
   ]
  },
  {
   "cell_type": "code",
   "execution_count": 12,
   "id": "7c4c6c67",
   "metadata": {},
   "outputs": [],
   "source": [
    "def funcy(la):\n",
    "    lb = 100\n",
    "    global ga\n",
    "    ga = 12\n",
    "    print(\"ga =\", ga)\n",
    "    print(\"la =\", la)\n",
    "    print(\"lb =\", lb)"
   ]
  },
  {
   "cell_type": "code",
   "execution_count": 13,
   "id": "7a81cf05",
   "metadata": {},
   "outputs": [
    {
     "name": "stdout",
     "output_type": "stream",
     "text": [
      "77\n"
     ]
    }
   ],
   "source": [
    "print(ga)"
   ]
  },
  {
   "cell_type": "code",
   "execution_count": 14,
   "id": "5056518c",
   "metadata": {},
   "outputs": [
    {
     "name": "stdout",
     "output_type": "stream",
     "text": [
      "ga = 12\n",
      "la = 88\n",
      "lb = 100\n"
     ]
    }
   ],
   "source": [
    "funcy(88)"
   ]
  },
  {
   "cell_type": "code",
   "execution_count": 15,
   "id": "a29ac0ac",
   "metadata": {},
   "outputs": [
    {
     "name": "stdout",
     "output_type": "stream",
     "text": [
      "12\n"
     ]
    }
   ],
   "source": [
    "print(ga)"
   ]
  },
  {
   "cell_type": "code",
   "execution_count": null,
   "id": "7902f1f0",
   "metadata": {},
   "outputs": [],
   "source": []
  }
 ],
 "metadata": {
  "kernelspec": {
   "display_name": "Python 3 (ipykernel)",
   "language": "python",
   "name": "python3"
  },
  "language_info": {
   "codemirror_mode": {
    "name": "ipython",
    "version": 3
   },
   "file_extension": ".py",
   "mimetype": "text/x-python",
   "name": "python",
   "nbconvert_exporter": "python",
   "pygments_lexer": "ipython3",
   "version": "3.9.7"
  }
 },
 "nbformat": 4,
 "nbformat_minor": 5
}
