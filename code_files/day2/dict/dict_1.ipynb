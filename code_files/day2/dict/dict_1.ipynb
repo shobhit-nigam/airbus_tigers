{
 "cells": [
  {
   "cell_type": "code",
   "execution_count": 1,
   "id": "a2abce8c",
   "metadata": {},
   "outputs": [],
   "source": [
    "avengers = {\"ironman\", \"captain\", \"wanda\", \"thor\"}"
   ]
  },
  {
   "cell_type": "code",
   "execution_count": 2,
   "id": "96fc2f53",
   "metadata": {},
   "outputs": [],
   "source": [
    "avengers = {\"ironman\":\"suit\", \"captain\":\"shield\", \"wanda\":\"magic\", \"thor\":\"hammer\"}"
   ]
  },
  {
   "cell_type": "code",
   "execution_count": 3,
   "id": "05b6a226",
   "metadata": {},
   "outputs": [
    {
     "ename": "KeyError",
     "evalue": "2",
     "output_type": "error",
     "traceback": [
      "\u001b[1;31m---------------------------------------------------------------------------\u001b[0m",
      "\u001b[1;31mKeyError\u001b[0m                                  Traceback (most recent call last)",
      "\u001b[1;32m~\\AppData\\Local\\Temp/ipykernel_9504/879275696.py\u001b[0m in \u001b[0;36m<module>\u001b[1;34m\u001b[0m\n\u001b[1;32m----> 1\u001b[1;33m \u001b[0mavengers\u001b[0m\u001b[1;33m[\u001b[0m\u001b[1;36m2\u001b[0m\u001b[1;33m]\u001b[0m\u001b[1;33m\u001b[0m\u001b[1;33m\u001b[0m\u001b[0m\n\u001b[0m",
      "\u001b[1;31mKeyError\u001b[0m: 2"
     ]
    }
   ],
   "source": [
    "avengers[2]"
   ]
  },
  {
   "cell_type": "code",
   "execution_count": 4,
   "id": "ab50b96e",
   "metadata": {},
   "outputs": [
    {
     "data": {
      "text/plain": [
       "'magic'"
      ]
     },
     "execution_count": 4,
     "metadata": {},
     "output_type": "execute_result"
    }
   ],
   "source": [
    "avengers[\"wanda\"]"
   ]
  },
  {
   "cell_type": "code",
   "execution_count": 5,
   "id": "579a7da0",
   "metadata": {},
   "outputs": [
    {
     "data": {
      "text/plain": [
       "dict"
      ]
     },
     "execution_count": 5,
     "metadata": {},
     "output_type": "execute_result"
    }
   ],
   "source": [
    "type(avengers)"
   ]
  },
  {
   "cell_type": "code",
   "execution_count": 6,
   "id": "0900cda2",
   "metadata": {},
   "outputs": [
    {
     "data": {
      "text/plain": [
       "{'ironman': 'suit', 'captain': 'shield', 'wanda': 'magic', 'thor': 'hammer'}"
      ]
     },
     "execution_count": 6,
     "metadata": {},
     "output_type": "execute_result"
    }
   ],
   "source": [
    "avengers"
   ]
  },
  {
   "cell_type": "code",
   "execution_count": 7,
   "id": "30c32350",
   "metadata": {},
   "outputs": [],
   "source": [
    "dict_a = {\"aa\":24, \"bb\":100, 6:87, 2:\"tt\"}"
   ]
  },
  {
   "cell_type": "code",
   "execution_count": 8,
   "id": "04231ef6",
   "metadata": {},
   "outputs": [
    {
     "data": {
      "text/plain": [
       "dict_keys(['aa', 'bb', 6, 2])"
      ]
     },
     "execution_count": 8,
     "metadata": {},
     "output_type": "execute_result"
    }
   ],
   "source": [
    "dict_a.keys()"
   ]
  },
  {
   "cell_type": "code",
   "execution_count": 9,
   "id": "ea7b694d",
   "metadata": {},
   "outputs": [
    {
     "data": {
      "text/plain": [
       "dict_values([24, 100, 87, 'tt'])"
      ]
     },
     "execution_count": 9,
     "metadata": {},
     "output_type": "execute_result"
    }
   ],
   "source": [
    "dict_a.values()"
   ]
  },
  {
   "cell_type": "code",
   "execution_count": 10,
   "id": "e85a1d3d",
   "metadata": {},
   "outputs": [
    {
     "data": {
      "text/plain": [
       "'tt'"
      ]
     },
     "execution_count": 10,
     "metadata": {},
     "output_type": "execute_result"
    }
   ],
   "source": [
    "dict_a[2]"
   ]
  },
  {
   "cell_type": "code",
   "execution_count": 11,
   "id": "ca1127fa",
   "metadata": {},
   "outputs": [],
   "source": [
    "avengers = {\"ironman\":\"suit\", \"captain\":\"shield\", \"wanda\":\"magic\", \"thor\":\"hammer\"}"
   ]
  },
  {
   "cell_type": "code",
   "execution_count": 12,
   "id": "e9478d6a",
   "metadata": {},
   "outputs": [],
   "source": [
    "avengers[\"captain\"] = [\"shield\", \"hammer\"]"
   ]
  },
  {
   "cell_type": "code",
   "execution_count": 13,
   "id": "237dc152",
   "metadata": {},
   "outputs": [
    {
     "data": {
      "text/plain": [
       "{'ironman': 'suit',\n",
       " 'captain': ['shield', 'hammer'],\n",
       " 'wanda': 'magic',\n",
       " 'thor': 'hammer'}"
      ]
     },
     "execution_count": 13,
     "metadata": {},
     "output_type": "execute_result"
    }
   ],
   "source": [
    "avengers"
   ]
  },
  {
   "cell_type": "code",
   "execution_count": 14,
   "id": "b5226cd1",
   "metadata": {},
   "outputs": [],
   "source": [
    "avengers['hulk'] = \"smash\""
   ]
  },
  {
   "cell_type": "code",
   "execution_count": 15,
   "id": "fe6a308d",
   "metadata": {},
   "outputs": [
    {
     "data": {
      "text/plain": [
       "{'ironman': 'suit',\n",
       " 'captain': ['shield', 'hammer'],\n",
       " 'wanda': 'magic',\n",
       " 'thor': 'hammer',\n",
       " 'hulk': 'smash'}"
      ]
     },
     "execution_count": 15,
     "metadata": {},
     "output_type": "execute_result"
    }
   ],
   "source": [
    "avengers"
   ]
  },
  {
   "cell_type": "code",
   "execution_count": 18,
   "id": "6bb38c9b",
   "metadata": {},
   "outputs": [],
   "source": [
    "marvel = {\"spiderman\":\"webs\", \"wolverine\":\"claws\", \"avengers\":avengers} "
   ]
  },
  {
   "cell_type": "code",
   "execution_count": 19,
   "id": "3de1269e",
   "metadata": {},
   "outputs": [
    {
     "data": {
      "text/plain": [
       "{'spiderman': 'webs',\n",
       " 'wolverine': 'claws',\n",
       " 'avengers': {'ironman': 'suit',\n",
       "  'captain': ['shield', 'hammer'],\n",
       "  'wanda': 'magic',\n",
       "  'thor': 'hammer',\n",
       "  'hulk': 'smash'}}"
      ]
     },
     "execution_count": 19,
     "metadata": {},
     "output_type": "execute_result"
    }
   ],
   "source": [
    "marvel"
   ]
  },
  {
   "cell_type": "code",
   "execution_count": 20,
   "id": "a3e4d3e4",
   "metadata": {},
   "outputs": [
    {
     "data": {
      "text/plain": [
       "{'ironman': 'suit',\n",
       " 'captain': ['shield', 'hammer'],\n",
       " 'wanda': 'magic',\n",
       " 'thor': 'hammer',\n",
       " 'hulk': 'smash'}"
      ]
     },
     "execution_count": 20,
     "metadata": {},
     "output_type": "execute_result"
    }
   ],
   "source": [
    "marvel['avengers']"
   ]
  },
  {
   "cell_type": "code",
   "execution_count": 21,
   "id": "1153b194",
   "metadata": {},
   "outputs": [
    {
     "data": {
      "text/plain": [
       "['shield', 'hammer']"
      ]
     },
     "execution_count": 21,
     "metadata": {},
     "output_type": "execute_result"
    }
   ],
   "source": [
    "marvel['avengers']['captain']"
   ]
  },
  {
   "cell_type": "code",
   "execution_count": 22,
   "id": "414e19d4",
   "metadata": {},
   "outputs": [
    {
     "data": {
      "text/plain": [
       "'hammer'"
      ]
     },
     "execution_count": 22,
     "metadata": {},
     "output_type": "execute_result"
    }
   ],
   "source": [
    "marvel['avengers']['captain'][1]"
   ]
  },
  {
   "cell_type": "code",
   "execution_count": 23,
   "id": "26cd3b88",
   "metadata": {},
   "outputs": [
    {
     "data": {
      "text/plain": [
       "'a'"
      ]
     },
     "execution_count": 23,
     "metadata": {},
     "output_type": "execute_result"
    }
   ],
   "source": [
    "marvel['avengers']['captain'][1][1]"
   ]
  },
  {
   "cell_type": "code",
   "execution_count": 24,
   "id": "9631b67f",
   "metadata": {},
   "outputs": [],
   "source": [
    "classroom = {('male', 'mask'):1, ('female', 'mask'):1, ('male', 'no mask'):7}"
   ]
  },
  {
   "cell_type": "code",
   "execution_count": null,
   "id": "a29bef2d",
   "metadata": {},
   "outputs": [],
   "source": []
  }
 ],
 "metadata": {
  "kernelspec": {
   "display_name": "Python 3 (ipykernel)",
   "language": "python",
   "name": "python3"
  },
  "language_info": {
   "codemirror_mode": {
    "name": "ipython",
    "version": 3
   },
   "file_extension": ".py",
   "mimetype": "text/x-python",
   "name": "python",
   "nbconvert_exporter": "python",
   "pygments_lexer": "ipython3",
   "version": "3.9.7"
  }
 },
 "nbformat": 4,
 "nbformat_minor": 5
}
