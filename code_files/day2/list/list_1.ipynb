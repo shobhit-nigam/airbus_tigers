{
 "cells": [
  {
   "cell_type": "code",
   "execution_count": 1,
   "id": "ae03a0f6",
   "metadata": {},
   "outputs": [],
   "source": [
    "avengers = [\"captain\", \"ironman\", \"thor\", \"loki\"]"
   ]
  },
  {
   "cell_type": "code",
   "execution_count": 2,
   "id": "ee4c5cd8",
   "metadata": {},
   "outputs": [
    {
     "name": "stdout",
     "output_type": "stream",
     "text": [
      "<class 'list'>\n"
     ]
    }
   ],
   "source": [
    "print(type(avengers))"
   ]
  },
  {
   "cell_type": "code",
   "execution_count": 3,
   "id": "ea59673f",
   "metadata": {},
   "outputs": [
    {
     "data": {
      "text/plain": [
       "'ironman'"
      ]
     },
     "execution_count": 3,
     "metadata": {},
     "output_type": "execute_result"
    }
   ],
   "source": [
    "avengers[1]"
   ]
  },
  {
   "cell_type": "code",
   "execution_count": 4,
   "id": "0dbb3e2e",
   "metadata": {},
   "outputs": [
    {
     "data": {
      "text/plain": [
       "['captain', 'ironman']"
      ]
     },
     "execution_count": 4,
     "metadata": {},
     "output_type": "execute_result"
    }
   ],
   "source": [
    "avengers[0:2]"
   ]
  },
  {
   "cell_type": "code",
   "execution_count": 5,
   "id": "87119838",
   "metadata": {},
   "outputs": [
    {
     "data": {
      "text/plain": [
       "'loki'"
      ]
     },
     "execution_count": 5,
     "metadata": {},
     "output_type": "execute_result"
    }
   ],
   "source": [
    "avengers[-1]"
   ]
  },
  {
   "cell_type": "code",
   "execution_count": 6,
   "id": "f780cb11",
   "metadata": {},
   "outputs": [
    {
     "data": {
      "text/plain": [
       "'r'"
      ]
     },
     "execution_count": 6,
     "metadata": {},
     "output_type": "execute_result"
    }
   ],
   "source": [
    "avengers[1][1]"
   ]
  },
  {
   "cell_type": "code",
   "execution_count": 7,
   "id": "1687bd8b",
   "metadata": {},
   "outputs": [],
   "source": [
    "list_num = [12, 6, 9, 43, 56]"
   ]
  },
  {
   "cell_type": "code",
   "execution_count": 8,
   "id": "080388ce",
   "metadata": {},
   "outputs": [
    {
     "data": {
      "text/plain": [
       "9"
      ]
     },
     "execution_count": 8,
     "metadata": {},
     "output_type": "execute_result"
    }
   ],
   "source": [
    "list_num[2]"
   ]
  },
  {
   "cell_type": "code",
   "execution_count": 9,
   "id": "7c6b10ba",
   "metadata": {},
   "outputs": [
    {
     "data": {
      "text/plain": [
       "['captain', 'ironman', 'thor', 'loki']"
      ]
     },
     "execution_count": 9,
     "metadata": {},
     "output_type": "execute_result"
    }
   ],
   "source": [
    "avengers"
   ]
  },
  {
   "cell_type": "code",
   "execution_count": 10,
   "id": "f18242af",
   "metadata": {},
   "outputs": [],
   "source": [
    "xmen = [\"magneto\", \"wolverine\", \"mystique\"]"
   ]
  },
  {
   "cell_type": "code",
   "execution_count": 11,
   "id": "a1f1cfe8",
   "metadata": {},
   "outputs": [],
   "source": [
    "list_x = [\"hey\", 2, 3, 4.5, [\"a\", \"b\", \"c\"], 23]"
   ]
  },
  {
   "cell_type": "code",
   "execution_count": 12,
   "id": "11318cf4",
   "metadata": {},
   "outputs": [],
   "source": [
    "marvel = [\"dr.strange\", \"wanda\", xmen, avengers]"
   ]
  },
  {
   "cell_type": "code",
   "execution_count": 13,
   "id": "227a6717",
   "metadata": {},
   "outputs": [
    {
     "data": {
      "text/plain": [
       "['dr.strange',\n",
       " 'wanda',\n",
       " ['magneto', 'wolverine', 'mystique'],\n",
       " ['captain', 'ironman', 'thor', 'loki']]"
      ]
     },
     "execution_count": 13,
     "metadata": {},
     "output_type": "execute_result"
    }
   ],
   "source": [
    "marvel"
   ]
  },
  {
   "cell_type": "code",
   "execution_count": 14,
   "id": "a9b28c18",
   "metadata": {},
   "outputs": [
    {
     "data": {
      "text/plain": [
       "'wanda'"
      ]
     },
     "execution_count": 14,
     "metadata": {},
     "output_type": "execute_result"
    }
   ],
   "source": [
    "marvel[1]"
   ]
  },
  {
   "cell_type": "code",
   "execution_count": 15,
   "id": "f21acdee",
   "metadata": {},
   "outputs": [
    {
     "data": {
      "text/plain": [
       "'a'"
      ]
     },
     "execution_count": 15,
     "metadata": {},
     "output_type": "execute_result"
    }
   ],
   "source": [
    "marvel[1][1]"
   ]
  },
  {
   "cell_type": "code",
   "execution_count": 16,
   "id": "177f83e4",
   "metadata": {},
   "outputs": [
    {
     "data": {
      "text/plain": [
       "['dr.strange',\n",
       " 'wanda',\n",
       " ['magneto', 'wolverine', 'mystique'],\n",
       " ['captain', 'ironman', 'thor', 'loki']]"
      ]
     },
     "execution_count": 16,
     "metadata": {},
     "output_type": "execute_result"
    }
   ],
   "source": [
    "marvel"
   ]
  },
  {
   "cell_type": "code",
   "execution_count": 17,
   "id": "9e03dc19",
   "metadata": {},
   "outputs": [
    {
     "data": {
      "text/plain": [
       "['magneto', 'wolverine', 'mystique']"
      ]
     },
     "execution_count": 17,
     "metadata": {},
     "output_type": "execute_result"
    }
   ],
   "source": [
    "marvel[2]"
   ]
  },
  {
   "cell_type": "code",
   "execution_count": 18,
   "id": "cc826ec1",
   "metadata": {},
   "outputs": [
    {
     "data": {
      "text/plain": [
       "'wolverine'"
      ]
     },
     "execution_count": 18,
     "metadata": {},
     "output_type": "execute_result"
    }
   ],
   "source": [
    "marvel[2][1]"
   ]
  },
  {
   "cell_type": "code",
   "execution_count": 19,
   "id": "bbd242de",
   "metadata": {},
   "outputs": [
    {
     "data": {
      "text/plain": [
       "'o'"
      ]
     },
     "execution_count": 19,
     "metadata": {},
     "output_type": "execute_result"
    }
   ],
   "source": [
    "marvel[2][1][1]"
   ]
  },
  {
   "cell_type": "code",
   "execution_count": 20,
   "id": "94626ede",
   "metadata": {},
   "outputs": [],
   "source": [
    "list_num = [[2, 3], [10, 20]] "
   ]
  },
  {
   "cell_type": "code",
   "execution_count": 21,
   "id": "54d30acb",
   "metadata": {},
   "outputs": [],
   "source": [
    "import numpy as np"
   ]
  },
  {
   "cell_type": "code",
   "execution_count": 22,
   "id": "6bc7cc63",
   "metadata": {},
   "outputs": [],
   "source": [
    "n = np.array(list_num)"
   ]
  },
  {
   "cell_type": "code",
   "execution_count": 24,
   "id": "e85082b5",
   "metadata": {},
   "outputs": [
    {
     "name": "stdout",
     "output_type": "stream",
     "text": [
      "[[ 2  3]\n",
      " [10 20]]\n"
     ]
    }
   ],
   "source": [
    "print(n)"
   ]
  },
  {
   "cell_type": "code",
   "execution_count": 25,
   "id": "2d46a00b",
   "metadata": {},
   "outputs": [
    {
     "name": "stdout",
     "output_type": "stream",
     "text": [
      "['dr.strange', 'wanda', ['magneto', 'wolverine', 'mystique'], ['captain', 'ironman', 'thor', 'loki']]\n"
     ]
    }
   ],
   "source": [
    "print(marvel)"
   ]
  },
  {
   "cell_type": "code",
   "execution_count": 26,
   "id": "a88531bb",
   "metadata": {},
   "outputs": [],
   "source": [
    "list_num = [[2, 3], [10, 20], 23]  "
   ]
  },
  {
   "cell_type": "code",
   "execution_count": 27,
   "id": "d63ee38e",
   "metadata": {},
   "outputs": [],
   "source": [
    "list_func = [print, type, len]"
   ]
  },
  {
   "cell_type": "code",
   "execution_count": 28,
   "id": "f17e441c",
   "metadata": {},
   "outputs": [
    {
     "name": "stdout",
     "output_type": "stream",
     "text": [
      "hello\n"
     ]
    }
   ],
   "source": [
    "list_func[0](\"hello\")\n",
    "\n",
    "# print(\"hello\")"
   ]
  },
  {
   "cell_type": "code",
   "execution_count": 29,
   "id": "d87bdbda",
   "metadata": {},
   "outputs": [
    {
     "data": {
      "text/plain": [
       "<function print>"
      ]
     },
     "execution_count": 29,
     "metadata": {},
     "output_type": "execute_result"
    }
   ],
   "source": [
    "print"
   ]
  },
  {
   "cell_type": "code",
   "execution_count": 30,
   "id": "dca41c07",
   "metadata": {},
   "outputs": [
    {
     "data": {
      "text/plain": [
       "<function print>"
      ]
     },
     "execution_count": 30,
     "metadata": {},
     "output_type": "execute_result"
    }
   ],
   "source": [
    "list_func[0]"
   ]
  },
  {
   "cell_type": "code",
   "execution_count": 31,
   "id": "56e3b0d2",
   "metadata": {},
   "outputs": [
    {
     "data": {
      "text/plain": [
       "[<function print>, type, <function len(obj, /)>]"
      ]
     },
     "execution_count": 31,
     "metadata": {},
     "output_type": "execute_result"
    }
   ],
   "source": [
    "list_func"
   ]
  },
  {
   "cell_type": "code",
   "execution_count": 32,
   "id": "59103628",
   "metadata": {},
   "outputs": [
    {
     "name": "stdout",
     "output_type": "stream",
     "text": [
      "[<built-in function print>, <class 'type'>, <built-in function len>]\n"
     ]
    }
   ],
   "source": [
    "print(list_func)"
   ]
  },
  {
   "cell_type": "code",
   "execution_count": 33,
   "id": "0ee0be3c",
   "metadata": {},
   "outputs": [],
   "source": [
    "inta = 33"
   ]
  },
  {
   "cell_type": "code",
   "execution_count": 34,
   "id": "18ee9ff0",
   "metadata": {},
   "outputs": [],
   "source": [
    "lista = inta "
   ]
  },
  {
   "cell_type": "code",
   "execution_count": 35,
   "id": "b10ecd87",
   "metadata": {},
   "outputs": [],
   "source": [
    "listb = [inta] "
   ]
  },
  {
   "cell_type": "code",
   "execution_count": 36,
   "id": "bc36e542",
   "metadata": {},
   "outputs": [
    {
     "data": {
      "text/plain": [
       "33"
      ]
     },
     "execution_count": 36,
     "metadata": {},
     "output_type": "execute_result"
    }
   ],
   "source": [
    "lista"
   ]
  },
  {
   "cell_type": "code",
   "execution_count": 37,
   "id": "6c3cf54d",
   "metadata": {},
   "outputs": [
    {
     "data": {
      "text/plain": [
       "[33]"
      ]
     },
     "execution_count": 37,
     "metadata": {},
     "output_type": "execute_result"
    }
   ],
   "source": [
    "listb"
   ]
  },
  {
   "cell_type": "code",
   "execution_count": 38,
   "id": "81f49c02",
   "metadata": {},
   "outputs": [],
   "source": [
    "listb = [inta, 100, avengers]   "
   ]
  },
  {
   "cell_type": "code",
   "execution_count": 39,
   "id": "5fd120e1",
   "metadata": {},
   "outputs": [
    {
     "data": {
      "text/plain": [
       "list"
      ]
     },
     "execution_count": 39,
     "metadata": {},
     "output_type": "execute_result"
    }
   ],
   "source": [
    "type(listb[2])"
   ]
  },
  {
   "cell_type": "code",
   "execution_count": 40,
   "id": "aad21e5a",
   "metadata": {},
   "outputs": [],
   "source": [
    "listc = [inta, 100, \"avengers\"]   "
   ]
  },
  {
   "cell_type": "code",
   "execution_count": 41,
   "id": "a401704e",
   "metadata": {},
   "outputs": [],
   "source": [
    "avengers = [\"captain\",      \"ironman\", \"thor\", \"loki\"]"
   ]
  },
  {
   "cell_type": "code",
   "execution_count": null,
   "id": "0fe79a8a",
   "metadata": {},
   "outputs": [],
   "source": [
    "avengers."
   ]
  }
 ],
 "metadata": {
  "kernelspec": {
   "display_name": "Python 3 (ipykernel)",
   "language": "python",
   "name": "python3"
  },
  "language_info": {
   "codemirror_mode": {
    "name": "ipython",
    "version": 3
   },
   "file_extension": ".py",
   "mimetype": "text/x-python",
   "name": "python",
   "nbconvert_exporter": "python",
   "pygments_lexer": "ipython3",
   "version": "3.9.7"
  }
 },
 "nbformat": 4,
 "nbformat_minor": 5
}
