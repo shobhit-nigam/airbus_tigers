{
 "cells": [
  {
   "cell_type": "code",
   "execution_count": 1,
   "id": "6bd7e82a",
   "metadata": {},
   "outputs": [],
   "source": [
    "avengers = [\"captain\", \"ironman\", \"thor\", \"loki\"] "
   ]
  },
  {
   "cell_type": "code",
   "execution_count": 2,
   "id": "036c7552",
   "metadata": {},
   "outputs": [],
   "source": [
    "avengers.append(\"wanda\")"
   ]
  },
  {
   "cell_type": "code",
   "execution_count": 3,
   "id": "b08cfc0b",
   "metadata": {},
   "outputs": [
    {
     "data": {
      "text/plain": [
       "['captain', 'ironman', 'thor', 'loki', 'wanda']"
      ]
     },
     "execution_count": 3,
     "metadata": {},
     "output_type": "execute_result"
    }
   ],
   "source": [
    "avengers"
   ]
  },
  {
   "cell_type": "code",
   "execution_count": 4,
   "id": "fc4ee73c",
   "metadata": {},
   "outputs": [],
   "source": [
    "avengers.extend([\"hawkeye\", \"hulk\"])"
   ]
  },
  {
   "cell_type": "code",
   "execution_count": 5,
   "id": "8efd35ae",
   "metadata": {},
   "outputs": [
    {
     "data": {
      "text/plain": [
       "['captain', 'ironman', 'thor', 'loki', 'wanda', 'hawkeye', 'hulk']"
      ]
     },
     "execution_count": 5,
     "metadata": {},
     "output_type": "execute_result"
    }
   ],
   "source": [
    "avengers"
   ]
  },
  {
   "cell_type": "code",
   "execution_count": 6,
   "id": "3017524e",
   "metadata": {},
   "outputs": [
    {
     "data": {
      "text/plain": [
       "3"
      ]
     },
     "execution_count": 6,
     "metadata": {},
     "output_type": "execute_result"
    }
   ],
   "source": [
    "avengers.index(\"loki\")"
   ]
  },
  {
   "cell_type": "code",
   "execution_count": 7,
   "id": "d6a6c756",
   "metadata": {},
   "outputs": [
    {
     "data": {
      "text/plain": [
       "'hulk'"
      ]
     },
     "execution_count": 7,
     "metadata": {},
     "output_type": "execute_result"
    }
   ],
   "source": [
    "avengers.pop()"
   ]
  },
  {
   "cell_type": "code",
   "execution_count": 8,
   "id": "f780663c",
   "metadata": {},
   "outputs": [
    {
     "data": {
      "text/plain": [
       "['captain', 'ironman', 'thor', 'loki', 'wanda', 'hawkeye']"
      ]
     },
     "execution_count": 8,
     "metadata": {},
     "output_type": "execute_result"
    }
   ],
   "source": [
    "avengers"
   ]
  },
  {
   "cell_type": "code",
   "execution_count": 9,
   "id": "b097ca5a",
   "metadata": {},
   "outputs": [],
   "source": [
    "avengers.remove(\"thor\")"
   ]
  },
  {
   "cell_type": "code",
   "execution_count": 10,
   "id": "2fe5ccd6",
   "metadata": {},
   "outputs": [
    {
     "data": {
      "text/plain": [
       "['captain', 'ironman', 'loki', 'wanda', 'hawkeye']"
      ]
     },
     "execution_count": 10,
     "metadata": {},
     "output_type": "execute_result"
    }
   ],
   "source": [
    "avengers"
   ]
  },
  {
   "cell_type": "code",
   "execution_count": 11,
   "id": "94452d13",
   "metadata": {},
   "outputs": [
    {
     "data": {
      "text/plain": [
       "'loki'"
      ]
     },
     "execution_count": 11,
     "metadata": {},
     "output_type": "execute_result"
    }
   ],
   "source": [
    "avengers.pop(2)"
   ]
  },
  {
   "cell_type": "code",
   "execution_count": 12,
   "id": "db514bf7",
   "metadata": {},
   "outputs": [
    {
     "data": {
      "text/plain": [
       "['captain', 'ironman', 'wanda', 'hawkeye']"
      ]
     },
     "execution_count": 12,
     "metadata": {},
     "output_type": "execute_result"
    }
   ],
   "source": [
    "avengers"
   ]
  },
  {
   "cell_type": "code",
   "execution_count": 13,
   "id": "39a9cd03",
   "metadata": {},
   "outputs": [
    {
     "ename": "ValueError",
     "evalue": "list.remove(x): x not in list",
     "output_type": "error",
     "traceback": [
      "\u001b[1;31m---------------------------------------------------------------------------\u001b[0m",
      "\u001b[1;31mValueError\u001b[0m                                Traceback (most recent call last)",
      "\u001b[1;32m~\\AppData\\Local\\Temp/ipykernel_9784/2580478628.py\u001b[0m in \u001b[0;36m<module>\u001b[1;34m\u001b[0m\n\u001b[1;32m----> 1\u001b[1;33m \u001b[0mavengers\u001b[0m\u001b[1;33m.\u001b[0m\u001b[0mremove\u001b[0m\u001b[1;33m(\u001b[0m\u001b[1;34m\"black widow\"\u001b[0m\u001b[1;33m)\u001b[0m\u001b[1;33m\u001b[0m\u001b[1;33m\u001b[0m\u001b[0m\n\u001b[0m",
      "\u001b[1;31mValueError\u001b[0m: list.remove(x): x not in list"
     ]
    }
   ],
   "source": [
    "avengers.remove(\"black widow\")"
   ]
  },
  {
   "cell_type": "code",
   "execution_count": 14,
   "id": "414ed138",
   "metadata": {},
   "outputs": [],
   "source": [
    "list_num = [12, 32, 67, 12, 45, 12, 33, 67]"
   ]
  },
  {
   "cell_type": "code",
   "execution_count": 15,
   "id": "e6542de4",
   "metadata": {},
   "outputs": [
    {
     "data": {
      "text/plain": [
       "[12, 32, 67, 12, 45, 12, 33, 67]"
      ]
     },
     "execution_count": 15,
     "metadata": {},
     "output_type": "execute_result"
    }
   ],
   "source": [
    "list_num"
   ]
  },
  {
   "cell_type": "code",
   "execution_count": 16,
   "id": "367ba94d",
   "metadata": {},
   "outputs": [],
   "source": [
    "list_num.remove(12)"
   ]
  },
  {
   "cell_type": "code",
   "execution_count": 17,
   "id": "2b91947d",
   "metadata": {},
   "outputs": [
    {
     "data": {
      "text/plain": [
       "[32, 67, 12, 45, 12, 33, 67]"
      ]
     },
     "execution_count": 17,
     "metadata": {},
     "output_type": "execute_result"
    }
   ],
   "source": [
    "list_num"
   ]
  },
  {
   "cell_type": "code",
   "execution_count": 18,
   "id": "b7e0a127",
   "metadata": {},
   "outputs": [
    {
     "data": {
      "text/plain": [
       "['captain', 'ironman', 'wanda', 'hawkeye']"
      ]
     },
     "execution_count": 18,
     "metadata": {},
     "output_type": "execute_result"
    }
   ],
   "source": [
    "avengers"
   ]
  },
  {
   "cell_type": "code",
   "execution_count": 19,
   "id": "8cf100da",
   "metadata": {},
   "outputs": [
    {
     "data": {
      "text/plain": [
       "2"
      ]
     },
     "execution_count": 19,
     "metadata": {},
     "output_type": "execute_result"
    }
   ],
   "source": [
    "list_num.count(12)"
   ]
  },
  {
   "cell_type": "code",
   "execution_count": 20,
   "id": "2cfd49c0",
   "metadata": {},
   "outputs": [],
   "source": [
    "list_num.sort()"
   ]
  },
  {
   "cell_type": "code",
   "execution_count": 21,
   "id": "0c52a0bd",
   "metadata": {},
   "outputs": [
    {
     "data": {
      "text/plain": [
       "[12, 12, 32, 33, 45, 67, 67]"
      ]
     },
     "execution_count": 21,
     "metadata": {},
     "output_type": "execute_result"
    }
   ],
   "source": [
    "list_num"
   ]
  },
  {
   "cell_type": "code",
   "execution_count": 22,
   "id": "e259cb2f",
   "metadata": {},
   "outputs": [
    {
     "data": {
      "text/plain": [
       "['captain', 'ironman', 'wanda', 'hawkeye']"
      ]
     },
     "execution_count": 22,
     "metadata": {},
     "output_type": "execute_result"
    }
   ],
   "source": [
    "avengers"
   ]
  },
  {
   "cell_type": "code",
   "execution_count": 23,
   "id": "49f9a1eb",
   "metadata": {},
   "outputs": [],
   "source": [
    "avengers.sort()"
   ]
  },
  {
   "cell_type": "code",
   "execution_count": 24,
   "id": "4d0b6833",
   "metadata": {},
   "outputs": [
    {
     "data": {
      "text/plain": [
       "['captain', 'hawkeye', 'ironman', 'wanda']"
      ]
     },
     "execution_count": 24,
     "metadata": {},
     "output_type": "execute_result"
    }
   ],
   "source": [
    "avengers"
   ]
  },
  {
   "cell_type": "code",
   "execution_count": 25,
   "id": "a463bd34",
   "metadata": {},
   "outputs": [],
   "source": [
    "avengers.sort(reverse=True)"
   ]
  },
  {
   "cell_type": "code",
   "execution_count": 26,
   "id": "8ce7520c",
   "metadata": {},
   "outputs": [
    {
     "data": {
      "text/plain": [
       "['wanda', 'ironman', 'hawkeye', 'captain']"
      ]
     },
     "execution_count": 26,
     "metadata": {},
     "output_type": "execute_result"
    }
   ],
   "source": [
    "avengers"
   ]
  },
  {
   "cell_type": "code",
   "execution_count": 28,
   "id": "65f0f2e1",
   "metadata": {},
   "outputs": [],
   "source": [
    "hero = avengers"
   ]
  },
  {
   "cell_type": "code",
   "execution_count": 29,
   "id": "75a9e6b1",
   "metadata": {},
   "outputs": [
    {
     "data": {
      "text/plain": [
       "['wanda', 'ironman', 'hawkeye', 'captain']"
      ]
     },
     "execution_count": 29,
     "metadata": {},
     "output_type": "execute_result"
    }
   ],
   "source": [
    "avengers"
   ]
  },
  {
   "cell_type": "code",
   "execution_count": 30,
   "id": "bdef7802",
   "metadata": {},
   "outputs": [
    {
     "data": {
      "text/plain": [
       "['wanda', 'ironman', 'hawkeye', 'captain']"
      ]
     },
     "execution_count": 30,
     "metadata": {},
     "output_type": "execute_result"
    }
   ],
   "source": [
    "hero"
   ]
  },
  {
   "cell_type": "code",
   "execution_count": 31,
   "id": "93f0cc70",
   "metadata": {},
   "outputs": [],
   "source": [
    "marvel = [\"dr.strange\", \"wanda\", avengers]"
   ]
  },
  {
   "cell_type": "code",
   "execution_count": 32,
   "id": "69a3003c",
   "metadata": {},
   "outputs": [
    {
     "data": {
      "text/plain": [
       "['dr.strange', 'wanda', ['wanda', 'ironman', 'hawkeye', 'captain']]"
      ]
     },
     "execution_count": 32,
     "metadata": {},
     "output_type": "execute_result"
    }
   ],
   "source": [
    "marvel"
   ]
  },
  {
   "cell_type": "code",
   "execution_count": 33,
   "id": "414839ce",
   "metadata": {},
   "outputs": [],
   "source": [
    "avengers.sort()\n",
    "avengers.insert(2, \"hawkeye\")\n",
    "avengers.append(\"antman\")"
   ]
  },
  {
   "cell_type": "code",
   "execution_count": 34,
   "id": "de0fbf2d",
   "metadata": {},
   "outputs": [
    {
     "data": {
      "text/plain": [
       "['captain', 'hawkeye', 'hawkeye', 'ironman', 'wanda', 'antman']"
      ]
     },
     "execution_count": 34,
     "metadata": {},
     "output_type": "execute_result"
    }
   ],
   "source": [
    "avengers"
   ]
  },
  {
   "cell_type": "code",
   "execution_count": 35,
   "id": "172af931",
   "metadata": {},
   "outputs": [
    {
     "data": {
      "text/plain": [
       "['dr.strange',\n",
       " 'wanda',\n",
       " ['captain', 'hawkeye', 'hawkeye', 'ironman', 'wanda', 'antman']]"
      ]
     },
     "execution_count": 35,
     "metadata": {},
     "output_type": "execute_result"
    }
   ],
   "source": [
    "marvel"
   ]
  },
  {
   "cell_type": "code",
   "execution_count": 36,
   "id": "cd809fe6",
   "metadata": {},
   "outputs": [
    {
     "data": {
      "text/plain": [
       "['captain', 'hawkeye', 'hawkeye', 'ironman', 'wanda', 'antman']"
      ]
     },
     "execution_count": 36,
     "metadata": {},
     "output_type": "execute_result"
    }
   ],
   "source": [
    "hero"
   ]
  },
  {
   "cell_type": "code",
   "execution_count": 37,
   "id": "7902506a",
   "metadata": {},
   "outputs": [],
   "source": [
    "avengers = ['wanda', 'ironman', 'hawkeye', 'captain']"
   ]
  },
  {
   "cell_type": "code",
   "execution_count": 38,
   "id": "0f601b99",
   "metadata": {},
   "outputs": [],
   "source": [
    "hero = avengers.copy()"
   ]
  },
  {
   "cell_type": "code",
   "execution_count": 39,
   "id": "644ff5dd",
   "metadata": {},
   "outputs": [
    {
     "data": {
      "text/plain": [
       "['wanda', 'ironman', 'hawkeye', 'captain']"
      ]
     },
     "execution_count": 39,
     "metadata": {},
     "output_type": "execute_result"
    }
   ],
   "source": [
    "avengers"
   ]
  },
  {
   "cell_type": "code",
   "execution_count": 40,
   "id": "1286ff60",
   "metadata": {},
   "outputs": [
    {
     "data": {
      "text/plain": [
       "['wanda', 'ironman', 'hawkeye', 'captain']"
      ]
     },
     "execution_count": 40,
     "metadata": {},
     "output_type": "execute_result"
    }
   ],
   "source": [
    "hero"
   ]
  },
  {
   "cell_type": "code",
   "execution_count": 41,
   "id": "d1485a47",
   "metadata": {},
   "outputs": [],
   "source": [
    "avengers.sort()\n",
    "avengers.insert(2, \"hawkeye\")\n",
    "avengers.append(\"antman\")"
   ]
  },
  {
   "cell_type": "code",
   "execution_count": 42,
   "id": "7ee9a598",
   "metadata": {},
   "outputs": [
    {
     "data": {
      "text/plain": [
       "['captain', 'hawkeye', 'hawkeye', 'ironman', 'wanda', 'antman']"
      ]
     },
     "execution_count": 42,
     "metadata": {},
     "output_type": "execute_result"
    }
   ],
   "source": [
    "avengers"
   ]
  },
  {
   "cell_type": "code",
   "execution_count": 43,
   "id": "37defe35",
   "metadata": {},
   "outputs": [
    {
     "data": {
      "text/plain": [
       "['wanda', 'ironman', 'hawkeye', 'captain']"
      ]
     },
     "execution_count": 43,
     "metadata": {},
     "output_type": "execute_result"
    }
   ],
   "source": [
    "hero"
   ]
  },
  {
   "cell_type": "code",
   "execution_count": 44,
   "id": "849ff16a",
   "metadata": {},
   "outputs": [],
   "source": [
    "hero.clear()"
   ]
  },
  {
   "cell_type": "code",
   "execution_count": 45,
   "id": "47faaabd",
   "metadata": {},
   "outputs": [
    {
     "data": {
      "text/plain": [
       "list"
      ]
     },
     "execution_count": 45,
     "metadata": {},
     "output_type": "execute_result"
    }
   ],
   "source": [
    "type(hero)"
   ]
  },
  {
   "cell_type": "code",
   "execution_count": 46,
   "id": "2ec27c82",
   "metadata": {},
   "outputs": [
    {
     "data": {
      "text/plain": [
       "0"
      ]
     },
     "execution_count": 46,
     "metadata": {},
     "output_type": "execute_result"
    }
   ],
   "source": [
    "len(hero)"
   ]
  },
  {
   "cell_type": "code",
   "execution_count": 47,
   "id": "b4c00ce2",
   "metadata": {},
   "outputs": [
    {
     "data": {
      "text/plain": [
       "[]"
      ]
     },
     "execution_count": 47,
     "metadata": {},
     "output_type": "execute_result"
    }
   ],
   "source": [
    "hero"
   ]
  },
  {
   "cell_type": "code",
   "execution_count": null,
   "id": "ffcbda0c",
   "metadata": {},
   "outputs": [],
   "source": []
  }
 ],
 "metadata": {
  "kernelspec": {
   "display_name": "Python 3 (ipykernel)",
   "language": "python",
   "name": "python3"
  },
  "language_info": {
   "codemirror_mode": {
    "name": "ipython",
    "version": 3
   },
   "file_extension": ".py",
   "mimetype": "text/x-python",
   "name": "python",
   "nbconvert_exporter": "python",
   "pygments_lexer": "ipython3",
   "version": "3.9.7"
  }
 },
 "nbformat": 4,
 "nbformat_minor": 5
}
