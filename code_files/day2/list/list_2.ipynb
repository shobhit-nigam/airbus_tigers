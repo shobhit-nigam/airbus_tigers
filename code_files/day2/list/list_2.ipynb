{
 "cells": [
  {
   "cell_type": "code",
   "execution_count": 1,
   "id": "05a470cb",
   "metadata": {},
   "outputs": [],
   "source": [
    "avengers = [\"captain\", \"ironman\", \"thor\", \"loki\"] "
   ]
  },
  {
   "cell_type": "code",
   "execution_count": 2,
   "id": "3a4a737e",
   "metadata": {},
   "outputs": [],
   "source": [
    "avengers.append(\"wanda\")"
   ]
  },
  {
   "cell_type": "code",
   "execution_count": 3,
   "id": "0c8f1ae3",
   "metadata": {},
   "outputs": [
    {
     "data": {
      "text/plain": [
       "['captain', 'ironman', 'thor', 'loki', 'wanda']"
      ]
     },
     "execution_count": 3,
     "metadata": {},
     "output_type": "execute_result"
    }
   ],
   "source": [
    "avengers"
   ]
  },
  {
   "cell_type": "code",
   "execution_count": 4,
   "id": "0f80df71",
   "metadata": {},
   "outputs": [],
   "source": [
    "avengers[3] = \"black widow\""
   ]
  },
  {
   "cell_type": "code",
   "execution_count": 5,
   "id": "2f313f42",
   "metadata": {},
   "outputs": [
    {
     "data": {
      "text/plain": [
       "['captain', 'ironman', 'thor', 'black widow', 'wanda']"
      ]
     },
     "execution_count": 5,
     "metadata": {},
     "output_type": "execute_result"
    }
   ],
   "source": [
    "avengers"
   ]
  },
  {
   "cell_type": "code",
   "execution_count": 6,
   "id": "6bd6c8cc",
   "metadata": {},
   "outputs": [],
   "source": [
    "avengers.insert(2, \"hawkeye\")"
   ]
  },
  {
   "cell_type": "code",
   "execution_count": 7,
   "id": "9ee83244",
   "metadata": {},
   "outputs": [
    {
     "data": {
      "text/plain": [
       "['captain', 'ironman', 'hawkeye', 'thor', 'black widow', 'wanda']"
      ]
     },
     "execution_count": 7,
     "metadata": {},
     "output_type": "execute_result"
    }
   ],
   "source": [
    "avengers"
   ]
  },
  {
   "cell_type": "code",
   "execution_count": 8,
   "id": "71d2f02e",
   "metadata": {},
   "outputs": [],
   "source": [
    "africans = [\"panther\", \"dora\"]"
   ]
  },
  {
   "cell_type": "code",
   "execution_count": 9,
   "id": "609f44bc",
   "metadata": {},
   "outputs": [
    {
     "data": {
      "text/plain": [
       "['captain', 'ironman', 'hawkeye', 'thor', 'black widow', 'wanda']"
      ]
     },
     "execution_count": 9,
     "metadata": {},
     "output_type": "execute_result"
    }
   ],
   "source": [
    "avengers"
   ]
  },
  {
   "cell_type": "code",
   "execution_count": 11,
   "id": "5e06fe1b",
   "metadata": {},
   "outputs": [],
   "source": [
    "avengers.insert(0, africans)"
   ]
  },
  {
   "cell_type": "code",
   "execution_count": 12,
   "id": "5def1352",
   "metadata": {},
   "outputs": [
    {
     "data": {
      "text/plain": [
       "[['panther', 'dora'],\n",
       " 'captain',\n",
       " 'ironman',\n",
       " 'hawkeye',\n",
       " 'thor',\n",
       " 'black widow',\n",
       " 'wanda']"
      ]
     },
     "execution_count": 12,
     "metadata": {},
     "output_type": "execute_result"
    }
   ],
   "source": [
    "avengers"
   ]
  },
  {
   "cell_type": "code",
   "execution_count": 13,
   "id": "bec2915a",
   "metadata": {},
   "outputs": [],
   "source": [
    "avengers = ['captain', 'ironman', 'hawkeye', 'thor', 'black widow', 'wanda']"
   ]
  },
  {
   "cell_type": "code",
   "execution_count": 14,
   "id": "7eacb9aa",
   "metadata": {},
   "outputs": [],
   "source": [
    "avengers.extend(africans)"
   ]
  },
  {
   "cell_type": "code",
   "execution_count": 15,
   "id": "cb03f931",
   "metadata": {},
   "outputs": [
    {
     "data": {
      "text/plain": [
       "['captain',\n",
       " 'ironman',\n",
       " 'hawkeye',\n",
       " 'thor',\n",
       " 'black widow',\n",
       " 'wanda',\n",
       " 'panther',\n",
       " 'dora']"
      ]
     },
     "execution_count": 15,
     "metadata": {},
     "output_type": "execute_result"
    }
   ],
   "source": [
    "avengers"
   ]
  },
  {
   "cell_type": "code",
   "execution_count": 16,
   "id": "4e45c6d0",
   "metadata": {},
   "outputs": [],
   "source": [
    "list_y = [\"xx\", \"vv\", \"tt\"]"
   ]
  },
  {
   "cell_type": "code",
   "execution_count": 17,
   "id": "3bb8423d",
   "metadata": {},
   "outputs": [],
   "source": [
    "list_y.append(\"dd\")"
   ]
  },
  {
   "cell_type": "code",
   "execution_count": 18,
   "id": "29dd5848",
   "metadata": {},
   "outputs": [
    {
     "data": {
      "text/plain": [
       "['xx', 'vv', 'tt', 'dd']"
      ]
     },
     "execution_count": 18,
     "metadata": {},
     "output_type": "execute_result"
    }
   ],
   "source": [
    "list_y"
   ]
  },
  {
   "cell_type": "code",
   "execution_count": 19,
   "id": "68a755df",
   "metadata": {},
   "outputs": [],
   "source": [
    "list_y.extend(\"gg\")"
   ]
  },
  {
   "cell_type": "code",
   "execution_count": 20,
   "id": "0666d33e",
   "metadata": {},
   "outputs": [
    {
     "data": {
      "text/plain": [
       "['xx', 'vv', 'tt', 'dd', 'g', 'g']"
      ]
     },
     "execution_count": 20,
     "metadata": {},
     "output_type": "execute_result"
    }
   ],
   "source": [
    "list_y"
   ]
  },
  {
   "cell_type": "code",
   "execution_count": null,
   "id": "570b1929",
   "metadata": {},
   "outputs": [],
   "source": []
  }
 ],
 "metadata": {
  "kernelspec": {
   "display_name": "Python 3 (ipykernel)",
   "language": "python",
   "name": "python3"
  },
  "language_info": {
   "codemirror_mode": {
    "name": "ipython",
    "version": 3
   },
   "file_extension": ".py",
   "mimetype": "text/x-python",
   "name": "python",
   "nbconvert_exporter": "python",
   "pygments_lexer": "ipython3",
   "version": "3.9.7"
  }
 },
 "nbformat": 4,
 "nbformat_minor": 5
}
