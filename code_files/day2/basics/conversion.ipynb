{
 "cells": [
  {
   "cell_type": "code",
   "execution_count": 1,
   "id": "00ba863a",
   "metadata": {},
   "outputs": [],
   "source": [
    "data_a = 451\n",
    "\n",
    "data_b = \"451\""
   ]
  },
  {
   "cell_type": "code",
   "execution_count": 3,
   "id": "1230f258",
   "metadata": {},
   "outputs": [
    {
     "data": {
      "text/plain": [
       "150.33333333333334"
      ]
     },
     "execution_count": 3,
     "metadata": {},
     "output_type": "execute_result"
    }
   ],
   "source": [
    "int(data_b) / 3"
   ]
  },
  {
   "cell_type": "code",
   "execution_count": 4,
   "id": "b73285fa",
   "metadata": {},
   "outputs": [
    {
     "ename": "ValueError",
     "evalue": "invalid literal for int() with base 10: 'hello'",
     "output_type": "error",
     "traceback": [
      "\u001b[1;31m---------------------------------------------------------------------------\u001b[0m",
      "\u001b[1;31mValueError\u001b[0m                                Traceback (most recent call last)",
      "\u001b[1;32m~\\AppData\\Local\\Temp/ipykernel_3216/3952165420.py\u001b[0m in \u001b[0;36m<module>\u001b[1;34m\u001b[0m\n\u001b[1;32m----> 1\u001b[1;33m \u001b[0mint\u001b[0m\u001b[1;33m(\u001b[0m\u001b[1;34m\"hello\"\u001b[0m\u001b[1;33m)\u001b[0m\u001b[1;33m\u001b[0m\u001b[1;33m\u001b[0m\u001b[0m\n\u001b[0m",
      "\u001b[1;31mValueError\u001b[0m: invalid literal for int() with base 10: 'hello'"
     ]
    }
   ],
   "source": [
    "int(\"hello\")"
   ]
  },
  {
   "cell_type": "code",
   "execution_count": 5,
   "id": "7aee0637",
   "metadata": {},
   "outputs": [
    {
     "ename": "ValueError",
     "evalue": "invalid literal for int() with base 10: '45.67'",
     "output_type": "error",
     "traceback": [
      "\u001b[1;31m---------------------------------------------------------------------------\u001b[0m",
      "\u001b[1;31mValueError\u001b[0m                                Traceback (most recent call last)",
      "\u001b[1;32m~\\AppData\\Local\\Temp/ipykernel_3216/3236753885.py\u001b[0m in \u001b[0;36m<module>\u001b[1;34m\u001b[0m\n\u001b[1;32m----> 1\u001b[1;33m \u001b[0mint\u001b[0m\u001b[1;33m(\u001b[0m\u001b[1;34m\"45.67\"\u001b[0m\u001b[1;33m)\u001b[0m\u001b[1;33m\u001b[0m\u001b[1;33m\u001b[0m\u001b[0m\n\u001b[0m",
      "\u001b[1;31mValueError\u001b[0m: invalid literal for int() with base 10: '45.67'"
     ]
    }
   ],
   "source": [
    "int(\"45.67\")"
   ]
  },
  {
   "cell_type": "code",
   "execution_count": 6,
   "id": "6bae425c",
   "metadata": {},
   "outputs": [
    {
     "data": {
      "text/plain": [
       "45"
      ]
     },
     "execution_count": 6,
     "metadata": {},
     "output_type": "execute_result"
    }
   ],
   "source": [
    "int(45.67)"
   ]
  },
  {
   "cell_type": "code",
   "execution_count": 7,
   "id": "56a97065",
   "metadata": {},
   "outputs": [
    {
     "data": {
      "text/plain": [
       "45.67"
      ]
     },
     "execution_count": 7,
     "metadata": {},
     "output_type": "execute_result"
    }
   ],
   "source": [
    "float(\"45.67\")"
   ]
  },
  {
   "cell_type": "code",
   "execution_count": 8,
   "id": "e332eb0c",
   "metadata": {},
   "outputs": [],
   "source": [
    "fa = float(\"45.67\")"
   ]
  },
  {
   "cell_type": "code",
   "execution_count": 10,
   "id": "5ad19d89",
   "metadata": {},
   "outputs": [
    {
     "data": {
      "text/plain": [
       "['w', 'e', ' ', 'a', 'r', 'e', ' ', 'a', 'n', 'g', 'r', 'y']"
      ]
     },
     "execution_count": 10,
     "metadata": {},
     "output_type": "execute_result"
    }
   ],
   "source": [
    "list(\"we are angry\")"
   ]
  },
  {
   "cell_type": "code",
   "execution_count": 11,
   "id": "d6156ef9",
   "metadata": {},
   "outputs": [],
   "source": [
    "avengers = (\"ironman\", \"captain\", \"wanda\", \"thor\")"
   ]
  },
  {
   "cell_type": "code",
   "execution_count": 12,
   "id": "24d9f7c8",
   "metadata": {},
   "outputs": [
    {
     "data": {
      "text/plain": [
       "{'captain', 'ironman', 'thor', 'wanda'}"
      ]
     },
     "execution_count": 12,
     "metadata": {},
     "output_type": "execute_result"
    }
   ],
   "source": [
    "set(avengers)"
   ]
  },
  {
   "cell_type": "code",
   "execution_count": 14,
   "id": "e4a7d57a",
   "metadata": {},
   "outputs": [],
   "source": [
    "avengers = tuple(list(avengers)+ [\"hulk\"])"
   ]
  },
  {
   "cell_type": "code",
   "execution_count": 15,
   "id": "86384ce7",
   "metadata": {},
   "outputs": [
    {
     "data": {
      "text/plain": [
       "('ironman', 'captain', 'wanda', 'thor', 'hulk')"
      ]
     },
     "execution_count": 15,
     "metadata": {},
     "output_type": "execute_result"
    }
   ],
   "source": [
    "avengers"
   ]
  },
  {
   "cell_type": "code",
   "execution_count": 16,
   "id": "a2abfe0d",
   "metadata": {},
   "outputs": [
    {
     "name": "stdout",
     "output_type": "stream",
     "text": [
      "The Zen of Python, by Tim Peters\n",
      "\n",
      "Beautiful is better than ugly.\n",
      "Explicit is better than implicit.\n",
      "Simple is better than complex.\n",
      "Complex is better than complicated.\n",
      "Flat is better than nested.\n",
      "Sparse is better than dense.\n",
      "Readability counts.\n",
      "Special cases aren't special enough to break the rules.\n",
      "Although practicality beats purity.\n",
      "Errors should never pass silently.\n",
      "Unless explicitly silenced.\n",
      "In the face of ambiguity, refuse the temptation to guess.\n",
      "There should be one-- and preferably only one --obvious way to do it.\n",
      "Although that way may not be obvious at first unless you're Dutch.\n",
      "Now is better than never.\n",
      "Although never is often better than *right* now.\n",
      "If the implementation is hard to explain, it's a bad idea.\n",
      "If the implementation is easy to explain, it may be a good idea.\n",
      "Namespaces are one honking great idea -- let's do more of those!\n"
     ]
    }
   ],
   "source": [
    "import this"
   ]
  },
  {
   "cell_type": "code",
   "execution_count": null,
   "id": "744b1fe5",
   "metadata": {},
   "outputs": [],
   "source": [
    "Mr.Nigam@gmail.com \n",
    "\n",
    "99499 99239 "
   ]
  }
 ],
 "metadata": {
  "kernelspec": {
   "display_name": "Python 3 (ipykernel)",
   "language": "python",
   "name": "python3"
  },
  "language_info": {
   "codemirror_mode": {
    "name": "ipython",
    "version": 3
   },
   "file_extension": ".py",
   "mimetype": "text/x-python",
   "name": "python",
   "nbconvert_exporter": "python",
   "pygments_lexer": "ipython3",
   "version": "3.9.7"
  }
 },
 "nbformat": 4,
 "nbformat_minor": 5
}
