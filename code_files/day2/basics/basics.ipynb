{
 "cells": [
  {
   "cell_type": "code",
   "execution_count": 1,
   "id": "1994aaa3",
   "metadata": {},
   "outputs": [],
   "source": [
    "avengers = [\"ironman\", \"captain\", \"wanda\", \"thor\"]\n",
    "\n",
    "inta = 33\n",
    "\n",
    "stra = \"yoda\""
   ]
  },
  {
   "cell_type": "code",
   "execution_count": 2,
   "id": "1b18b234",
   "metadata": {},
   "outputs": [],
   "source": [
    "intb = inta + 33"
   ]
  },
  {
   "cell_type": "code",
   "execution_count": 3,
   "id": "71d0ebf9",
   "metadata": {},
   "outputs": [],
   "source": [
    "del inta"
   ]
  },
  {
   "cell_type": "code",
   "execution_count": 4,
   "id": "b37e5ef9",
   "metadata": {},
   "outputs": [
    {
     "ename": "NameError",
     "evalue": "name 'inta' is not defined",
     "output_type": "error",
     "traceback": [
      "\u001b[1;31m---------------------------------------------------------------------------\u001b[0m",
      "\u001b[1;31mNameError\u001b[0m                                 Traceback (most recent call last)",
      "\u001b[1;32m~\\AppData\\Local\\Temp/ipykernel_10160/2902027927.py\u001b[0m in \u001b[0;36m<module>\u001b[1;34m\u001b[0m\n\u001b[1;32m----> 1\u001b[1;33m \u001b[0mintb\u001b[0m \u001b[1;33m=\u001b[0m \u001b[0minta\u001b[0m \u001b[1;33m+\u001b[0m \u001b[1;36m33\u001b[0m\u001b[1;33m\u001b[0m\u001b[1;33m\u001b[0m\u001b[0m\n\u001b[0m",
      "\u001b[1;31mNameError\u001b[0m: name 'inta' is not defined"
     ]
    }
   ],
   "source": [
    "intb = inta + 33"
   ]
  },
  {
   "cell_type": "code",
   "execution_count": 5,
   "id": "06aa5458",
   "metadata": {},
   "outputs": [],
   "source": [
    "x = True"
   ]
  },
  {
   "cell_type": "code",
   "execution_count": 6,
   "id": "a575dffc",
   "metadata": {},
   "outputs": [
    {
     "name": "stdout",
     "output_type": "stream",
     "text": [
      "True\n"
     ]
    }
   ],
   "source": [
    "print(x)"
   ]
  },
  {
   "cell_type": "code",
   "execution_count": 7,
   "id": "0f3f2395",
   "metadata": {},
   "outputs": [
    {
     "data": {
      "text/plain": [
       "bool"
      ]
     },
     "execution_count": 7,
     "metadata": {},
     "output_type": "execute_result"
    }
   ],
   "source": [
    "type(x)"
   ]
  },
  {
   "cell_type": "code",
   "execution_count": 8,
   "id": "fc7742a7",
   "metadata": {},
   "outputs": [
    {
     "ename": "SyntaxError",
     "evalue": "invalid syntax (Temp/ipykernel_10160/390300739.py, line 1)",
     "output_type": "error",
     "traceback": [
      "\u001b[1;36m  File \u001b[1;32m\"C:\\Users\\Admin\\AppData\\Local\\Temp/ipykernel_10160/390300739.py\"\u001b[1;36m, line \u001b[1;32m1\u001b[0m\n\u001b[1;33m    del = 33\u001b[0m\n\u001b[1;37m        ^\u001b[0m\n\u001b[1;31mSyntaxError\u001b[0m\u001b[1;31m:\u001b[0m invalid syntax\n"
     ]
    }
   ],
   "source": [
    "del = 33"
   ]
  },
  {
   "cell_type": "code",
   "execution_count": 10,
   "id": "c5d9c841",
   "metadata": {},
   "outputs": [
    {
     "data": {
      "text/plain": [
       "'66'"
      ]
     },
     "execution_count": 10,
     "metadata": {},
     "output_type": "execute_result"
    }
   ],
   "source": [
    "str(intb)"
   ]
  },
  {
   "cell_type": "code",
   "execution_count": 11,
   "id": "38737e03",
   "metadata": {},
   "outputs": [],
   "source": [
    "avengers = [\"ironman\", \"captain\", \"wanda\", \"thor\"]"
   ]
  },
  {
   "cell_type": "code",
   "execution_count": 12,
   "id": "16de754f",
   "metadata": {},
   "outputs": [
    {
     "data": {
      "text/plain": [
       "{'captain', 'ironman', 'thor', 'wanda'}"
      ]
     },
     "execution_count": 12,
     "metadata": {},
     "output_type": "execute_result"
    }
   ],
   "source": [
    "set(avengers)"
   ]
  },
  {
   "cell_type": "code",
   "execution_count": 13,
   "id": "86e79cab",
   "metadata": {},
   "outputs": [
    {
     "data": {
      "text/plain": [
       "'yoda'"
      ]
     },
     "execution_count": 13,
     "metadata": {},
     "output_type": "execute_result"
    }
   ],
   "source": [
    "stra"
   ]
  },
  {
   "cell_type": "code",
   "execution_count": 14,
   "id": "ffd24609",
   "metadata": {},
   "outputs": [
    {
     "data": {
      "text/plain": [
       "['y', 'o', 'd', 'a']"
      ]
     },
     "execution_count": 14,
     "metadata": {},
     "output_type": "execute_result"
    }
   ],
   "source": [
    "list(stra)"
   ]
  },
  {
   "cell_type": "code",
   "execution_count": null,
   "id": "658f6b81",
   "metadata": {},
   "outputs": [],
   "source": []
  }
 ],
 "metadata": {
  "kernelspec": {
   "display_name": "Python 3 (ipykernel)",
   "language": "python",
   "name": "python3"
  },
  "language_info": {
   "codemirror_mode": {
    "name": "ipython",
    "version": 3
   },
   "file_extension": ".py",
   "mimetype": "text/x-python",
   "name": "python",
   "nbconvert_exporter": "python",
   "pygments_lexer": "ipython3",
   "version": "3.9.7"
  }
 },
 "nbformat": 4,
 "nbformat_minor": 5
}
