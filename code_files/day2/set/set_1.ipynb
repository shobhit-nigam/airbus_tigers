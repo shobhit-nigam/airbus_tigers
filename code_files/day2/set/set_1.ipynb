{
 "cells": [
  {
   "cell_type": "code",
   "execution_count": 1,
   "id": "5afade70",
   "metadata": {},
   "outputs": [],
   "source": [
    "set_a = {\"mango\", \"orange\", \"grapes\", \"jackfruit\", \"mango\", \"apple\", \"apple\"} "
   ]
  },
  {
   "cell_type": "code",
   "execution_count": 2,
   "id": "654105ed",
   "metadata": {},
   "outputs": [],
   "source": [
    "set_b = {\"water melon\", \"papaya\", \"banana\", \"mango\", \"apple\"}"
   ]
  },
  {
   "cell_type": "code",
   "execution_count": 3,
   "id": "e80c52c6",
   "metadata": {},
   "outputs": [
    {
     "data": {
      "text/plain": [
       "set"
      ]
     },
     "execution_count": 3,
     "metadata": {},
     "output_type": "execute_result"
    }
   ],
   "source": [
    "type(set_a)"
   ]
  },
  {
   "cell_type": "code",
   "execution_count": 4,
   "id": "044ffe14",
   "metadata": {},
   "outputs": [
    {
     "data": {
      "text/plain": [
       "{'apple', 'grapes', 'jackfruit', 'mango', 'orange'}"
      ]
     },
     "execution_count": 4,
     "metadata": {},
     "output_type": "execute_result"
    }
   ],
   "source": [
    "set_a"
   ]
  },
  {
   "cell_type": "code",
   "execution_count": 5,
   "id": "c3f648fe",
   "metadata": {},
   "outputs": [
    {
     "data": {
      "text/plain": [
       "{'apple', 'banana', 'mango', 'papaya', 'water melon'}"
      ]
     },
     "execution_count": 5,
     "metadata": {},
     "output_type": "execute_result"
    }
   ],
   "source": [
    "set_b"
   ]
  },
  {
   "cell_type": "code",
   "execution_count": 6,
   "id": "7c5b1da7",
   "metadata": {},
   "outputs": [
    {
     "ename": "TypeError",
     "evalue": "'set' object is not subscriptable",
     "output_type": "error",
     "traceback": [
      "\u001b[1;31m---------------------------------------------------------------------------\u001b[0m",
      "\u001b[1;31mTypeError\u001b[0m                                 Traceback (most recent call last)",
      "\u001b[1;32m~\\AppData\\Local\\Temp/ipykernel_6088/307893804.py\u001b[0m in \u001b[0;36m<module>\u001b[1;34m\u001b[0m\n\u001b[1;32m----> 1\u001b[1;33m \u001b[0mset_b\u001b[0m\u001b[1;33m[\u001b[0m\u001b[1;36m2\u001b[0m\u001b[1;33m]\u001b[0m\u001b[1;33m\u001b[0m\u001b[1;33m\u001b[0m\u001b[0m\n\u001b[0m",
      "\u001b[1;31mTypeError\u001b[0m: 'set' object is not subscriptable"
     ]
    }
   ],
   "source": [
    "set_b[2]"
   ]
  },
  {
   "cell_type": "code",
   "execution_count": 7,
   "id": "eb0f24ff",
   "metadata": {},
   "outputs": [],
   "source": [
    "set_b.add('kiwi')"
   ]
  },
  {
   "cell_type": "code",
   "execution_count": 8,
   "id": "2804ad14",
   "metadata": {},
   "outputs": [
    {
     "data": {
      "text/plain": [
       "{'apple', 'banana', 'kiwi', 'mango', 'papaya', 'water melon'}"
      ]
     },
     "execution_count": 8,
     "metadata": {},
     "output_type": "execute_result"
    }
   ],
   "source": [
    "set_b"
   ]
  },
  {
   "cell_type": "code",
   "execution_count": 9,
   "id": "84e5301a",
   "metadata": {},
   "outputs": [
    {
     "data": {
      "text/plain": [
       "{'apple',\n",
       " 'banana',\n",
       " 'grapes',\n",
       " 'jackfruit',\n",
       " 'kiwi',\n",
       " 'mango',\n",
       " 'orange',\n",
       " 'papaya',\n",
       " 'water melon'}"
      ]
     },
     "execution_count": 9,
     "metadata": {},
     "output_type": "execute_result"
    }
   ],
   "source": [
    "#union , all\n",
    "set_a | set_b "
   ]
  },
  {
   "cell_type": "code",
   "execution_count": 10,
   "id": "71c36101",
   "metadata": {},
   "outputs": [
    {
     "data": {
      "text/plain": [
       "{'apple', 'mango'}"
      ]
     },
     "execution_count": 10,
     "metadata": {},
     "output_type": "execute_result"
    }
   ],
   "source": [
    "# intersection, common\n",
    "set_a & set_b"
   ]
  },
  {
   "cell_type": "code",
   "execution_count": 11,
   "id": "675326d6",
   "metadata": {},
   "outputs": [
    {
     "data": {
      "text/plain": [
       "{'grapes', 'jackfruit', 'orange'}"
      ]
     },
     "execution_count": 11,
     "metadata": {},
     "output_type": "execute_result"
    }
   ],
   "source": [
    "# difference \n",
    "set_a - set_b"
   ]
  },
  {
   "cell_type": "code",
   "execution_count": 12,
   "id": "9309f230",
   "metadata": {},
   "outputs": [
    {
     "data": {
      "text/plain": [
       "{'banana', 'grapes', 'jackfruit', 'kiwi', 'orange', 'papaya', 'water melon'}"
      ]
     },
     "execution_count": 12,
     "metadata": {},
     "output_type": "execute_result"
    }
   ],
   "source": [
    "# sym diff, uncommon\n",
    "set_a ^ set_b "
   ]
  },
  {
   "cell_type": "code",
   "execution_count": 13,
   "id": "5c7064ec",
   "metadata": {},
   "outputs": [
    {
     "ename": "TypeError",
     "evalue": "unhashable type: 'list'",
     "output_type": "error",
     "traceback": [
      "\u001b[1;31m---------------------------------------------------------------------------\u001b[0m",
      "\u001b[1;31mTypeError\u001b[0m                                 Traceback (most recent call last)",
      "\u001b[1;32m~\\AppData\\Local\\Temp/ipykernel_6088/3081812521.py\u001b[0m in \u001b[0;36m<module>\u001b[1;34m\u001b[0m\n\u001b[0;32m      3\u001b[0m \u001b[1;33m\u001b[0m\u001b[0m\n\u001b[0;32m      4\u001b[0m \u001b[1;33m\u001b[0m\u001b[0m\n\u001b[1;32m----> 5\u001b[1;33m \u001b[0msetx\u001b[0m \u001b[1;33m=\u001b[0m \u001b[1;33m{\u001b[0m\u001b[1;34m\"hi\"\u001b[0m\u001b[1;33m,\u001b[0m \u001b[1;34m\"hello\"\u001b[0m\u001b[1;33m,\u001b[0m \u001b[0mlistx\u001b[0m\u001b[1;33m,\u001b[0m \u001b[0mlisty\u001b[0m\u001b[1;33m}\u001b[0m\u001b[1;33m\u001b[0m\u001b[1;33m\u001b[0m\u001b[0m\n\u001b[0m\u001b[0;32m      6\u001b[0m \u001b[1;33m\u001b[0m\u001b[0m\n\u001b[0;32m      7\u001b[0m \u001b[0mlisty\u001b[0m\u001b[1;33m.\u001b[0m\u001b[0mappend\u001b[0m\u001b[1;33m(\u001b[0m\u001b[1;36m78\u001b[0m\u001b[1;33m)\u001b[0m\u001b[1;33m\u001b[0m\u001b[1;33m\u001b[0m\u001b[0m\n",
      "\u001b[1;31mTypeError\u001b[0m: unhashable type: 'list'"
     ]
    }
   ],
   "source": [
    "listx = [23, 56, 78]\n",
    "listy = [23, 56]\n",
    "\n",
    "\n",
    "setx = {\"hi\", \"hello\", listx, listy}\n",
    "\n",
    "listy.append(78)"
   ]
  },
  {
   "cell_type": "code",
   "execution_count": 14,
   "id": "5b7c3586",
   "metadata": {},
   "outputs": [],
   "source": [
    "listx = (23, 56, 78)\n",
    "listy = (23, 56)\n",
    "\n",
    "\n",
    "setx = {\"hi\", \"hello\", listx, listy}\n"
   ]
  },
  {
   "cell_type": "code",
   "execution_count": null,
   "id": "734cb627",
   "metadata": {},
   "outputs": [],
   "source": []
  }
 ],
 "metadata": {
  "kernelspec": {
   "display_name": "Python 3 (ipykernel)",
   "language": "python",
   "name": "python3"
  },
  "language_info": {
   "codemirror_mode": {
    "name": "ipython",
    "version": 3
   },
   "file_extension": ".py",
   "mimetype": "text/x-python",
   "name": "python",
   "nbconvert_exporter": "python",
   "pygments_lexer": "ipython3",
   "version": "3.9.7"
  }
 },
 "nbformat": 4,
 "nbformat_minor": 5
}
