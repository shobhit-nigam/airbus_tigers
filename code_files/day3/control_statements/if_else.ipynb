{
 "cells": [
  {
   "cell_type": "code",
   "execution_count": 1,
   "id": "4f2797f6",
   "metadata": {},
   "outputs": [],
   "source": [
    "age = 19"
   ]
  },
  {
   "cell_type": "code",
   "execution_count": 2,
   "id": "97612faf",
   "metadata": {},
   "outputs": [
    {
     "name": "stdout",
     "output_type": "stream",
     "text": [
      "hi\n"
     ]
    }
   ],
   "source": [
    "if age < 18:\n",
    "    print(\"can not vote\")\n",
    "    print(\"hello\")\n",
    "    # logical code\n",
    "print(\"hi\")"
   ]
  },
  {
   "cell_type": "code",
   "execution_count": 3,
   "id": "805f5613",
   "metadata": {},
   "outputs": [
    {
     "name": "stdout",
     "output_type": "stream",
     "text": [
      "you can vote\n"
     ]
    }
   ],
   "source": [
    "age = 19\n",
    "\n",
    "if age < 18:\n",
    "    print(\"can not vote\")\n",
    "    print(\"hello\")\n",
    "else:\n",
    "    print(\"you can vote\")"
   ]
  },
  {
   "cell_type": "code",
   "execution_count": 4,
   "id": "8e5c2106",
   "metadata": {},
   "outputs": [
    {
     "name": "stdout",
     "output_type": "stream",
     "text": [
      "can not vote\n",
      "hello\n"
     ]
    }
   ],
   "source": [
    "age = 16\n",
    "\n",
    "if age < 18:\n",
    "    print(\"can not vote\")\n",
    "    print(\"hello\")\n",
    "else:\n",
    "    print(\"you can vote\")"
   ]
  },
  {
   "cell_type": "code",
   "execution_count": 8,
   "id": "06425a54",
   "metadata": {
    "collapsed": true
   },
   "outputs": [
    {
     "name": "stdout",
     "output_type": "stream",
     "text": [
      "can vote\n",
      "can marry\n",
      "hey\n"
     ]
    }
   ],
   "source": [
    "age = 22\n",
    "name = \"joyal\"\n",
    "\n",
    "if age < 18:\n",
    "    print(\"can not vote\")\n",
    "    print(\"hello\")\n",
    "elif age >= 18 and age < 21:\n",
    "    print(\"can vote\")\n",
    "    print(\"can not marry\")\n",
    "elif age >= 21:\n",
    "    print(\"can vote\")\n",
    "    print(\"can marry\")    \n",
    "else:\n",
    "    print(\"what are you\")\n",
    "if name == \"joyal\":\n",
    "    print(\"hey\")"
   ]
  },
  {
   "cell_type": "code",
   "execution_count": 9,
   "id": "757db2d0",
   "metadata": {},
   "outputs": [
    {
     "name": "stdout",
     "output_type": "stream",
     "text": [
      "can vote\n",
      "can marry\n"
     ]
    }
   ],
   "source": [
    "age = 22\n",
    "name = \"joyal\"\n",
    "\n",
    "if age < 18:\n",
    "    print(\"can not vote\")\n",
    "    print(\"hello\")    \n",
    "else:\n",
    "    if age < 21:\n",
    "        print(\"can vote\")\n",
    "        print(\"can not marry\")\n",
    "    else:\n",
    "        print(\"can vote\")\n",
    "        print(\"can marry\")"
   ]
  },
  {
   "cell_type": "code",
   "execution_count": 10,
   "id": "c1104acc",
   "metadata": {},
   "outputs": [
    {
     "name": "stdout",
     "output_type": "stream",
     "text": [
      "can vote\n",
      "can marry\n"
     ]
    }
   ],
   "source": [
    "age = 22\n",
    "name = \"joyal\"\n",
    "\n",
    "if age < 18:\n",
    "    print(\"can not vote\")\n",
    "    print(\"hello\")\n",
    "elif age >= 18 and age < 21:\n",
    "    print(\"can vote\")\n",
    "    print(\"can not marry\")\n",
    "elif age >= 21:\n",
    "    print(\"can vote\")\n",
    "    print(\"can marry\")    \n",
    "elif age == 22:\n",
    "    print(\"just crossed\")"
   ]
  },
  {
   "cell_type": "code",
   "execution_count": 11,
   "id": "762be91d",
   "metadata": {},
   "outputs": [
    {
     "name": "stdout",
     "output_type": "stream",
     "text": [
      "just crossed\n"
     ]
    }
   ],
   "source": [
    "age = 22\n",
    "name = \"joyal\"\n",
    "\n",
    "if age < 18:\n",
    "    print(\"can not vote\")\n",
    "    print(\"hello\")\n",
    "elif age >= 18 and age < 21:\n",
    "    print(\"can vote\")\n",
    "    print(\"can not marry\")\n",
    "elif age == 22:\n",
    "    print(\"just crossed\")\n",
    "elif age >= 21:\n",
    "    print(\"can vote\")\n",
    "    print(\"can marry\")    "
   ]
  },
  {
   "cell_type": "code",
   "execution_count": 13,
   "id": "169c9036",
   "metadata": {},
   "outputs": [
    {
     "name": "stdout",
     "output_type": "stream",
     "text": [
      "hello\n"
     ]
    }
   ],
   "source": [
    "if 10:\n",
    "    print(\"hello\")"
   ]
  },
  {
   "cell_type": "code",
   "execution_count": 14,
   "id": "173b5f87",
   "metadata": {},
   "outputs": [],
   "source": [
    "listx = [23, 6, 9, 10]"
   ]
  },
  {
   "cell_type": "code",
   "execution_count": 16,
   "id": "10c98022",
   "metadata": {},
   "outputs": [
    {
     "name": "stdout",
     "output_type": "stream",
     "text": [
      "9\n"
     ]
    }
   ],
   "source": [
    "if len(listx) > 9 or listx[2] == 9:\n",
    "    print(\"9\")\n",
    "else:\n",
    "    print(\"small list\")"
   ]
  },
  {
   "cell_type": "code",
   "execution_count": 17,
   "id": "25d61daf",
   "metadata": {},
   "outputs": [
    {
     "name": "stdout",
     "output_type": "stream",
     "text": [
      "9\n"
     ]
    }
   ],
   "source": [
    "if listx:\n",
    "    print(\"9\")\n",
    "else:\n",
    "    print(\"small list\")"
   ]
  },
  {
   "cell_type": "code",
   "execution_count": 19,
   "id": "086ec48c",
   "metadata": {},
   "outputs": [],
   "source": [
    "if not age:\n",
    "    print(\"hi\")"
   ]
  },
  {
   "cell_type": "code",
   "execution_count": 20,
   "id": "29668ed3",
   "metadata": {},
   "outputs": [],
   "source": [
    "if age == 0:\n",
    "    print(\"hi\")"
   ]
  },
  {
   "cell_type": "code",
   "execution_count": null,
   "id": "56904ff4",
   "metadata": {},
   "outputs": [],
   "source": []
  }
 ],
 "metadata": {
  "kernelspec": {
   "display_name": "Python 3 (ipykernel)",
   "language": "python",
   "name": "python3"
  },
  "language_info": {
   "codemirror_mode": {
    "name": "ipython",
    "version": 3
   },
   "file_extension": ".py",
   "mimetype": "text/x-python",
   "name": "python",
   "nbconvert_exporter": "python",
   "pygments_lexer": "ipython3",
   "version": "3.9.7"
  }
 },
 "nbformat": 4,
 "nbformat_minor": 5
}
