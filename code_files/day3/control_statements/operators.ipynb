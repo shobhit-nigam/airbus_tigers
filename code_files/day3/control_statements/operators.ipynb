{
 "cells": [
  {
   "cell_type": "code",
   "execution_count": 1,
   "id": "229908c2",
   "metadata": {},
   "outputs": [],
   "source": [
    "listx = [\"aa\", \"yy\", \"tt\", \"cc\", \"ii\", \"pp\"]"
   ]
  },
  {
   "cell_type": "code",
   "execution_count": 2,
   "id": "914cee8a",
   "metadata": {},
   "outputs": [
    {
     "data": {
      "text/plain": [
       "0"
      ]
     },
     "execution_count": 2,
     "metadata": {},
     "output_type": "execute_result"
    }
   ],
   "source": [
    "listx.count(\"rr\")"
   ]
  },
  {
   "cell_type": "code",
   "execution_count": 3,
   "id": "47687a29",
   "metadata": {},
   "outputs": [
    {
     "data": {
      "text/plain": [
       "False"
      ]
     },
     "execution_count": 3,
     "metadata": {},
     "output_type": "execute_result"
    }
   ],
   "source": [
    "\"rr\" in listx"
   ]
  },
  {
   "cell_type": "code",
   "execution_count": 4,
   "id": "48d53156",
   "metadata": {},
   "outputs": [
    {
     "data": {
      "text/plain": [
       "False"
      ]
     },
     "execution_count": 4,
     "metadata": {},
     "output_type": "execute_result"
    }
   ],
   "source": [
    "\"e\" in \"world\""
   ]
  },
  {
   "cell_type": "code",
   "execution_count": 5,
   "id": "57910c77",
   "metadata": {},
   "outputs": [],
   "source": [
    "char = \"u\""
   ]
  },
  {
   "cell_type": "code",
   "execution_count": 6,
   "id": "70f69e58",
   "metadata": {},
   "outputs": [
    {
     "name": "stdout",
     "output_type": "stream",
     "text": [
      "its a vowel\n"
     ]
    }
   ],
   "source": [
    "if char in [\"a\", \"e\", \"i\", \"o\", \"u\"]:\n",
    "    print(\"its a vowel\")\n",
    "else:\n",
    "    print(\"it is not a vowel\")"
   ]
  },
  {
   "cell_type": "code",
   "execution_count": 7,
   "id": "8b20f42c",
   "metadata": {},
   "outputs": [
    {
     "data": {
      "text/plain": [
       "False"
      ]
     },
     "execution_count": 7,
     "metadata": {},
     "output_type": "execute_result"
    }
   ],
   "source": [
    "type(listx) is set"
   ]
  },
  {
   "cell_type": "code",
   "execution_count": 8,
   "id": "6d40f192",
   "metadata": {},
   "outputs": [
    {
     "data": {
      "text/plain": [
       "True"
      ]
     },
     "execution_count": 8,
     "metadata": {},
     "output_type": "execute_result"
    }
   ],
   "source": [
    "type(listx) is list"
   ]
  },
  {
   "cell_type": "code",
   "execution_count": 9,
   "id": "0ad327d8",
   "metadata": {},
   "outputs": [
    {
     "data": {
      "text/plain": [
       "True"
      ]
     },
     "execution_count": 9,
     "metadata": {},
     "output_type": "execute_result"
    }
   ],
   "source": [
    "type(listx) is not set"
   ]
  },
  {
   "cell_type": "code",
   "execution_count": 10,
   "id": "2704d94e",
   "metadata": {},
   "outputs": [],
   "source": [
    "place = \"world\""
   ]
  },
  {
   "cell_type": "code",
   "execution_count": 11,
   "id": "3030ff45",
   "metadata": {},
   "outputs": [
    {
     "data": {
      "text/plain": [
       "True"
      ]
     },
     "execution_count": 11,
     "metadata": {},
     "output_type": "execute_result"
    }
   ],
   "source": [
    "place[0] == \"w\""
   ]
  },
  {
   "cell_type": "code",
   "execution_count": 12,
   "id": "8123bc49",
   "metadata": {},
   "outputs": [
    {
     "data": {
      "text/plain": [
       "True"
      ]
     },
     "execution_count": 12,
     "metadata": {},
     "output_type": "execute_result"
    }
   ],
   "source": [
    "place.startswith(\"w\")"
   ]
  },
  {
   "cell_type": "code",
   "execution_count": 13,
   "id": "b35e4d43",
   "metadata": {},
   "outputs": [
    {
     "data": {
      "text/plain": [
       "True"
      ]
     },
     "execution_count": 13,
     "metadata": {},
     "output_type": "execute_result"
    }
   ],
   "source": [
    "place.startswith(\"wo\")"
   ]
  },
  {
   "cell_type": "code",
   "execution_count": 14,
   "id": "9e9c7888",
   "metadata": {},
   "outputs": [
    {
     "data": {
      "text/plain": [
       "False"
      ]
     },
     "execution_count": 14,
     "metadata": {},
     "output_type": "execute_result"
    }
   ],
   "source": [
    "place.startswith(\"wa\")"
   ]
  },
  {
   "cell_type": "code",
   "execution_count": 15,
   "id": "9eac1a88",
   "metadata": {},
   "outputs": [
    {
     "name": "stdout",
     "output_type": "stream",
     "text": [
      "Help on built-in function startswith:\n",
      "\n",
      "startswith(...) method of builtins.str instance\n",
      "    S.startswith(prefix[, start[, end]]) -> bool\n",
      "    \n",
      "    Return True if S starts with the specified prefix, False otherwise.\n",
      "    With optional start, test S beginning at that position.\n",
      "    With optional end, stop comparing S at that position.\n",
      "    prefix can also be a tuple of strings to try.\n",
      "\n"
     ]
    }
   ],
   "source": [
    "help(place.startswith)"
   ]
  },
  {
   "cell_type": "code",
   "execution_count": 17,
   "id": "4e1c99fb",
   "metadata": {},
   "outputs": [
    {
     "data": {
      "text/plain": [
       "True"
      ]
     },
     "execution_count": 17,
     "metadata": {},
     "output_type": "execute_result"
    }
   ],
   "source": [
    "place.startswith(\"or\", 1)"
   ]
  },
  {
   "cell_type": "code",
   "execution_count": 18,
   "id": "026339bc",
   "metadata": {},
   "outputs": [],
   "source": [
    "place = \"its a lovely world\""
   ]
  },
  {
   "cell_type": "code",
   "execution_count": 19,
   "id": "ef82482c",
   "metadata": {},
   "outputs": [
    {
     "data": {
      "text/plain": [
       "True"
      ]
     },
     "execution_count": 19,
     "metadata": {},
     "output_type": "execute_result"
    }
   ],
   "source": [
    "place.startswith(\"love\", 6)"
   ]
  },
  {
   "cell_type": "code",
   "execution_count": 21,
   "id": "d69f1bc3",
   "metadata": {},
   "outputs": [
    {
     "name": "stdout",
     "output_type": "stream",
     "text": [
      "Help on built-in function insert:\n",
      "\n",
      "insert(index, object, /) method of builtins.list instance\n",
      "    Insert object before index.\n",
      "\n"
     ]
    }
   ],
   "source": [
    "help(listx.insert)"
   ]
  },
  {
   "cell_type": "code",
   "execution_count": 23,
   "id": "e023a233",
   "metadata": {},
   "outputs": [
    {
     "data": {
      "text/plain": [
       "False"
      ]
     },
     "execution_count": 23,
     "metadata": {},
     "output_type": "execute_result"
    }
   ],
   "source": [
    "place.startswith(\"love\", 4, 12)"
   ]
  },
  {
   "cell_type": "code",
   "execution_count": 1,
   "id": "207d327c",
   "metadata": {},
   "outputs": [],
   "source": [
    "x = 10"
   ]
  },
  {
   "cell_type": "code",
   "execution_count": 2,
   "id": "94ca1d1a",
   "metadata": {},
   "outputs": [],
   "source": [
    "x = x + 2\n",
    "\n",
    "x += 2"
   ]
  },
  {
   "cell_type": "code",
   "execution_count": 3,
   "id": "9b579917",
   "metadata": {},
   "outputs": [
    {
     "data": {
      "text/plain": [
       "14"
      ]
     },
     "execution_count": 3,
     "metadata": {},
     "output_type": "execute_result"
    }
   ],
   "source": [
    "x"
   ]
  },
  {
   "cell_type": "code",
   "execution_count": null,
   "id": "1d7e9a13",
   "metadata": {},
   "outputs": [],
   "source": []
  }
 ],
 "metadata": {
  "kernelspec": {
   "display_name": "Python 3 (ipykernel)",
   "language": "python",
   "name": "python3"
  },
  "language_info": {
   "codemirror_mode": {
    "name": "ipython",
    "version": 3
   },
   "file_extension": ".py",
   "mimetype": "text/x-python",
   "name": "python",
   "nbconvert_exporter": "python",
   "pygments_lexer": "ipython3",
   "version": "3.9.7"
  }
 },
 "nbformat": 4,
 "nbformat_minor": 5
}
