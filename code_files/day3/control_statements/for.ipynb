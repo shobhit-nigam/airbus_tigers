{
 "cells": [
  {
   "cell_type": "code",
   "execution_count": 1,
   "id": "73ff35ea",
   "metadata": {},
   "outputs": [],
   "source": [
    "listx = [\"aa\", \"cc\", \"rr\", \"jj\", \"aa\", \"ww\", \"jj\", \"aa\", \"ii\"]"
   ]
  },
  {
   "cell_type": "code",
   "execution_count": 2,
   "id": "404c3599",
   "metadata": {},
   "outputs": [
    {
     "name": "stdout",
     "output_type": "stream",
     "text": [
      "val = aa\n",
      "val = cc\n",
      "val = rr\n",
      "val = jj\n",
      "val = aa\n",
      "val = ww\n",
      "val = jj\n",
      "val = aa\n",
      "val = ii\n"
     ]
    }
   ],
   "source": [
    "for val in listx:\n",
    "    print(\"val =\", val)"
   ]
  },
  {
   "cell_type": "code",
   "execution_count": 3,
   "id": "70cc729a",
   "metadata": {},
   "outputs": [],
   "source": [
    "avengers = [\"captain\", \"ironman\", \"thor\", \"loki\"]"
   ]
  },
  {
   "cell_type": "code",
   "execution_count": 4,
   "id": "deb94a19",
   "metadata": {},
   "outputs": [
    {
     "name": "stdout",
     "output_type": "stream",
     "text": [
      "name = captain\n",
      "name = ironman\n",
      "name = thor\n",
      "name = loki\n"
     ]
    }
   ],
   "source": [
    "for name in avengers:\n",
    "    print(\"name =\", name)"
   ]
  },
  {
   "cell_type": "code",
   "execution_count": 5,
   "id": "b5fe296a",
   "metadata": {},
   "outputs": [
    {
     "name": "stdout",
     "output_type": "stream",
     "text": [
      "ironman\n",
      "thor\n",
      "loki\n"
     ]
    }
   ],
   "source": [
    "for name in avengers:\n",
    "    if \"o\" in name:\n",
    "        print(name)"
   ]
  },
  {
   "cell_type": "code",
   "execution_count": 6,
   "id": "8d4170fd",
   "metadata": {},
   "outputs": [
    {
     "name": "stdout",
     "output_type": "stream",
     "text": [
      "ironman\n"
     ]
    }
   ],
   "source": [
    "for name in avengers:\n",
    "    if \"man\" in name:\n",
    "        print(name)"
   ]
  },
  {
   "cell_type": "code",
   "execution_count": 7,
   "id": "7ef14b58",
   "metadata": {},
   "outputs": [],
   "source": [
    "grades = [34, 78, 65, 42, 79, 22, 59]"
   ]
  },
  {
   "cell_type": "code",
   "execution_count": 8,
   "id": "b94bddc9",
   "metadata": {},
   "outputs": [
    {
     "name": "stdout",
     "output_type": "stream",
     "text": [
      "fail\n",
      "pass\n",
      "pass\n",
      "pass\n",
      "pass\n",
      "fail\n",
      "pass\n"
     ]
    }
   ],
   "source": [
    "for n in grades:\n",
    "    if n > 35:\n",
    "        print(\"pass\")\n",
    "    else:\n",
    "        print(\"fail\")"
   ]
  },
  {
   "cell_type": "code",
   "execution_count": 9,
   "id": "9e0d0a66",
   "metadata": {},
   "outputs": [
    {
     "name": "stdout",
     "output_type": "stream",
     "text": [
      "pass\n",
      "pass\n",
      "pass\n",
      "pass\n",
      "pass\n",
      "fail\n",
      "pass\n"
     ]
    }
   ],
   "source": [
    "for n in grades:\n",
    "    if (n + n*0.1) >= 35 :\n",
    "        print(\"pass\")\n",
    "    else:\n",
    "        print(\"fail\")"
   ]
  },
  {
   "cell_type": "code",
   "execution_count": 11,
   "id": "f1678de7",
   "metadata": {},
   "outputs": [
    {
     "name": "stdout",
     "output_type": "stream",
     "text": [
      "fail\n",
      "pass\n",
      "pass\n",
      "pass\n",
      "pass\n",
      "fail\n",
      "pass\n"
     ]
    }
   ],
   "source": [
    "for n in grades:\n",
    "    if n >= 35 :\n",
    "        print(\"pass\")\n",
    "    else:\n",
    "        print(\"fail\")"
   ]
  },
  {
   "cell_type": "code",
   "execution_count": 15,
   "id": "d96a527d",
   "metadata": {},
   "outputs": [],
   "source": [
    "week1 = [\"y\", \"n\", \"n\", \"n\", \"n\"]"
   ]
  },
  {
   "cell_type": "code",
   "execution_count": 17,
   "id": "aefafeb0",
   "metadata": {},
   "outputs": [
    {
     "name": "stdout",
     "output_type": "stream",
     "text": [
      "come & collect your resignation\n"
     ]
    }
   ],
   "source": [
    "count = 0\n",
    "\n",
    "for presence in week1:\n",
    "    if presence == \"y\":\n",
    "        count = count + 1\n",
    "        \n",
    "if count <= 1:\n",
    "    print(\"come & collect your resignation\")\n",
    "elif count < 3:\n",
    "    print(\"need to come 3 days in the next week\")\n",
    "else:\n",
    "    print(\"need to come 2 days in the next week\")"
   ]
  },
  {
   "cell_type": "code",
   "execution_count": 18,
   "id": "e239e988",
   "metadata": {},
   "outputs": [
    {
     "name": "stdout",
     "output_type": "stream",
     "text": [
      "i = 1\n",
      "i = 2\n",
      "i = 3\n",
      "i = 4\n"
     ]
    }
   ],
   "source": [
    "for i in range(1, 5):\n",
    "    print(\"i =\", i)"
   ]
  },
  {
   "cell_type": "code",
   "execution_count": 19,
   "id": "c33d2bef",
   "metadata": {},
   "outputs": [
    {
     "name": "stdout",
     "output_type": "stream",
     "text": [
      "i = 5\n",
      "i = 4\n",
      "i = 3\n",
      "i = 2\n"
     ]
    }
   ],
   "source": [
    "for i in range(5, 1, -1):\n",
    "    print(\"i =\", i)"
   ]
  },
  {
   "cell_type": "code",
   "execution_count": null,
   "id": "2e8c50f1",
   "metadata": {},
   "outputs": [],
   "source": [
    "week1 = [\"y\", \"y\", \"y\", \"n\", \"n\"]\n",
    "\n",
    "for i in range(len(week1)):\n",
    "    print(\"i =\", i) "
   ]
  },
  {
   "cell_type": "code",
   "execution_count": 22,
   "id": "c8cd0cee",
   "metadata": {},
   "outputs": [],
   "source": [
    "week_a = [\"y\", \"y\", \"y\", \"n\", \"n\"]\n",
    "\n",
    "if week_a[0]==\"y\" and week_a[1] == \"y\" and week_a[2] == \"y\":\n",
    "    week_b = [\"n\", \"n\", \"n\", \"y\", \"y\"]\n",
    "else:\n",
    "    week_b = [\"y\", \"y\", \"y\", \"n\", \"n\"]"
   ]
  },
  {
   "cell_type": "code",
   "execution_count": 21,
   "id": "92f1b216",
   "metadata": {},
   "outputs": [
    {
     "name": "stdout",
     "output_type": "stream",
     "text": [
      "i = 0\n",
      "i = 1\n",
      "i = 2\n",
      "i = 3\n",
      "i = 4\n"
     ]
    }
   ],
   "source": [
    "for i in range(5):\n",
    "    print(\"i =\", i)"
   ]
  },
  {
   "cell_type": "code",
   "execution_count": null,
   "id": "80e0eb76",
   "metadata": {},
   "outputs": [],
   "source": [
    "for i in range(len(week_a)):\n",
    "    print(\"i =\", i) "
   ]
  },
  {
   "cell_type": "code",
   "execution_count": 23,
   "id": "8c811f2a",
   "metadata": {},
   "outputs": [
    {
     "name": "stdout",
     "output_type": "stream",
     "text": [
      "y\n",
      "y\n",
      "y\n",
      "n\n",
      "n\n"
     ]
    }
   ],
   "source": [
    "week_a = [\"y\", \"y\", \"y\", \"n\", \"n\"]\n",
    "\n",
    "for i in range(5):\n",
    "    print(week_a[i]) "
   ]
  },
  {
   "cell_type": "code",
   "execution_count": 24,
   "id": "2449c39a",
   "metadata": {},
   "outputs": [
    {
     "name": "stdout",
     "output_type": "stream",
     "text": [
      "came on day 1\n",
      "came on day 2\n",
      "came on day 5\n"
     ]
    }
   ],
   "source": [
    "week_a = [\"y\", \"y\", \"n\", \"n\", \"y\"]\n",
    "\n",
    "for i in range(5):\n",
    "    if week_a[i] == \"y\":\n",
    "        print(\"came on day\", i+1)"
   ]
  },
  {
   "cell_type": "code",
   "execution_count": 26,
   "id": "05b2bb56",
   "metadata": {},
   "outputs": [
    {
     "name": "stdout",
     "output_type": "stream",
     "text": [
      "came on day 1\n",
      "came on day 2\n",
      "came on day 6\n",
      "came on day 7\n"
     ]
    }
   ],
   "source": [
    "week_a = [\"y\", \"y\", \"n\", \"n\", \"n\", \"y\", \"y\"]\n",
    "\n",
    "for i in range(len(week_a)):\n",
    "    if week_a[i] == \"y\":\n",
    "        print(\"came on day\", i+1)"
   ]
  },
  {
   "cell_type": "code",
   "execution_count": 27,
   "id": "62161b51",
   "metadata": {},
   "outputs": [
    {
     "name": "stdout",
     "output_type": "stream",
     "text": [
      "came on day 6\n",
      "came on day 7\n"
     ]
    }
   ],
   "source": [
    "week_a = [\"y\", \"y\", \"n\", \"n\", \"n\", \"y\", \"y\"]\n",
    "\n",
    "for i in range(5, len(week_a)):\n",
    "    if week_a[i] == \"y\":\n",
    "        print(\"came on day\", i+1)"
   ]
  },
  {
   "cell_type": "code",
   "execution_count": 30,
   "id": "f90e1004",
   "metadata": {},
   "outputs": [],
   "source": [
    "week_a = (\"y\", \"y\", \"n\", \"n\", \"n\", \"y\", \"y\")\n",
    "week_b = []\n",
    "\n",
    "for i in range(len(week_a)):\n",
    "    if week_a[i] == \"y\":\n",
    "        week_b.append(\"n\")\n",
    "    else:\n",
    "        week_b.append(\"y\")"
   ]
  },
  {
   "cell_type": "code",
   "execution_count": 31,
   "id": "180975fe",
   "metadata": {},
   "outputs": [
    {
     "data": {
      "text/plain": [
       "['n', 'n', 'y', 'y', 'y', 'n', 'n']"
      ]
     },
     "execution_count": 31,
     "metadata": {},
     "output_type": "execute_result"
    }
   ],
   "source": [
    "week_b"
   ]
  },
  {
   "cell_type": "code",
   "execution_count": 36,
   "id": "8d807e85",
   "metadata": {},
   "outputs": [],
   "source": [
    "week_a = (\"y\", \"y\", \"n\", \"n\", \"n\", \"yes\", \"y\")\n",
    "week_b = []\n",
    "\n",
    "for i in range(len(week_a)):\n",
    "    if week_a[i].lower() == \"y\" or week_a[i].lower() == \"yes\":\n",
    "        week_b.append(\"n\")\n",
    "    else:\n",
    "        week_b.append(\"y\")"
   ]
  },
  {
   "cell_type": "code",
   "execution_count": 35,
   "id": "30a40fb7",
   "metadata": {},
   "outputs": [
    {
     "data": {
      "text/plain": [
       "['n', 'n', 'y', 'y', 'y', 'n', 'n']"
      ]
     },
     "execution_count": 35,
     "metadata": {},
     "output_type": "execute_result"
    }
   ],
   "source": [
    "week_b"
   ]
  },
  {
   "cell_type": "code",
   "execution_count": 39,
   "id": "edbe70f3",
   "metadata": {},
   "outputs": [
    {
     "data": {
      "text/plain": [
       "['n', 'n', 'y', 'y', 'y', 'n', 'n']"
      ]
     },
     "execution_count": 39,
     "metadata": {},
     "output_type": "execute_result"
    }
   ],
   "source": [
    "week_a = (\"Y\", \"YES\", \"n\", \"n\", \"n\", \"yes\", \"y\")\n",
    "week_b = []\n",
    "\n",
    "for i in range(len(week_a)):\n",
    "    if \"y\" in week_a[i].lower():\n",
    "        week_b.append(\"n\")\n",
    "    else:\n",
    "        week_b.append(\"y\")\n",
    "        \n",
    "week_b"
   ]
  },
  {
   "cell_type": "code",
   "execution_count": 41,
   "id": "450f0416",
   "metadata": {},
   "outputs": [
    {
     "data": {
      "text/plain": [
       "[0, 1, 5, 6]"
      ]
     },
     "execution_count": 41,
     "metadata": {},
     "output_type": "execute_result"
    }
   ],
   "source": [
    "week_a = (\"Y\", \"YES\", \"n\", \"n\", \"n\", \"yes\", \"y\")\n",
    "day_of_week = []\n",
    "\n",
    "for i in range(len(week_a)):\n",
    "    if \"y\" in week_a[i].lower():\n",
    "        day_of_week.append(i)\n",
    "        \n",
    "day_of_week"
   ]
  },
  {
   "cell_type": "code",
   "execution_count": 42,
   "id": "136658f6",
   "metadata": {},
   "outputs": [
    {
     "data": {
      "text/plain": [
       "['mon', 'tue', 'sat', 'sun']"
      ]
     },
     "execution_count": 42,
     "metadata": {},
     "output_type": "execute_result"
    }
   ],
   "source": [
    "week_a = (\"Y\", \"YES\", \"n\", \"n\", \"n\", \"yes\", \"y\")\n",
    "day_of_week = []\n",
    "\n",
    "dict_week = {0:\"mon\", 1:\"tue\", 2:\"wed\",\n",
    "            3:\"thu\", 4:\"fri\", 5:\"sat\", 6:\"sun\"}\n",
    "\n",
    "for i in range(len(week_a)):\n",
    "    if \"y\" in week_a[i].lower():\n",
    "        day_of_week.append(dict_week[i])\n",
    "        \n",
    "day_of_week"
   ]
  },
  {
   "cell_type": "code",
   "execution_count": 43,
   "id": "98f80875",
   "metadata": {},
   "outputs": [
    {
     "name": "stdout",
     "output_type": "stream",
     "text": [
      "w\n",
      "o\n",
      "r\n",
      "l\n",
      "d\n"
     ]
    }
   ],
   "source": [
    "for char in \"world\":\n",
    "    print(char)"
   ]
  },
  {
   "cell_type": "code",
   "execution_count": 44,
   "id": "5ca8cc8f",
   "metadata": {},
   "outputs": [
    {
     "name": "stdout",
     "output_type": "stream",
     "text": [
      "bb\n",
      "ab\n",
      "yt\n",
      "gr\n",
      "ww\n",
      "aa\n"
     ]
    }
   ],
   "source": [
    "for val in {\"aa\", \"bb\", \"ww\", \"ab\", \"yt\", \"gr\"}:\n",
    "    print(val)"
   ]
  },
  {
   "cell_type": "code",
   "execution_count": 45,
   "id": "0a0097fe",
   "metadata": {},
   "outputs": [
    {
     "name": "stdout",
     "output_type": "stream",
     "text": [
      "i = 11\n",
      "i = 15\n",
      "i = 19\n",
      "i = 23\n"
     ]
    }
   ],
   "source": [
    "for i in range(11, 25, 4):\n",
    "    print(\"i =\", i)"
   ]
  },
  {
   "cell_type": "code",
   "execution_count": 46,
   "id": "3496d6af",
   "metadata": {},
   "outputs": [],
   "source": [
    "lang = \"malayalam\""
   ]
  },
  {
   "cell_type": "code",
   "execution_count": null,
   "id": "d9baca1f",
   "metadata": {},
   "outputs": [],
   "source": [
    "lang[0] == lang[-1]"
   ]
  },
  {
   "cell_type": "code",
   "execution_count": 47,
   "id": "80dea107",
   "metadata": {},
   "outputs": [
    {
     "data": {
      "text/plain": [
       "1"
      ]
     },
     "execution_count": 47,
     "metadata": {},
     "output_type": "execute_result"
    }
   ],
   "source": [
    "week1.count(\"y\")"
   ]
  },
  {
   "cell_type": "code",
   "execution_count": null,
   "id": "3b82fbae",
   "metadata": {},
   "outputs": [],
   "source": []
  }
 ],
 "metadata": {
  "kernelspec": {
   "display_name": "Python 3 (ipykernel)",
   "language": "python",
   "name": "python3"
  },
  "language_info": {
   "codemirror_mode": {
    "name": "ipython",
    "version": 3
   },
   "file_extension": ".py",
   "mimetype": "text/x-python",
   "name": "python",
   "nbconvert_exporter": "python",
   "pygments_lexer": "ipython3",
   "version": "3.9.7"
  }
 },
 "nbformat": 4,
 "nbformat_minor": 5
}
